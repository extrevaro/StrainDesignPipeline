{
 "cells": [
  {
   "cell_type": "code",
   "execution_count": 163,
   "id": "bff47368",
   "metadata": {},
   "outputs": [],
   "source": [
    "#IMPORTS\n",
    "import re\n",
    "import cobra\n",
    "import numpy as np\n",
    "import pandas as pd\n",
    "from utils.importExcelModel import *"
   ]
  },
  {
   "cell_type": "code",
   "execution_count": 164,
   "id": "b3e0850a",
   "metadata": {},
   "outputs": [
    {
     "name": "stdout",
     "output_type": "stream",
     "text": [
      "Index(['Abbreviation', 'Charged formula', 'Description', 'Compartment',\n",
      "       'Charge'],\n",
      "      dtype='object')\n",
      "Loading metabolites...\n",
      "Loading reactions...\n"
     ]
    },
    {
     "data": {
      "text/html": [
       "<h3>Objective</h3><p>1.0 Ec_biomass_iCA1273_core_59p81M = 0.7704089981544706</p><h4>Uptake</h4><table border=\"1\" class=\"dataframe\">\n",
       "  <thead>\n",
       "    <tr style=\"text-align: right;\">\n",
       "      <th>Metabolite</th>\n",
       "      <th>Reaction</th>\n",
       "      <th>Flux</th>\n",
       "      <th>C-Number</th>\n",
       "      <th>C-Flux</th>\n",
       "    </tr>\n",
       "  </thead>\n",
       "  <tbody>\n",
       "    <tr>\n",
       "      <td>ca2_e</td>\n",
       "      <td>EX_ca2_e</td>\n",
       "      <td>0.003649</td>\n",
       "      <td>0</td>\n",
       "      <td>0.00%</td>\n",
       "    </tr>\n",
       "    <tr>\n",
       "      <td>cl_e</td>\n",
       "      <td>EX_cl_e</td>\n",
       "      <td>0.003649</td>\n",
       "      <td>0</td>\n",
       "      <td>0.00%</td>\n",
       "    </tr>\n",
       "    <tr>\n",
       "      <td>cobalt2_e</td>\n",
       "      <td>EX_cobalt2_e</td>\n",
       "      <td>0.002433</td>\n",
       "      <td>0</td>\n",
       "      <td>0.00%</td>\n",
       "    </tr>\n",
       "    <tr>\n",
       "      <td>cu2_e</td>\n",
       "      <td>EX_cu2_e</td>\n",
       "      <td>0.002433</td>\n",
       "      <td>0</td>\n",
       "      <td>0.00%</td>\n",
       "    </tr>\n",
       "    <tr>\n",
       "      <td>fe2_e</td>\n",
       "      <td>EX_fe2_e</td>\n",
       "      <td>0.01129</td>\n",
       "      <td>0</td>\n",
       "      <td>0.00%</td>\n",
       "    </tr>\n",
       "    <tr>\n",
       "      <td>glc__D_e</td>\n",
       "      <td>EX_glc___D_e</td>\n",
       "      <td>8</td>\n",
       "      <td>6</td>\n",
       "      <td>98.78%</td>\n",
       "    </tr>\n",
       "    <tr>\n",
       "      <td>k_e</td>\n",
       "      <td>EX_k_e</td>\n",
       "      <td>0.1368</td>\n",
       "      <td>0</td>\n",
       "      <td>0.00%</td>\n",
       "    </tr>\n",
       "    <tr>\n",
       "      <td>mg2_e</td>\n",
       "      <td>EX_mg2_e</td>\n",
       "      <td>0.006082</td>\n",
       "      <td>0</td>\n",
       "      <td>0.00%</td>\n",
       "    </tr>\n",
       "    <tr>\n",
       "      <td>mn2_e</td>\n",
       "      <td>EX_mn2_e</td>\n",
       "      <td>0.002433</td>\n",
       "      <td>0</td>\n",
       "      <td>0.00%</td>\n",
       "    </tr>\n",
       "    <tr>\n",
       "      <td>mobd_e</td>\n",
       "      <td>EX_mobd_e</td>\n",
       "      <td>0.002433</td>\n",
       "      <td>0</td>\n",
       "      <td>0.00%</td>\n",
       "    </tr>\n",
       "    <tr>\n",
       "      <td>nh4_e</td>\n",
       "      <td>EX_nh4_e</td>\n",
       "      <td>8.195</td>\n",
       "      <td>0</td>\n",
       "      <td>0.00%</td>\n",
       "    </tr>\n",
       "    <tr>\n",
       "      <td>o2_e</td>\n",
       "      <td>EX_o2_e</td>\n",
       "      <td>15.86</td>\n",
       "      <td>0</td>\n",
       "      <td>0.00%</td>\n",
       "    </tr>\n",
       "    <tr>\n",
       "      <td>pi_e</td>\n",
       "      <td>EX_pi_e</td>\n",
       "      <td>0.7462</td>\n",
       "      <td>0</td>\n",
       "      <td>0.00%</td>\n",
       "    </tr>\n",
       "    <tr>\n",
       "      <td>so4_e</td>\n",
       "      <td>EX_so4_e</td>\n",
       "      <td>0.07421</td>\n",
       "      <td>0</td>\n",
       "      <td>0.00%</td>\n",
       "    </tr>\n",
       "    <tr>\n",
       "      <td>zn2_e</td>\n",
       "      <td>EX_zn2_e</td>\n",
       "      <td>0.002433</td>\n",
       "      <td>0</td>\n",
       "      <td>0.00%</td>\n",
       "    </tr>\n",
       "    <tr>\n",
       "      <td>metsox_R__L_e</td>\n",
       "      <td>METSOX2tex</td>\n",
       "      <td>0.1186</td>\n",
       "      <td>5</td>\n",
       "      <td>1.22%</td>\n",
       "    </tr>\n",
       "  </tbody>\n",
       "</table><h4>Secretion</h4><table border=\"1\" class=\"dataframe\">\n",
       "  <thead>\n",
       "    <tr style=\"text-align: right;\">\n",
       "      <th>Metabolite</th>\n",
       "      <th>Reaction</th>\n",
       "      <th>Flux</th>\n",
       "      <th>C-Number</th>\n",
       "      <th>C-Flux</th>\n",
       "    </tr>\n",
       "  </thead>\n",
       "  <tbody>\n",
       "    <tr>\n",
       "      <td>co2_e</td>\n",
       "      <td>EX_co2_e</td>\n",
       "      <td>-17.27</td>\n",
       "      <td>1</td>\n",
       "      <td>99.99%</td>\n",
       "    </tr>\n",
       "    <tr>\n",
       "      <td>h2o_e</td>\n",
       "      <td>EX_h2o_e</td>\n",
       "      <td>-37.28</td>\n",
       "      <td>0</td>\n",
       "      <td>0.00%</td>\n",
       "    </tr>\n",
       "    <tr>\n",
       "      <td>h_e</td>\n",
       "      <td>EX_h_e</td>\n",
       "      <td>-1.135</td>\n",
       "      <td>0</td>\n",
       "      <td>0.00%</td>\n",
       "    </tr>\n",
       "    <tr>\n",
       "      <td>4hba_c</td>\n",
       "      <td>R_DM_4HBA</td>\n",
       "      <td>-0.0001718</td>\n",
       "      <td>7</td>\n",
       "      <td>0.01%</td>\n",
       "    </tr>\n",
       "  </tbody>\n",
       "</table>"
      ],
      "text/plain": [
       "<cobra.summary.model_summary.ModelSummary at 0x7fef69b7cac0>"
      ]
     },
     "execution_count": 164,
     "metadata": {},
     "output_type": "execute_result"
    }
   ],
   "source": [
    "#LOAD MODEL\n",
    "model_path = 'models'\n",
    "model_filename = 'ecoli_isobutanol.xlsx'\n",
    "model = import_excel_model('/'.join([model_path, model_filename]))\n",
    "model.summary()"
   ]
  },
  {
   "cell_type": "code",
   "execution_count": 165,
   "id": "aa4ad998",
   "metadata": {},
   "outputs": [
    {
     "name": "stdout",
     "output_type": "stream",
     "text": [
      "Read LP format model from file /tmp/tmpg7b5g57s.lp\n",
      "Reading time = 0.01 seconds\n",
      ": 2032 rows, 5898 columns, 23086 nonzeros\n",
      "Parsing metabolites...\n",
      "Parsing reactions...\n"
     ]
    },
    {
     "data": {
      "text/html": [
       "<h3>Objective</h3><p>1.0 Ec_biomass_iCA1273_core_59p81M = 0.7704089981544745</p><h4>Uptake</h4><table border=\"1\" class=\"dataframe\">\n",
       "  <thead>\n",
       "    <tr style=\"text-align: right;\">\n",
       "      <th>Metabolite</th>\n",
       "      <th>Reaction</th>\n",
       "      <th>Flux</th>\n",
       "      <th>C-Number</th>\n",
       "      <th>C-Flux</th>\n",
       "    </tr>\n",
       "  </thead>\n",
       "  <tbody>\n",
       "    <tr>\n",
       "      <td>ca2_e</td>\n",
       "      <td>EX_ca2_e</td>\n",
       "      <td>0.003649</td>\n",
       "      <td>0</td>\n",
       "      <td>0.00%</td>\n",
       "    </tr>\n",
       "    <tr>\n",
       "      <td>cl_e</td>\n",
       "      <td>EX_cl_e</td>\n",
       "      <td>0.003649</td>\n",
       "      <td>0</td>\n",
       "      <td>0.00%</td>\n",
       "    </tr>\n",
       "    <tr>\n",
       "      <td>cobalt2_e</td>\n",
       "      <td>EX_cobalt2_e</td>\n",
       "      <td>0.002433</td>\n",
       "      <td>0</td>\n",
       "      <td>0.00%</td>\n",
       "    </tr>\n",
       "    <tr>\n",
       "      <td>cu2_e</td>\n",
       "      <td>EX_cu2_e</td>\n",
       "      <td>0.002433</td>\n",
       "      <td>0</td>\n",
       "      <td>0.00%</td>\n",
       "    </tr>\n",
       "    <tr>\n",
       "      <td>fe2_e</td>\n",
       "      <td>EX_fe2_e</td>\n",
       "      <td>0.01129</td>\n",
       "      <td>0</td>\n",
       "      <td>0.00%</td>\n",
       "    </tr>\n",
       "    <tr>\n",
       "      <td>glc__D_e</td>\n",
       "      <td>EX_glc___D_e</td>\n",
       "      <td>8</td>\n",
       "      <td>6</td>\n",
       "      <td>98.78%</td>\n",
       "    </tr>\n",
       "    <tr>\n",
       "      <td>k_e</td>\n",
       "      <td>EX_k_e</td>\n",
       "      <td>0.1368</td>\n",
       "      <td>0</td>\n",
       "      <td>0.00%</td>\n",
       "    </tr>\n",
       "    <tr>\n",
       "      <td>mg2_e</td>\n",
       "      <td>EX_mg2_e</td>\n",
       "      <td>0.006082</td>\n",
       "      <td>0</td>\n",
       "      <td>0.00%</td>\n",
       "    </tr>\n",
       "    <tr>\n",
       "      <td>mn2_e</td>\n",
       "      <td>EX_mn2_e</td>\n",
       "      <td>0.002433</td>\n",
       "      <td>0</td>\n",
       "      <td>0.00%</td>\n",
       "    </tr>\n",
       "    <tr>\n",
       "      <td>mobd_e</td>\n",
       "      <td>EX_mobd_e</td>\n",
       "      <td>0.002433</td>\n",
       "      <td>0</td>\n",
       "      <td>0.00%</td>\n",
       "    </tr>\n",
       "    <tr>\n",
       "      <td>nh4_e</td>\n",
       "      <td>EX_nh4_e</td>\n",
       "      <td>8.195</td>\n",
       "      <td>0</td>\n",
       "      <td>0.00%</td>\n",
       "    </tr>\n",
       "    <tr>\n",
       "      <td>o2_e</td>\n",
       "      <td>EX_o2_e</td>\n",
       "      <td>15.86</td>\n",
       "      <td>0</td>\n",
       "      <td>0.00%</td>\n",
       "    </tr>\n",
       "    <tr>\n",
       "      <td>pi_e</td>\n",
       "      <td>EX_pi_e</td>\n",
       "      <td>0.7462</td>\n",
       "      <td>0</td>\n",
       "      <td>0.00%</td>\n",
       "    </tr>\n",
       "    <tr>\n",
       "      <td>so4_e</td>\n",
       "      <td>EX_so4_e</td>\n",
       "      <td>0.07421</td>\n",
       "      <td>0</td>\n",
       "      <td>0.00%</td>\n",
       "    </tr>\n",
       "    <tr>\n",
       "      <td>zn2_e</td>\n",
       "      <td>EX_zn2_e</td>\n",
       "      <td>0.002433</td>\n",
       "      <td>0</td>\n",
       "      <td>0.00%</td>\n",
       "    </tr>\n",
       "    <tr>\n",
       "      <td>metsox_R__L_e</td>\n",
       "      <td>METSOX2tex</td>\n",
       "      <td>0.1186</td>\n",
       "      <td>5</td>\n",
       "      <td>1.22%</td>\n",
       "    </tr>\n",
       "  </tbody>\n",
       "</table><h4>Secretion</h4><table border=\"1\" class=\"dataframe\">\n",
       "  <thead>\n",
       "    <tr style=\"text-align: right;\">\n",
       "      <th>Metabolite</th>\n",
       "      <th>Reaction</th>\n",
       "      <th>Flux</th>\n",
       "      <th>C-Number</th>\n",
       "      <th>C-Flux</th>\n",
       "    </tr>\n",
       "  </thead>\n",
       "  <tbody>\n",
       "    <tr>\n",
       "      <td>co2_e</td>\n",
       "      <td>EX_co2_e</td>\n",
       "      <td>-17.27</td>\n",
       "      <td>1</td>\n",
       "      <td>99.99%</td>\n",
       "    </tr>\n",
       "    <tr>\n",
       "      <td>h2o_e</td>\n",
       "      <td>EX_h2o_e</td>\n",
       "      <td>-37.28</td>\n",
       "      <td>0</td>\n",
       "      <td>0.00%</td>\n",
       "    </tr>\n",
       "    <tr>\n",
       "      <td>h_e</td>\n",
       "      <td>EX_h_e</td>\n",
       "      <td>-1.135</td>\n",
       "      <td>0</td>\n",
       "      <td>0.00%</td>\n",
       "    </tr>\n",
       "    <tr>\n",
       "      <td>4hba_c</td>\n",
       "      <td>R_DM_4HBA</td>\n",
       "      <td>-0.0001718</td>\n",
       "      <td>7</td>\n",
       "      <td>0.01%</td>\n",
       "    </tr>\n",
       "  </tbody>\n",
       "</table>"
      ],
      "text/plain": [
       "<cobra.summary.model_summary.ModelSummary at 0x7fef64b8be20>"
      ]
     },
     "execution_count": 165,
     "metadata": {},
     "output_type": "execute_result"
    }
   ],
   "source": [
    "#conversion to new fromate version:\n",
    "def old_version_model_to_new(model):\n",
    "    modeltmp=model.copy()\n",
    "    for metabolite in modeltmp.metabolites:\n",
    "        metabolite.id = re.sub('\\[c\\]$',r'_c',metabolite.id)\n",
    "        metabolite.id = re.sub('\\[p\\]$',r'_p',metabolite.id)\n",
    "        metabolite.id = re.sub('\\[e\\]$',r'_e',metabolite.id)\n",
    "    print(\"Parsing metabolites...\")\n",
    "    modeltmp.repair()\n",
    "    for rxn in modeltmp.reactions:\n",
    "        rxn.id = re.sub('\\(p\\)$',r'_p',rxn.id)\n",
    "        rxn.id = re.sub('\\(c\\)$',r'_c',rxn.id)\n",
    "        rxn.id = re.sub('\\(e\\)$',r'_e',rxn.id)\n",
    "        # To solve possible problems in changing names\n",
    "    modeltmp.repair()\n",
    "    print(\"Parsing reactions...\")\n",
    "    return(modeltmp)\n",
    "\n",
    "model = old_version_model_to_new(model)\n",
    "model.summary()"
   ]
  },
  {
   "cell_type": "code",
   "execution_count": 166,
   "id": "777a593e",
   "metadata": {},
   "outputs": [
    {
     "name": "stdout",
     "output_type": "stream",
     "text": [
      "2949 reactions\n",
      "2032 metabolites\n",
      "1459 genes\n"
     ]
    }
   ],
   "source": [
    "print(f'{len(model.reactions)} reactions')\n",
    "print(f'{len(model.metabolites)} metabolites')\n",
    "print(f'{len(model.genes)} genes')"
   ]
  },
  {
   "cell_type": "code",
   "execution_count": 167,
   "id": "1f1cf824",
   "metadata": {},
   "outputs": [
    {
     "data": {
      "text/plain": [
       "{'e': '', 'c': '', 'p': ''}"
      ]
     },
     "execution_count": 167,
     "metadata": {},
     "output_type": "execute_result"
    }
   ],
   "source": [
    "model.compartments"
   ]
  },
  {
   "cell_type": "code",
   "execution_count": 168,
   "id": "33fed7ec",
   "metadata": {
    "scrolled": false
   },
   "outputs": [
    {
     "data": {
      "text/html": [
       "<h3>Objective</h3><p>1.0 Ec_biomass_iCA1273_core_59p81M = 0.28547120832062567</p><h4>Uptake</h4><table border=\"1\" class=\"dataframe\">\n",
       "  <thead>\n",
       "    <tr style=\"text-align: right;\">\n",
       "      <th>Metabolite</th>\n",
       "      <th>Reaction</th>\n",
       "      <th>Flux</th>\n",
       "      <th>C-Number</th>\n",
       "      <th>C-Flux</th>\n",
       "    </tr>\n",
       "  </thead>\n",
       "  <tbody>\n",
       "    <tr>\n",
       "      <td>ac_e</td>\n",
       "      <td>EX_ac_e</td>\n",
       "      <td>12.8</td>\n",
       "      <td>2</td>\n",
       "      <td>99.15%</td>\n",
       "    </tr>\n",
       "    <tr>\n",
       "      <td>ca2_e</td>\n",
       "      <td>EX_ca2_e</td>\n",
       "      <td>0.001352</td>\n",
       "      <td>0</td>\n",
       "      <td>0.00%</td>\n",
       "    </tr>\n",
       "    <tr>\n",
       "      <td>cl_e</td>\n",
       "      <td>EX_cl_e</td>\n",
       "      <td>0.001352</td>\n",
       "      <td>0</td>\n",
       "      <td>0.00%</td>\n",
       "    </tr>\n",
       "    <tr>\n",
       "      <td>cobalt2_e</td>\n",
       "      <td>EX_cobalt2_e</td>\n",
       "      <td>0.0009015</td>\n",
       "      <td>0</td>\n",
       "      <td>0.00%</td>\n",
       "    </tr>\n",
       "    <tr>\n",
       "      <td>cu2_e</td>\n",
       "      <td>EX_cu2_e</td>\n",
       "      <td>0.0009015</td>\n",
       "      <td>0</td>\n",
       "      <td>0.00%</td>\n",
       "    </tr>\n",
       "    <tr>\n",
       "      <td>fe2_e</td>\n",
       "      <td>EX_fe2_e</td>\n",
       "      <td>0.004184</td>\n",
       "      <td>0</td>\n",
       "      <td>0.00%</td>\n",
       "    </tr>\n",
       "    <tr>\n",
       "      <td>h_e</td>\n",
       "      <td>EX_h_e</td>\n",
       "      <td>10.15</td>\n",
       "      <td>0</td>\n",
       "      <td>0.00%</td>\n",
       "    </tr>\n",
       "    <tr>\n",
       "      <td>k_e</td>\n",
       "      <td>EX_k_e</td>\n",
       "      <td>0.0507</td>\n",
       "      <td>0</td>\n",
       "      <td>0.00%</td>\n",
       "    </tr>\n",
       "    <tr>\n",
       "      <td>mg2_e</td>\n",
       "      <td>EX_mg2_e</td>\n",
       "      <td>0.002254</td>\n",
       "      <td>0</td>\n",
       "      <td>0.00%</td>\n",
       "    </tr>\n",
       "    <tr>\n",
       "      <td>mn2_e</td>\n",
       "      <td>EX_mn2_e</td>\n",
       "      <td>0.0009015</td>\n",
       "      <td>0</td>\n",
       "      <td>0.00%</td>\n",
       "    </tr>\n",
       "    <tr>\n",
       "      <td>mobd_e</td>\n",
       "      <td>EX_mobd_e</td>\n",
       "      <td>0.0009015</td>\n",
       "      <td>0</td>\n",
       "      <td>0.00%</td>\n",
       "    </tr>\n",
       "    <tr>\n",
       "      <td>nh4_e</td>\n",
       "      <td>EX_nh4_e</td>\n",
       "      <td>3.037</td>\n",
       "      <td>0</td>\n",
       "      <td>0.00%</td>\n",
       "    </tr>\n",
       "    <tr>\n",
       "      <td>o2_e</td>\n",
       "      <td>EX_o2_e</td>\n",
       "      <td>13.69</td>\n",
       "      <td>0</td>\n",
       "      <td>0.00%</td>\n",
       "    </tr>\n",
       "    <tr>\n",
       "      <td>pi_e</td>\n",
       "      <td>EX_pi_e</td>\n",
       "      <td>0.2765</td>\n",
       "      <td>0</td>\n",
       "      <td>0.00%</td>\n",
       "    </tr>\n",
       "    <tr>\n",
       "      <td>so4_e</td>\n",
       "      <td>EX_so4_e</td>\n",
       "      <td>0.0275</td>\n",
       "      <td>0</td>\n",
       "      <td>0.00%</td>\n",
       "    </tr>\n",
       "    <tr>\n",
       "      <td>zn2_e</td>\n",
       "      <td>EX_zn2_e</td>\n",
       "      <td>0.0009015</td>\n",
       "      <td>0</td>\n",
       "      <td>0.00%</td>\n",
       "    </tr>\n",
       "    <tr>\n",
       "      <td>metsox_R__L_e</td>\n",
       "      <td>METSOX2tex</td>\n",
       "      <td>0.04394</td>\n",
       "      <td>5</td>\n",
       "      <td>0.85%</td>\n",
       "    </tr>\n",
       "  </tbody>\n",
       "</table><h4>Secretion</h4><table border=\"1\" class=\"dataframe\">\n",
       "  <thead>\n",
       "    <tr style=\"text-align: right;\">\n",
       "      <th>Metabolite</th>\n",
       "      <th>Reaction</th>\n",
       "      <th>Flux</th>\n",
       "      <th>C-Number</th>\n",
       "      <th>C-Flux</th>\n",
       "    </tr>\n",
       "  </thead>\n",
       "  <tbody>\n",
       "    <tr>\n",
       "      <td>co2_e</td>\n",
       "      <td>EX_co2_e</td>\n",
       "      <td>-14.21</td>\n",
       "      <td>1</td>\n",
       "      <td>100.00%</td>\n",
       "    </tr>\n",
       "    <tr>\n",
       "      <td>h2o_e</td>\n",
       "      <td>EX_h2o_e</td>\n",
       "      <td>-21.63</td>\n",
       "      <td>0</td>\n",
       "      <td>0.00%</td>\n",
       "    </tr>\n",
       "    <tr>\n",
       "      <td>4hba_c</td>\n",
       "      <td>R_DM_4HBA</td>\n",
       "      <td>-6.366E-05</td>\n",
       "      <td>7</td>\n",
       "      <td>0.00%</td>\n",
       "    </tr>\n",
       "  </tbody>\n",
       "</table>"
      ],
      "text/plain": [
       "<cobra.summary.model_summary.ModelSummary at 0x7fef63a6c130>"
      ]
     },
     "execution_count": 168,
     "metadata": {},
     "output_type": "execute_result"
    }
   ],
   "source": [
    "#MAKE THE CHANGES NEEDED TO PRODUCE ISOBUTANOL\n",
    "model.reactions.get_by_id('EX_glc___D_e').bounds = (0,1000)\n",
    "model.reactions.get_by_id('EX_ac_e').bounds = (-12.8, 1000)\n",
    "model.reactions.get_by_id('POR5').bounds = (0, 0) #INCLUDE KO AFTER IN GCFRONT RESULTS\n",
    "model.reactions.get_by_id('ME2').bounds = (3.5, 1000)\n",
    "model.summary()"
   ]
  },
  {
   "cell_type": "code",
   "execution_count": 169,
   "id": "c66e88ff",
   "metadata": {},
   "outputs": [],
   "source": [
    "cobra.io.write_sbml_model(model, model_filename.replace('.xlsx','.xml'))"
   ]
  },
  {
   "cell_type": "code",
   "execution_count": 170,
   "id": "4d6ec1ae",
   "metadata": {},
   "outputs": [
    {
     "data": {
      "text/html": [
       "<h3>Objective</h3><p>1.0 Ec_biomass_iCA1273_core_59p81M = 0.2854712083206261</p><h4>Uptake</h4><table border=\"1\" class=\"dataframe\">\n",
       "  <thead>\n",
       "    <tr style=\"text-align: right;\">\n",
       "      <th>Metabolite</th>\n",
       "      <th>Reaction</th>\n",
       "      <th>Flux</th>\n",
       "      <th>C-Number</th>\n",
       "      <th>C-Flux</th>\n",
       "    </tr>\n",
       "  </thead>\n",
       "  <tbody>\n",
       "    <tr>\n",
       "      <td>ac_e</td>\n",
       "      <td>EX_ac_e</td>\n",
       "      <td>12.8</td>\n",
       "      <td>2</td>\n",
       "      <td>99.15%</td>\n",
       "    </tr>\n",
       "    <tr>\n",
       "      <td>ca2_e</td>\n",
       "      <td>EX_ca2_e</td>\n",
       "      <td>0.001352</td>\n",
       "      <td>0</td>\n",
       "      <td>0.00%</td>\n",
       "    </tr>\n",
       "    <tr>\n",
       "      <td>cl_e</td>\n",
       "      <td>EX_cl_e</td>\n",
       "      <td>0.001352</td>\n",
       "      <td>0</td>\n",
       "      <td>0.00%</td>\n",
       "    </tr>\n",
       "    <tr>\n",
       "      <td>cobalt2_e</td>\n",
       "      <td>EX_cobalt2_e</td>\n",
       "      <td>0.0009015</td>\n",
       "      <td>0</td>\n",
       "      <td>0.00%</td>\n",
       "    </tr>\n",
       "    <tr>\n",
       "      <td>cu2_e</td>\n",
       "      <td>EX_cu2_e</td>\n",
       "      <td>0.0009015</td>\n",
       "      <td>0</td>\n",
       "      <td>0.00%</td>\n",
       "    </tr>\n",
       "    <tr>\n",
       "      <td>fe2_e</td>\n",
       "      <td>EX_fe2_e</td>\n",
       "      <td>0.004184</td>\n",
       "      <td>0</td>\n",
       "      <td>0.00%</td>\n",
       "    </tr>\n",
       "    <tr>\n",
       "      <td>h_e</td>\n",
       "      <td>EX_h_e</td>\n",
       "      <td>10.15</td>\n",
       "      <td>0</td>\n",
       "      <td>0.00%</td>\n",
       "    </tr>\n",
       "    <tr>\n",
       "      <td>k_e</td>\n",
       "      <td>EX_k_e</td>\n",
       "      <td>0.0507</td>\n",
       "      <td>0</td>\n",
       "      <td>0.00%</td>\n",
       "    </tr>\n",
       "    <tr>\n",
       "      <td>mg2_e</td>\n",
       "      <td>EX_mg2_e</td>\n",
       "      <td>0.002254</td>\n",
       "      <td>0</td>\n",
       "      <td>0.00%</td>\n",
       "    </tr>\n",
       "    <tr>\n",
       "      <td>mn2_e</td>\n",
       "      <td>EX_mn2_e</td>\n",
       "      <td>0.0009015</td>\n",
       "      <td>0</td>\n",
       "      <td>0.00%</td>\n",
       "    </tr>\n",
       "    <tr>\n",
       "      <td>mobd_e</td>\n",
       "      <td>EX_mobd_e</td>\n",
       "      <td>0.0009015</td>\n",
       "      <td>0</td>\n",
       "      <td>0.00%</td>\n",
       "    </tr>\n",
       "    <tr>\n",
       "      <td>nh4_e</td>\n",
       "      <td>EX_nh4_e</td>\n",
       "      <td>3.037</td>\n",
       "      <td>0</td>\n",
       "      <td>0.00%</td>\n",
       "    </tr>\n",
       "    <tr>\n",
       "      <td>o2_e</td>\n",
       "      <td>EX_o2_e</td>\n",
       "      <td>13.69</td>\n",
       "      <td>0</td>\n",
       "      <td>0.00%</td>\n",
       "    </tr>\n",
       "    <tr>\n",
       "      <td>pi_e</td>\n",
       "      <td>EX_pi_e</td>\n",
       "      <td>0.2765</td>\n",
       "      <td>0</td>\n",
       "      <td>0.00%</td>\n",
       "    </tr>\n",
       "    <tr>\n",
       "      <td>so4_e</td>\n",
       "      <td>EX_so4_e</td>\n",
       "      <td>0.0275</td>\n",
       "      <td>0</td>\n",
       "      <td>0.00%</td>\n",
       "    </tr>\n",
       "    <tr>\n",
       "      <td>zn2_e</td>\n",
       "      <td>EX_zn2_e</td>\n",
       "      <td>0.0009015</td>\n",
       "      <td>0</td>\n",
       "      <td>0.00%</td>\n",
       "    </tr>\n",
       "    <tr>\n",
       "      <td>metsox_R__L_e</td>\n",
       "      <td>METSOX2tex</td>\n",
       "      <td>0.04394</td>\n",
       "      <td>5</td>\n",
       "      <td>0.85%</td>\n",
       "    </tr>\n",
       "  </tbody>\n",
       "</table><h4>Secretion</h4><table border=\"1\" class=\"dataframe\">\n",
       "  <thead>\n",
       "    <tr style=\"text-align: right;\">\n",
       "      <th>Metabolite</th>\n",
       "      <th>Reaction</th>\n",
       "      <th>Flux</th>\n",
       "      <th>C-Number</th>\n",
       "      <th>C-Flux</th>\n",
       "    </tr>\n",
       "  </thead>\n",
       "  <tbody>\n",
       "    <tr>\n",
       "      <td>co2_e</td>\n",
       "      <td>EX_co2_e</td>\n",
       "      <td>-14.21</td>\n",
       "      <td>1</td>\n",
       "      <td>100.00%</td>\n",
       "    </tr>\n",
       "    <tr>\n",
       "      <td>h2o_e</td>\n",
       "      <td>EX_h2o_e</td>\n",
       "      <td>-21.63</td>\n",
       "      <td>0</td>\n",
       "      <td>0.00%</td>\n",
       "    </tr>\n",
       "    <tr>\n",
       "      <td>4hba_c</td>\n",
       "      <td>R_DM_4HBA</td>\n",
       "      <td>-6.366E-05</td>\n",
       "      <td>7</td>\n",
       "      <td>0.00%</td>\n",
       "    </tr>\n",
       "  </tbody>\n",
       "</table>"
      ],
      "text/plain": [
       "<cobra.summary.model_summary.ModelSummary at 0x7fef64b8a0d0>"
      ]
     },
     "execution_count": 170,
     "metadata": {},
     "output_type": "execute_result"
    }
   ],
   "source": [
    "final_model = cobra.io.read_sbml_model(model_filename.replace('.xlsx','.xml'))\n",
    "final_model.summary()"
   ]
  },
  {
   "cell_type": "code",
   "execution_count": 160,
   "id": "5a5d8aa5",
   "metadata": {},
   "outputs": [],
   "source": [
    "from cameo.visualization.plotting.with_plotly import PlotlyPlotter\n",
    "from cameo.strain_design.deterministic.flux_variability_based import FSEOF\n",
    "fseof = FSEOF(final_model)\n",
    "fseof_result = fseof.run(target=final_model.reactions.EX_btd_RR_e)"
   ]
  },
  {
   "cell_type": "code",
   "execution_count": 161,
   "id": "0cb51808",
   "metadata": {
    "scrolled": true
   },
   "outputs": [
    {
     "data": {
      "text/html": [
       "\n",
       "<strong>Model:</strong> default_model</br>\n",
       "<strong>Enforced objective:</strong> EX_btd_RR_e</br>\n",
       "<strong>Primary objective:</strong> Maximize\n",
       "1.0*Ec_biomass_iCA1273_core_59p81M - 1.0*Ec_biomass_iCA1273_core_59p81M_reverse_0acec</br>\n",
       "<br>\n",
       "<strong>Reaction fluxes</strong><br><br>\n",
       "<div>\n",
       "<style scoped>\n",
       "    .dataframe tbody tr th:only-of-type {\n",
       "        vertical-align: middle;\n",
       "    }\n",
       "\n",
       "    .dataframe tbody tr th {\n",
       "        vertical-align: top;\n",
       "    }\n",
       "\n",
       "    .dataframe thead th {\n",
       "        text-align: right;\n",
       "    }\n",
       "</style>\n",
       "<table border=\"1\" class=\"dataframe\">\n",
       "  <thead>\n",
       "    <tr style=\"text-align: right;\">\n",
       "      <th></th>\n",
       "      <th>1</th>\n",
       "      <th>2</th>\n",
       "      <th>3</th>\n",
       "      <th>4</th>\n",
       "      <th>5</th>\n",
       "      <th>6</th>\n",
       "      <th>7</th>\n",
       "      <th>8</th>\n",
       "      <th>9</th>\n",
       "      <th>10</th>\n",
       "    </tr>\n",
       "  </thead>\n",
       "  <tbody>\n",
       "    <tr>\n",
       "      <th>12DGR161tipp</th>\n",
       "      <td>0.001970</td>\n",
       "      <td>0.001778</td>\n",
       "      <td>0.001587</td>\n",
       "      <td>0.001395</td>\n",
       "      <td>0.001203</td>\n",
       "      <td>0.001011</td>\n",
       "      <td>0.000819</td>\n",
       "      <td>0.000627</td>\n",
       "      <td>0.000436</td>\n",
       "      <td>0.000244</td>\n",
       "    </tr>\n",
       "    <tr>\n",
       "      <th>ACS</th>\n",
       "      <td>12.915362</td>\n",
       "      <td>12.904129</td>\n",
       "      <td>12.892897</td>\n",
       "      <td>12.881664</td>\n",
       "      <td>12.870431</td>\n",
       "      <td>12.859198</td>\n",
       "      <td>12.847966</td>\n",
       "      <td>12.836733</td>\n",
       "      <td>12.825500</td>\n",
       "      <td>12.814268</td>\n",
       "    </tr>\n",
       "    <tr>\n",
       "      <th>ACt2rpp</th>\n",
       "      <td>12.800000</td>\n",
       "      <td>12.800000</td>\n",
       "      <td>12.800000</td>\n",
       "      <td>12.800000</td>\n",
       "      <td>12.800000</td>\n",
       "      <td>12.800000</td>\n",
       "      <td>12.800000</td>\n",
       "      <td>12.800000</td>\n",
       "      <td>12.800000</td>\n",
       "      <td>12.800000</td>\n",
       "    </tr>\n",
       "    <tr>\n",
       "      <th>ADK1</th>\n",
       "      <td>13.752776</td>\n",
       "      <td>13.660005</td>\n",
       "      <td>13.567234</td>\n",
       "      <td>13.474463</td>\n",
       "      <td>13.381692</td>\n",
       "      <td>13.288921</td>\n",
       "      <td>13.196150</td>\n",
       "      <td>13.103379</td>\n",
       "      <td>13.010607</td>\n",
       "      <td>12.917836</td>\n",
       "    </tr>\n",
       "    <tr>\n",
       "      <th>ADK3</th>\n",
       "      <td>-0.171208</td>\n",
       "      <td>-0.154537</td>\n",
       "      <td>-0.137867</td>\n",
       "      <td>-0.121197</td>\n",
       "      <td>-0.104526</td>\n",
       "      <td>-0.087856</td>\n",
       "      <td>-0.071186</td>\n",
       "      <td>-0.054515</td>\n",
       "      <td>-0.037845</td>\n",
       "      <td>-0.021174</td>\n",
       "    </tr>\n",
       "    <tr>\n",
       "      <th>ADPT</th>\n",
       "      <td>0.000120</td>\n",
       "      <td>0.000109</td>\n",
       "      <td>0.000097</td>\n",
       "      <td>0.000085</td>\n",
       "      <td>0.000074</td>\n",
       "      <td>0.000062</td>\n",
       "      <td>0.000050</td>\n",
       "      <td>0.000038</td>\n",
       "      <td>0.000027</td>\n",
       "      <td>0.000015</td>\n",
       "    </tr>\n",
       "    <tr>\n",
       "      <th>ALAR</th>\n",
       "      <td>0.601427</td>\n",
       "      <td>0.542867</td>\n",
       "      <td>0.484306</td>\n",
       "      <td>0.425746</td>\n",
       "      <td>0.367185</td>\n",
       "      <td>0.308625</td>\n",
       "      <td>0.250064</td>\n",
       "      <td>0.191504</td>\n",
       "      <td>0.132943</td>\n",
       "      <td>0.074383</td>\n",
       "    </tr>\n",
       "    <tr>\n",
       "      <th>ALATA_L</th>\n",
       "      <td>-0.747631</td>\n",
       "      <td>-0.674835</td>\n",
       "      <td>-0.602039</td>\n",
       "      <td>-0.529242</td>\n",
       "      <td>-0.456446</td>\n",
       "      <td>-0.383650</td>\n",
       "      <td>-0.310854</td>\n",
       "      <td>-0.238057</td>\n",
       "      <td>-0.165261</td>\n",
       "      <td>-0.092465</td>\n",
       "    </tr>\n",
       "    <tr>\n",
       "      <th>ALCD19</th>\n",
       "      <td>0.226946</td>\n",
       "      <td>0.204849</td>\n",
       "      <td>0.182751</td>\n",
       "      <td>0.160654</td>\n",
       "      <td>0.138556</td>\n",
       "      <td>0.116458</td>\n",
       "      <td>0.094361</td>\n",
       "      <td>0.072263</td>\n",
       "      <td>0.050166</td>\n",
       "      <td>0.028068</td>\n",
       "    </tr>\n",
       "    <tr>\n",
       "      <th>DAAD</th>\n",
       "      <td>0.590172</td>\n",
       "      <td>0.532707</td>\n",
       "      <td>0.475243</td>\n",
       "      <td>0.417778</td>\n",
       "      <td>0.360313</td>\n",
       "      <td>0.302849</td>\n",
       "      <td>0.245384</td>\n",
       "      <td>0.187920</td>\n",
       "      <td>0.130455</td>\n",
       "      <td>0.072991</td>\n",
       "    </tr>\n",
       "    <tr>\n",
       "      <th>DAGK161</th>\n",
       "      <td>0.001970</td>\n",
       "      <td>0.001778</td>\n",
       "      <td>0.001587</td>\n",
       "      <td>0.001395</td>\n",
       "      <td>0.001203</td>\n",
       "      <td>0.001011</td>\n",
       "      <td>0.000819</td>\n",
       "      <td>0.000627</td>\n",
       "      <td>0.000436</td>\n",
       "      <td>0.000244</td>\n",
       "    </tr>\n",
       "    <tr>\n",
       "      <th>DHORDfum</th>\n",
       "      <td>0.089353</td>\n",
       "      <td>0.080652</td>\n",
       "      <td>0.071952</td>\n",
       "      <td>0.063252</td>\n",
       "      <td>0.054552</td>\n",
       "      <td>0.045852</td>\n",
       "      <td>0.037151</td>\n",
       "      <td>0.028451</td>\n",
       "      <td>0.019751</td>\n",
       "      <td>0.011051</td>\n",
       "    </tr>\n",
       "    <tr>\n",
       "      <th>F6PA</th>\n",
       "      <td>-0.226946</td>\n",
       "      <td>-0.204849</td>\n",
       "      <td>-0.182751</td>\n",
       "      <td>-0.160654</td>\n",
       "      <td>-0.138556</td>\n",
       "      <td>-0.116458</td>\n",
       "      <td>-0.094361</td>\n",
       "      <td>-0.072263</td>\n",
       "      <td>-0.050166</td>\n",
       "      <td>-0.028068</td>\n",
       "    </tr>\n",
       "    <tr>\n",
       "      <th>FDH5pp</th>\n",
       "      <td>0.012598</td>\n",
       "      <td>0.011371</td>\n",
       "      <td>0.010145</td>\n",
       "      <td>0.008918</td>\n",
       "      <td>0.007691</td>\n",
       "      <td>0.006465</td>\n",
       "      <td>0.005238</td>\n",
       "      <td>0.004011</td>\n",
       "      <td>0.002785</td>\n",
       "      <td>0.001558</td>\n",
       "    </tr>\n",
       "    <tr>\n",
       "      <th>FLDR</th>\n",
       "      <td>0.021666</td>\n",
       "      <td>0.019557</td>\n",
       "      <td>0.017447</td>\n",
       "      <td>0.015337</td>\n",
       "      <td>0.013228</td>\n",
       "      <td>0.011118</td>\n",
       "      <td>0.009008</td>\n",
       "      <td>0.006899</td>\n",
       "      <td>0.004789</td>\n",
       "      <td>0.002680</td>\n",
       "    </tr>\n",
       "    <tr>\n",
       "      <th>FRD2</th>\n",
       "      <td>17.127403</td>\n",
       "      <td>16.313481</td>\n",
       "      <td>15.499559</td>\n",
       "      <td>14.685638</td>\n",
       "      <td>13.871716</td>\n",
       "      <td>13.057794</td>\n",
       "      <td>12.243872</td>\n",
       "      <td>11.429950</td>\n",
       "      <td>10.616028</td>\n",
       "      <td>9.802107</td>\n",
       "    </tr>\n",
       "    <tr>\n",
       "      <th>GAPP</th>\n",
       "      <td>0.226946</td>\n",
       "      <td>0.204849</td>\n",
       "      <td>0.182751</td>\n",
       "      <td>0.160654</td>\n",
       "      <td>0.138556</td>\n",
       "      <td>0.116458</td>\n",
       "      <td>0.094361</td>\n",
       "      <td>0.072263</td>\n",
       "      <td>0.050166</td>\n",
       "      <td>0.028068</td>\n",
       "    </tr>\n",
       "    <tr>\n",
       "      <th>GLUDy</th>\n",
       "      <td>-2.800815</td>\n",
       "      <td>-2.528102</td>\n",
       "      <td>-2.255389</td>\n",
       "      <td>-1.982676</td>\n",
       "      <td>-1.709962</td>\n",
       "      <td>-1.437249</td>\n",
       "      <td>-1.164536</td>\n",
       "      <td>-0.891823</td>\n",
       "      <td>-0.619109</td>\n",
       "      <td>-0.346396</td>\n",
       "    </tr>\n",
       "    <tr>\n",
       "      <th>GLUt2rpp</th>\n",
       "      <td>-0.001280</td>\n",
       "      <td>-0.001155</td>\n",
       "      <td>-0.001030</td>\n",
       "      <td>-0.000906</td>\n",
       "      <td>-0.000781</td>\n",
       "      <td>-0.000657</td>\n",
       "      <td>-0.000532</td>\n",
       "      <td>-0.000407</td>\n",
       "      <td>-0.000283</td>\n",
       "      <td>-0.000158</td>\n",
       "    </tr>\n",
       "    <tr>\n",
       "      <th>GLUt4pp</th>\n",
       "      <td>0.001280</td>\n",
       "      <td>0.001155</td>\n",
       "      <td>0.001030</td>\n",
       "      <td>0.000906</td>\n",
       "      <td>0.000781</td>\n",
       "      <td>0.000657</td>\n",
       "      <td>0.000532</td>\n",
       "      <td>0.000407</td>\n",
       "      <td>0.000283</td>\n",
       "      <td>0.000158</td>\n",
       "    </tr>\n",
       "    <tr>\n",
       "      <th>GLYCDx</th>\n",
       "      <td>0.226946</td>\n",
       "      <td>0.204849</td>\n",
       "      <td>0.182751</td>\n",
       "      <td>0.160654</td>\n",
       "      <td>0.138556</td>\n",
       "      <td>0.116458</td>\n",
       "      <td>0.094361</td>\n",
       "      <td>0.072263</td>\n",
       "      <td>0.050166</td>\n",
       "      <td>0.028068</td>\n",
       "    </tr>\n",
       "    <tr>\n",
       "      <th>GRXR</th>\n",
       "      <td>0.032022</td>\n",
       "      <td>0.028904</td>\n",
       "      <td>0.025786</td>\n",
       "      <td>0.022668</td>\n",
       "      <td>0.019550</td>\n",
       "      <td>0.016432</td>\n",
       "      <td>0.013314</td>\n",
       "      <td>0.010196</td>\n",
       "      <td>0.007078</td>\n",
       "      <td>0.003960</td>\n",
       "    </tr>\n",
       "    <tr>\n",
       "      <th>GTHOr</th>\n",
       "      <td>0.032022</td>\n",
       "      <td>0.028904</td>\n",
       "      <td>0.025786</td>\n",
       "      <td>0.022668</td>\n",
       "      <td>0.019550</td>\n",
       "      <td>0.016432</td>\n",
       "      <td>0.013314</td>\n",
       "      <td>0.010196</td>\n",
       "      <td>0.007078</td>\n",
       "      <td>0.003960</td>\n",
       "    </tr>\n",
       "    <tr>\n",
       "      <th>Htex</th>\n",
       "      <td>10.291953</td>\n",
       "      <td>10.536159</td>\n",
       "      <td>10.780366</td>\n",
       "      <td>11.024573</td>\n",
       "      <td>11.268779</td>\n",
       "      <td>11.512986</td>\n",
       "      <td>11.757193</td>\n",
       "      <td>12.001399</td>\n",
       "      <td>12.245606</td>\n",
       "      <td>12.489813</td>\n",
       "    </tr>\n",
       "    <tr>\n",
       "      <th>ICL</th>\n",
       "      <td>3.396996</td>\n",
       "      <td>3.707393</td>\n",
       "      <td>4.017789</td>\n",
       "      <td>4.328186</td>\n",
       "      <td>4.638583</td>\n",
       "      <td>4.948980</td>\n",
       "      <td>5.259376</td>\n",
       "      <td>5.569773</td>\n",
       "      <td>5.880170</td>\n",
       "      <td>6.190567</td>\n",
       "    </tr>\n",
       "    <tr>\n",
       "      <th>IPDDI</th>\n",
       "      <td>0.000075</td>\n",
       "      <td>0.000068</td>\n",
       "      <td>0.000060</td>\n",
       "      <td>0.000053</td>\n",
       "      <td>0.000046</td>\n",
       "      <td>0.000039</td>\n",
       "      <td>0.000031</td>\n",
       "      <td>0.000024</td>\n",
       "      <td>0.000017</td>\n",
       "      <td>0.000009</td>\n",
       "    </tr>\n",
       "    <tr>\n",
       "      <th>IPDPS</th>\n",
       "      <td>0.000645</td>\n",
       "      <td>0.000582</td>\n",
       "      <td>0.000520</td>\n",
       "      <td>0.000457</td>\n",
       "      <td>0.000394</td>\n",
       "      <td>0.000331</td>\n",
       "      <td>0.000268</td>\n",
       "      <td>0.000205</td>\n",
       "      <td>0.000143</td>\n",
       "      <td>0.000080</td>\n",
       "    </tr>\n",
       "    <tr>\n",
       "      <th>MALS</th>\n",
       "      <td>3.396996</td>\n",
       "      <td>3.707393</td>\n",
       "      <td>4.017789</td>\n",
       "      <td>4.328186</td>\n",
       "      <td>4.638583</td>\n",
       "      <td>4.948980</td>\n",
       "      <td>5.259376</td>\n",
       "      <td>5.569773</td>\n",
       "      <td>5.880170</td>\n",
       "      <td>6.190567</td>\n",
       "    </tr>\n",
       "    <tr>\n",
       "      <th>ME2</th>\n",
       "      <td>1.393249</td>\n",
       "      <td>1.898749</td>\n",
       "      <td>2.404249</td>\n",
       "      <td>2.909749</td>\n",
       "      <td>3.415249</td>\n",
       "      <td>3.920749</td>\n",
       "      <td>4.426249</td>\n",
       "      <td>4.931749</td>\n",
       "      <td>5.437249</td>\n",
       "      <td>5.942749</td>\n",
       "    </tr>\n",
       "    <tr>\n",
       "      <th>NADH17pp</th>\n",
       "      <td>17.114805</td>\n",
       "      <td>16.302110</td>\n",
       "      <td>15.489415</td>\n",
       "      <td>14.676720</td>\n",
       "      <td>13.864024</td>\n",
       "      <td>13.051329</td>\n",
       "      <td>12.238634</td>\n",
       "      <td>11.425939</td>\n",
       "      <td>10.613244</td>\n",
       "      <td>9.800548</td>\n",
       "    </tr>\n",
       "    <tr>\n",
       "      <th>NADTRHD</th>\n",
       "      <td>2.638762</td>\n",
       "      <td>2.986995</td>\n",
       "      <td>3.335227</td>\n",
       "      <td>3.683459</td>\n",
       "      <td>4.031692</td>\n",
       "      <td>4.379924</td>\n",
       "      <td>4.728156</td>\n",
       "      <td>5.076389</td>\n",
       "      <td>5.424621</td>\n",
       "      <td>5.772853</td>\n",
       "    </tr>\n",
       "    <tr>\n",
       "      <th>NDPK3</th>\n",
       "      <td>0.040323</td>\n",
       "      <td>0.036397</td>\n",
       "      <td>0.032471</td>\n",
       "      <td>0.028544</td>\n",
       "      <td>0.024618</td>\n",
       "      <td>0.020692</td>\n",
       "      <td>0.016766</td>\n",
       "      <td>0.012839</td>\n",
       "      <td>0.008913</td>\n",
       "      <td>0.004987</td>\n",
       "    </tr>\n",
       "    <tr>\n",
       "      <th>PAPSR2</th>\n",
       "      <td>0.024953</td>\n",
       "      <td>0.022524</td>\n",
       "      <td>0.020094</td>\n",
       "      <td>0.017664</td>\n",
       "      <td>0.015235</td>\n",
       "      <td>0.012805</td>\n",
       "      <td>0.010375</td>\n",
       "      <td>0.007946</td>\n",
       "      <td>0.005516</td>\n",
       "      <td>0.003086</td>\n",
       "    </tr>\n",
       "    <tr>\n",
       "      <th>PE161abcpp</th>\n",
       "      <td>0.015176</td>\n",
       "      <td>0.013699</td>\n",
       "      <td>0.012221</td>\n",
       "      <td>0.010743</td>\n",
       "      <td>0.009265</td>\n",
       "      <td>0.007788</td>\n",
       "      <td>0.006310</td>\n",
       "      <td>0.004832</td>\n",
       "      <td>0.003355</td>\n",
       "      <td>0.001877</td>\n",
       "    </tr>\n",
       "    <tr>\n",
       "      <th>PETNLA161pp</th>\n",
       "      <td>0.001970</td>\n",
       "      <td>0.001778</td>\n",
       "      <td>0.001587</td>\n",
       "      <td>0.001395</td>\n",
       "      <td>0.001203</td>\n",
       "      <td>0.001011</td>\n",
       "      <td>0.000819</td>\n",
       "      <td>0.000627</td>\n",
       "      <td>0.000436</td>\n",
       "      <td>0.000244</td>\n",
       "    </tr>\n",
       "    <tr>\n",
       "      <th>PPKr</th>\n",
       "      <td>-13.803374</td>\n",
       "      <td>-13.705676</td>\n",
       "      <td>-13.607978</td>\n",
       "      <td>-13.510281</td>\n",
       "      <td>-13.412583</td>\n",
       "      <td>-13.314885</td>\n",
       "      <td>-13.217187</td>\n",
       "      <td>-13.119490</td>\n",
       "      <td>-13.021792</td>\n",
       "      <td>-12.924094</td>\n",
       "    </tr>\n",
       "    <tr>\n",
       "      <th>RNDR4b</th>\n",
       "      <td>0.007069</td>\n",
       "      <td>0.006381</td>\n",
       "      <td>0.005692</td>\n",
       "      <td>0.005004</td>\n",
       "      <td>0.004316</td>\n",
       "      <td>0.003627</td>\n",
       "      <td>0.002939</td>\n",
       "      <td>0.002251</td>\n",
       "      <td>0.001563</td>\n",
       "      <td>0.000874</td>\n",
       "    </tr>\n",
       "    <tr>\n",
       "      <th>RNTR3c</th>\n",
       "      <td>0.007299</td>\n",
       "      <td>0.006588</td>\n",
       "      <td>0.005877</td>\n",
       "      <td>0.005167</td>\n",
       "      <td>0.004456</td>\n",
       "      <td>0.003745</td>\n",
       "      <td>0.003035</td>\n",
       "      <td>0.002324</td>\n",
       "      <td>0.001613</td>\n",
       "      <td>0.000903</td>\n",
       "    </tr>\n",
       "    <tr>\n",
       "      <th>SUCDi</th>\n",
       "      <td>25.444964</td>\n",
       "      <td>24.426334</td>\n",
       "      <td>23.407704</td>\n",
       "      <td>22.389075</td>\n",
       "      <td>21.370445</td>\n",
       "      <td>20.351815</td>\n",
       "      <td>19.333185</td>\n",
       "      <td>18.314555</td>\n",
       "      <td>17.295926</td>\n",
       "      <td>16.277296</td>\n",
       "    </tr>\n",
       "    <tr>\n",
       "      <th>ACLS</th>\n",
       "      <td>0.528293</td>\n",
       "      <td>0.797434</td>\n",
       "      <td>1.066574</td>\n",
       "      <td>1.335714</td>\n",
       "      <td>1.604854</td>\n",
       "      <td>1.873995</td>\n",
       "      <td>2.143135</td>\n",
       "      <td>2.412275</td>\n",
       "      <td>2.681416</td>\n",
       "      <td>2.950556</td>\n",
       "    </tr>\n",
       "    <tr>\n",
       "      <th>ACLDC</th>\n",
       "      <td>0.292135</td>\n",
       "      <td>0.584270</td>\n",
       "      <td>0.876405</td>\n",
       "      <td>1.168539</td>\n",
       "      <td>1.460674</td>\n",
       "      <td>1.752809</td>\n",
       "      <td>2.044944</td>\n",
       "      <td>2.337079</td>\n",
       "      <td>2.629214</td>\n",
       "      <td>2.921349</td>\n",
       "    </tr>\n",
       "    <tr>\n",
       "      <th>BTDD_RR</th>\n",
       "      <td>-0.292135</td>\n",
       "      <td>-0.584270</td>\n",
       "      <td>-0.876405</td>\n",
       "      <td>-1.168539</td>\n",
       "      <td>-1.460674</td>\n",
       "      <td>-1.752809</td>\n",
       "      <td>-2.044944</td>\n",
       "      <td>-2.337079</td>\n",
       "      <td>-2.629214</td>\n",
       "      <td>-2.921349</td>\n",
       "    </tr>\n",
       "    <tr>\n",
       "      <th>BTDDtpp</th>\n",
       "      <td>-0.292135</td>\n",
       "      <td>-0.584270</td>\n",
       "      <td>-0.876405</td>\n",
       "      <td>-1.168539</td>\n",
       "      <td>-1.460674</td>\n",
       "      <td>-1.752809</td>\n",
       "      <td>-2.044944</td>\n",
       "      <td>-2.337079</td>\n",
       "      <td>-2.629214</td>\n",
       "      <td>-2.921349</td>\n",
       "    </tr>\n",
       "    <tr>\n",
       "      <th>BTDDtex</th>\n",
       "      <td>-0.292135</td>\n",
       "      <td>-0.584270</td>\n",
       "      <td>-0.876405</td>\n",
       "      <td>-1.168539</td>\n",
       "      <td>-1.460674</td>\n",
       "      <td>-1.752809</td>\n",
       "      <td>-2.044944</td>\n",
       "      <td>-2.337079</td>\n",
       "      <td>-2.629214</td>\n",
       "      <td>-2.921349</td>\n",
       "    </tr>\n",
       "    <tr>\n",
       "      <th>EX_btd_RR_e</th>\n",
       "      <td>0.292135</td>\n",
       "      <td>0.584270</td>\n",
       "      <td>0.876405</td>\n",
       "      <td>1.168539</td>\n",
       "      <td>1.460674</td>\n",
       "      <td>1.752809</td>\n",
       "      <td>2.044944</td>\n",
       "      <td>2.337079</td>\n",
       "      <td>2.629214</td>\n",
       "      <td>2.921349</td>\n",
       "    </tr>\n",
       "  </tbody>\n",
       "</table>\n",
       "</div>\n"
      ],
      "text/plain": [
       "<cameo.strain_design.deterministic.flux_variability_based.FSEOFResult at 0x7fef6680d910>"
      ]
     },
     "execution_count": 161,
     "metadata": {},
     "output_type": "execute_result"
    }
   ],
   "source": [
    "fseof_result"
   ]
  },
  {
   "cell_type": "code",
   "execution_count": 162,
   "id": "c69e0e35",
   "metadata": {
    "scrolled": true
   },
   "outputs": [
    {
     "data": {
      "text/html": [
       "<div>\n",
       "<style scoped>\n",
       "    .dataframe tbody tr th:only-of-type {\n",
       "        vertical-align: middle;\n",
       "    }\n",
       "\n",
       "    .dataframe tbody tr th {\n",
       "        vertical-align: top;\n",
       "    }\n",
       "\n",
       "    .dataframe thead th {\n",
       "        text-align: right;\n",
       "    }\n",
       "</style>\n",
       "<table border=\"1\" class=\"dataframe\">\n",
       "  <thead>\n",
       "    <tr style=\"text-align: right;\">\n",
       "      <th></th>\n",
       "      <th>1</th>\n",
       "      <th>2</th>\n",
       "      <th>3</th>\n",
       "      <th>4</th>\n",
       "      <th>5</th>\n",
       "      <th>6</th>\n",
       "      <th>7</th>\n",
       "      <th>8</th>\n",
       "      <th>9</th>\n",
       "      <th>10</th>\n",
       "      <th>flux_difference</th>\n",
       "    </tr>\n",
       "  </thead>\n",
       "  <tbody>\n",
       "    <tr>\n",
       "      <th>ME2</th>\n",
       "      <td>1.393249</td>\n",
       "      <td>1.898749</td>\n",
       "      <td>2.404249</td>\n",
       "      <td>2.909749</td>\n",
       "      <td>3.415249</td>\n",
       "      <td>3.920749</td>\n",
       "      <td>4.426249</td>\n",
       "      <td>4.931749</td>\n",
       "      <td>5.437249</td>\n",
       "      <td>5.942749</td>\n",
       "      <td>4.549500</td>\n",
       "    </tr>\n",
       "    <tr>\n",
       "      <th>NADTRHD</th>\n",
       "      <td>2.638762</td>\n",
       "      <td>2.986995</td>\n",
       "      <td>3.335227</td>\n",
       "      <td>3.683459</td>\n",
       "      <td>4.031692</td>\n",
       "      <td>4.379924</td>\n",
       "      <td>4.728156</td>\n",
       "      <td>5.076389</td>\n",
       "      <td>5.424621</td>\n",
       "      <td>5.772853</td>\n",
       "      <td>3.134091</td>\n",
       "    </tr>\n",
       "    <tr>\n",
       "      <th>MALS</th>\n",
       "      <td>3.396996</td>\n",
       "      <td>3.707393</td>\n",
       "      <td>4.017789</td>\n",
       "      <td>4.328186</td>\n",
       "      <td>4.638583</td>\n",
       "      <td>4.948980</td>\n",
       "      <td>5.259376</td>\n",
       "      <td>5.569773</td>\n",
       "      <td>5.880170</td>\n",
       "      <td>6.190567</td>\n",
       "      <td>2.793571</td>\n",
       "    </tr>\n",
       "    <tr>\n",
       "      <th>ICL</th>\n",
       "      <td>3.396996</td>\n",
       "      <td>3.707393</td>\n",
       "      <td>4.017789</td>\n",
       "      <td>4.328186</td>\n",
       "      <td>4.638583</td>\n",
       "      <td>4.948980</td>\n",
       "      <td>5.259376</td>\n",
       "      <td>5.569773</td>\n",
       "      <td>5.880170</td>\n",
       "      <td>6.190567</td>\n",
       "      <td>2.793571</td>\n",
       "    </tr>\n",
       "    <tr>\n",
       "      <th>ACLDC</th>\n",
       "      <td>0.292135</td>\n",
       "      <td>0.584270</td>\n",
       "      <td>0.876405</td>\n",
       "      <td>1.168539</td>\n",
       "      <td>1.460674</td>\n",
       "      <td>1.752809</td>\n",
       "      <td>2.044944</td>\n",
       "      <td>2.337079</td>\n",
       "      <td>2.629214</td>\n",
       "      <td>2.921349</td>\n",
       "      <td>2.629214</td>\n",
       "    </tr>\n",
       "    <tr>\n",
       "      <th>EX_btd_RR_e</th>\n",
       "      <td>0.292135</td>\n",
       "      <td>0.584270</td>\n",
       "      <td>0.876405</td>\n",
       "      <td>1.168539</td>\n",
       "      <td>1.460674</td>\n",
       "      <td>1.752809</td>\n",
       "      <td>2.044944</td>\n",
       "      <td>2.337079</td>\n",
       "      <td>2.629214</td>\n",
       "      <td>2.921349</td>\n",
       "      <td>2.629214</td>\n",
       "    </tr>\n",
       "    <tr>\n",
       "      <th>GLUDy</th>\n",
       "      <td>-2.800815</td>\n",
       "      <td>-2.528102</td>\n",
       "      <td>-2.255389</td>\n",
       "      <td>-1.982676</td>\n",
       "      <td>-1.709962</td>\n",
       "      <td>-1.437249</td>\n",
       "      <td>-1.164536</td>\n",
       "      <td>-0.891823</td>\n",
       "      <td>-0.619109</td>\n",
       "      <td>-0.346396</td>\n",
       "      <td>2.454419</td>\n",
       "    </tr>\n",
       "    <tr>\n",
       "      <th>ACLS</th>\n",
       "      <td>0.528293</td>\n",
       "      <td>0.797434</td>\n",
       "      <td>1.066574</td>\n",
       "      <td>1.335714</td>\n",
       "      <td>1.604854</td>\n",
       "      <td>1.873995</td>\n",
       "      <td>2.143135</td>\n",
       "      <td>2.412275</td>\n",
       "      <td>2.681416</td>\n",
       "      <td>2.950556</td>\n",
       "      <td>2.422263</td>\n",
       "    </tr>\n",
       "    <tr>\n",
       "      <th>Htex</th>\n",
       "      <td>10.291953</td>\n",
       "      <td>10.536159</td>\n",
       "      <td>10.780366</td>\n",
       "      <td>11.024573</td>\n",
       "      <td>11.268779</td>\n",
       "      <td>11.512986</td>\n",
       "      <td>11.757193</td>\n",
       "      <td>12.001399</td>\n",
       "      <td>12.245606</td>\n",
       "      <td>12.489813</td>\n",
       "      <td>2.197860</td>\n",
       "    </tr>\n",
       "    <tr>\n",
       "      <th>PPKr</th>\n",
       "      <td>-13.803374</td>\n",
       "      <td>-13.705676</td>\n",
       "      <td>-13.607978</td>\n",
       "      <td>-13.510281</td>\n",
       "      <td>-13.412583</td>\n",
       "      <td>-13.314885</td>\n",
       "      <td>-13.217187</td>\n",
       "      <td>-13.119490</td>\n",
       "      <td>-13.021792</td>\n",
       "      <td>-12.924094</td>\n",
       "      <td>0.879280</td>\n",
       "    </tr>\n",
       "    <tr>\n",
       "      <th>ALATA_L</th>\n",
       "      <td>-0.747631</td>\n",
       "      <td>-0.674835</td>\n",
       "      <td>-0.602039</td>\n",
       "      <td>-0.529242</td>\n",
       "      <td>-0.456446</td>\n",
       "      <td>-0.383650</td>\n",
       "      <td>-0.310854</td>\n",
       "      <td>-0.238057</td>\n",
       "      <td>-0.165261</td>\n",
       "      <td>-0.092465</td>\n",
       "      <td>0.655166</td>\n",
       "    </tr>\n",
       "    <tr>\n",
       "      <th>F6PA</th>\n",
       "      <td>-0.226946</td>\n",
       "      <td>-0.204849</td>\n",
       "      <td>-0.182751</td>\n",
       "      <td>-0.160654</td>\n",
       "      <td>-0.138556</td>\n",
       "      <td>-0.116458</td>\n",
       "      <td>-0.094361</td>\n",
       "      <td>-0.072263</td>\n",
       "      <td>-0.050166</td>\n",
       "      <td>-0.028068</td>\n",
       "      <td>0.198878</td>\n",
       "    </tr>\n",
       "    <tr>\n",
       "      <th>ADK3</th>\n",
       "      <td>-0.171208</td>\n",
       "      <td>-0.154537</td>\n",
       "      <td>-0.137867</td>\n",
       "      <td>-0.121197</td>\n",
       "      <td>-0.104526</td>\n",
       "      <td>-0.087856</td>\n",
       "      <td>-0.071186</td>\n",
       "      <td>-0.054515</td>\n",
       "      <td>-0.037845</td>\n",
       "      <td>-0.021174</td>\n",
       "      <td>0.150034</td>\n",
       "    </tr>\n",
       "    <tr>\n",
       "      <th>GLUt2rpp</th>\n",
       "      <td>-0.001280</td>\n",
       "      <td>-0.001155</td>\n",
       "      <td>-0.001030</td>\n",
       "      <td>-0.000906</td>\n",
       "      <td>-0.000781</td>\n",
       "      <td>-0.000657</td>\n",
       "      <td>-0.000532</td>\n",
       "      <td>-0.000407</td>\n",
       "      <td>-0.000283</td>\n",
       "      <td>-0.000158</td>\n",
       "      <td>0.001122</td>\n",
       "    </tr>\n",
       "    <tr>\n",
       "      <th>IPDDI</th>\n",
       "      <td>0.000075</td>\n",
       "      <td>0.000068</td>\n",
       "      <td>0.000060</td>\n",
       "      <td>0.000053</td>\n",
       "      <td>0.000046</td>\n",
       "      <td>0.000039</td>\n",
       "      <td>0.000031</td>\n",
       "      <td>0.000024</td>\n",
       "      <td>0.000017</td>\n",
       "      <td>0.000009</td>\n",
       "      <td>-0.000066</td>\n",
       "    </tr>\n",
       "    <tr>\n",
       "      <th>ADPT</th>\n",
       "      <td>0.000120</td>\n",
       "      <td>0.000109</td>\n",
       "      <td>0.000097</td>\n",
       "      <td>0.000085</td>\n",
       "      <td>0.000074</td>\n",
       "      <td>0.000062</td>\n",
       "      <td>0.000050</td>\n",
       "      <td>0.000038</td>\n",
       "      <td>0.000027</td>\n",
       "      <td>0.000015</td>\n",
       "      <td>-0.000105</td>\n",
       "    </tr>\n",
       "    <tr>\n",
       "      <th>IPDPS</th>\n",
       "      <td>0.000645</td>\n",
       "      <td>0.000582</td>\n",
       "      <td>0.000520</td>\n",
       "      <td>0.000457</td>\n",
       "      <td>0.000394</td>\n",
       "      <td>0.000331</td>\n",
       "      <td>0.000268</td>\n",
       "      <td>0.000205</td>\n",
       "      <td>0.000143</td>\n",
       "      <td>0.000080</td>\n",
       "      <td>-0.000565</td>\n",
       "    </tr>\n",
       "    <tr>\n",
       "      <th>GLUt4pp</th>\n",
       "      <td>0.001280</td>\n",
       "      <td>0.001155</td>\n",
       "      <td>0.001030</td>\n",
       "      <td>0.000906</td>\n",
       "      <td>0.000781</td>\n",
       "      <td>0.000657</td>\n",
       "      <td>0.000532</td>\n",
       "      <td>0.000407</td>\n",
       "      <td>0.000283</td>\n",
       "      <td>0.000158</td>\n",
       "      <td>-0.001122</td>\n",
       "    </tr>\n",
       "    <tr>\n",
       "      <th>PETNLA161pp</th>\n",
       "      <td>0.001970</td>\n",
       "      <td>0.001778</td>\n",
       "      <td>0.001587</td>\n",
       "      <td>0.001395</td>\n",
       "      <td>0.001203</td>\n",
       "      <td>0.001011</td>\n",
       "      <td>0.000819</td>\n",
       "      <td>0.000627</td>\n",
       "      <td>0.000436</td>\n",
       "      <td>0.000244</td>\n",
       "      <td>-0.001726</td>\n",
       "    </tr>\n",
       "    <tr>\n",
       "      <th>DAGK161</th>\n",
       "      <td>0.001970</td>\n",
       "      <td>0.001778</td>\n",
       "      <td>0.001587</td>\n",
       "      <td>0.001395</td>\n",
       "      <td>0.001203</td>\n",
       "      <td>0.001011</td>\n",
       "      <td>0.000819</td>\n",
       "      <td>0.000627</td>\n",
       "      <td>0.000436</td>\n",
       "      <td>0.000244</td>\n",
       "      <td>-0.001726</td>\n",
       "    </tr>\n",
       "    <tr>\n",
       "      <th>12DGR161tipp</th>\n",
       "      <td>0.001970</td>\n",
       "      <td>0.001778</td>\n",
       "      <td>0.001587</td>\n",
       "      <td>0.001395</td>\n",
       "      <td>0.001203</td>\n",
       "      <td>0.001011</td>\n",
       "      <td>0.000819</td>\n",
       "      <td>0.000627</td>\n",
       "      <td>0.000436</td>\n",
       "      <td>0.000244</td>\n",
       "      <td>-0.001726</td>\n",
       "    </tr>\n",
       "    <tr>\n",
       "      <th>RNDR4b</th>\n",
       "      <td>0.007069</td>\n",
       "      <td>0.006381</td>\n",
       "      <td>0.005692</td>\n",
       "      <td>0.005004</td>\n",
       "      <td>0.004316</td>\n",
       "      <td>0.003627</td>\n",
       "      <td>0.002939</td>\n",
       "      <td>0.002251</td>\n",
       "      <td>0.001563</td>\n",
       "      <td>0.000874</td>\n",
       "      <td>-0.006195</td>\n",
       "    </tr>\n",
       "    <tr>\n",
       "      <th>RNTR3c</th>\n",
       "      <td>0.007299</td>\n",
       "      <td>0.006588</td>\n",
       "      <td>0.005877</td>\n",
       "      <td>0.005167</td>\n",
       "      <td>0.004456</td>\n",
       "      <td>0.003745</td>\n",
       "      <td>0.003035</td>\n",
       "      <td>0.002324</td>\n",
       "      <td>0.001613</td>\n",
       "      <td>0.000903</td>\n",
       "      <td>-0.006396</td>\n",
       "    </tr>\n",
       "    <tr>\n",
       "      <th>FDH5pp</th>\n",
       "      <td>0.012598</td>\n",
       "      <td>0.011371</td>\n",
       "      <td>0.010145</td>\n",
       "      <td>0.008918</td>\n",
       "      <td>0.007691</td>\n",
       "      <td>0.006465</td>\n",
       "      <td>0.005238</td>\n",
       "      <td>0.004011</td>\n",
       "      <td>0.002785</td>\n",
       "      <td>0.001558</td>\n",
       "      <td>-0.011040</td>\n",
       "    </tr>\n",
       "    <tr>\n",
       "      <th>PE161abcpp</th>\n",
       "      <td>0.015176</td>\n",
       "      <td>0.013699</td>\n",
       "      <td>0.012221</td>\n",
       "      <td>0.010743</td>\n",
       "      <td>0.009265</td>\n",
       "      <td>0.007788</td>\n",
       "      <td>0.006310</td>\n",
       "      <td>0.004832</td>\n",
       "      <td>0.003355</td>\n",
       "      <td>0.001877</td>\n",
       "      <td>-0.013299</td>\n",
       "    </tr>\n",
       "    <tr>\n",
       "      <th>FLDR</th>\n",
       "      <td>0.021666</td>\n",
       "      <td>0.019557</td>\n",
       "      <td>0.017447</td>\n",
       "      <td>0.015337</td>\n",
       "      <td>0.013228</td>\n",
       "      <td>0.011118</td>\n",
       "      <td>0.009008</td>\n",
       "      <td>0.006899</td>\n",
       "      <td>0.004789</td>\n",
       "      <td>0.002680</td>\n",
       "      <td>-0.018986</td>\n",
       "    </tr>\n",
       "    <tr>\n",
       "      <th>PAPSR2</th>\n",
       "      <td>0.024953</td>\n",
       "      <td>0.022524</td>\n",
       "      <td>0.020094</td>\n",
       "      <td>0.017664</td>\n",
       "      <td>0.015235</td>\n",
       "      <td>0.012805</td>\n",
       "      <td>0.010375</td>\n",
       "      <td>0.007946</td>\n",
       "      <td>0.005516</td>\n",
       "      <td>0.003086</td>\n",
       "      <td>-0.021867</td>\n",
       "    </tr>\n",
       "    <tr>\n",
       "      <th>GTHOr</th>\n",
       "      <td>0.032022</td>\n",
       "      <td>0.028904</td>\n",
       "      <td>0.025786</td>\n",
       "      <td>0.022668</td>\n",
       "      <td>0.019550</td>\n",
       "      <td>0.016432</td>\n",
       "      <td>0.013314</td>\n",
       "      <td>0.010196</td>\n",
       "      <td>0.007078</td>\n",
       "      <td>0.003960</td>\n",
       "      <td>-0.028062</td>\n",
       "    </tr>\n",
       "    <tr>\n",
       "      <th>GRXR</th>\n",
       "      <td>0.032022</td>\n",
       "      <td>0.028904</td>\n",
       "      <td>0.025786</td>\n",
       "      <td>0.022668</td>\n",
       "      <td>0.019550</td>\n",
       "      <td>0.016432</td>\n",
       "      <td>0.013314</td>\n",
       "      <td>0.010196</td>\n",
       "      <td>0.007078</td>\n",
       "      <td>0.003960</td>\n",
       "      <td>-0.028062</td>\n",
       "    </tr>\n",
       "    <tr>\n",
       "      <th>NDPK3</th>\n",
       "      <td>0.040323</td>\n",
       "      <td>0.036397</td>\n",
       "      <td>0.032471</td>\n",
       "      <td>0.028544</td>\n",
       "      <td>0.024618</td>\n",
       "      <td>0.020692</td>\n",
       "      <td>0.016766</td>\n",
       "      <td>0.012839</td>\n",
       "      <td>0.008913</td>\n",
       "      <td>0.004987</td>\n",
       "      <td>-0.035336</td>\n",
       "    </tr>\n",
       "    <tr>\n",
       "      <th>DHORDfum</th>\n",
       "      <td>0.089353</td>\n",
       "      <td>0.080652</td>\n",
       "      <td>0.071952</td>\n",
       "      <td>0.063252</td>\n",
       "      <td>0.054552</td>\n",
       "      <td>0.045852</td>\n",
       "      <td>0.037151</td>\n",
       "      <td>0.028451</td>\n",
       "      <td>0.019751</td>\n",
       "      <td>0.011051</td>\n",
       "      <td>-0.078302</td>\n",
       "    </tr>\n",
       "    <tr>\n",
       "      <th>ACS</th>\n",
       "      <td>12.915362</td>\n",
       "      <td>12.904129</td>\n",
       "      <td>12.892897</td>\n",
       "      <td>12.881664</td>\n",
       "      <td>12.870431</td>\n",
       "      <td>12.859198</td>\n",
       "      <td>12.847966</td>\n",
       "      <td>12.836733</td>\n",
       "      <td>12.825500</td>\n",
       "      <td>12.814268</td>\n",
       "      <td>-0.101094</td>\n",
       "    </tr>\n",
       "    <tr>\n",
       "      <th>GAPP</th>\n",
       "      <td>0.226946</td>\n",
       "      <td>0.204849</td>\n",
       "      <td>0.182751</td>\n",
       "      <td>0.160654</td>\n",
       "      <td>0.138556</td>\n",
       "      <td>0.116458</td>\n",
       "      <td>0.094361</td>\n",
       "      <td>0.072263</td>\n",
       "      <td>0.050166</td>\n",
       "      <td>0.028068</td>\n",
       "      <td>-0.198878</td>\n",
       "    </tr>\n",
       "    <tr>\n",
       "      <th>GLYCDx</th>\n",
       "      <td>0.226946</td>\n",
       "      <td>0.204849</td>\n",
       "      <td>0.182751</td>\n",
       "      <td>0.160654</td>\n",
       "      <td>0.138556</td>\n",
       "      <td>0.116458</td>\n",
       "      <td>0.094361</td>\n",
       "      <td>0.072263</td>\n",
       "      <td>0.050166</td>\n",
       "      <td>0.028068</td>\n",
       "      <td>-0.198878</td>\n",
       "    </tr>\n",
       "    <tr>\n",
       "      <th>ALCD19</th>\n",
       "      <td>0.226946</td>\n",
       "      <td>0.204849</td>\n",
       "      <td>0.182751</td>\n",
       "      <td>0.160654</td>\n",
       "      <td>0.138556</td>\n",
       "      <td>0.116458</td>\n",
       "      <td>0.094361</td>\n",
       "      <td>0.072263</td>\n",
       "      <td>0.050166</td>\n",
       "      <td>0.028068</td>\n",
       "      <td>-0.198878</td>\n",
       "    </tr>\n",
       "    <tr>\n",
       "      <th>DAAD</th>\n",
       "      <td>0.590172</td>\n",
       "      <td>0.532707</td>\n",
       "      <td>0.475243</td>\n",
       "      <td>0.417778</td>\n",
       "      <td>0.360313</td>\n",
       "      <td>0.302849</td>\n",
       "      <td>0.245384</td>\n",
       "      <td>0.187920</td>\n",
       "      <td>0.130455</td>\n",
       "      <td>0.072991</td>\n",
       "      <td>-0.517181</td>\n",
       "    </tr>\n",
       "    <tr>\n",
       "      <th>ALAR</th>\n",
       "      <td>0.601427</td>\n",
       "      <td>0.542867</td>\n",
       "      <td>0.484306</td>\n",
       "      <td>0.425746</td>\n",
       "      <td>0.367185</td>\n",
       "      <td>0.308625</td>\n",
       "      <td>0.250064</td>\n",
       "      <td>0.191504</td>\n",
       "      <td>0.132943</td>\n",
       "      <td>0.074383</td>\n",
       "      <td>-0.527044</td>\n",
       "    </tr>\n",
       "    <tr>\n",
       "      <th>ADK1</th>\n",
       "      <td>13.752776</td>\n",
       "      <td>13.660005</td>\n",
       "      <td>13.567234</td>\n",
       "      <td>13.474463</td>\n",
       "      <td>13.381692</td>\n",
       "      <td>13.288921</td>\n",
       "      <td>13.196150</td>\n",
       "      <td>13.103379</td>\n",
       "      <td>13.010607</td>\n",
       "      <td>12.917836</td>\n",
       "      <td>-0.834940</td>\n",
       "    </tr>\n",
       "    <tr>\n",
       "      <th>BTDD_RR</th>\n",
       "      <td>-0.292135</td>\n",
       "      <td>-0.584270</td>\n",
       "      <td>-0.876405</td>\n",
       "      <td>-1.168539</td>\n",
       "      <td>-1.460674</td>\n",
       "      <td>-1.752809</td>\n",
       "      <td>-2.044944</td>\n",
       "      <td>-2.337079</td>\n",
       "      <td>-2.629214</td>\n",
       "      <td>-2.921349</td>\n",
       "      <td>-2.629214</td>\n",
       "    </tr>\n",
       "    <tr>\n",
       "      <th>BTDDtpp</th>\n",
       "      <td>-0.292135</td>\n",
       "      <td>-0.584270</td>\n",
       "      <td>-0.876405</td>\n",
       "      <td>-1.168539</td>\n",
       "      <td>-1.460674</td>\n",
       "      <td>-1.752809</td>\n",
       "      <td>-2.044944</td>\n",
       "      <td>-2.337079</td>\n",
       "      <td>-2.629214</td>\n",
       "      <td>-2.921349</td>\n",
       "      <td>-2.629214</td>\n",
       "    </tr>\n",
       "    <tr>\n",
       "      <th>BTDDtex</th>\n",
       "      <td>-0.292135</td>\n",
       "      <td>-0.584270</td>\n",
       "      <td>-0.876405</td>\n",
       "      <td>-1.168539</td>\n",
       "      <td>-1.460674</td>\n",
       "      <td>-1.752809</td>\n",
       "      <td>-2.044944</td>\n",
       "      <td>-2.337079</td>\n",
       "      <td>-2.629214</td>\n",
       "      <td>-2.921349</td>\n",
       "      <td>-2.629214</td>\n",
       "    </tr>\n",
       "    <tr>\n",
       "      <th>NADH17pp</th>\n",
       "      <td>17.114805</td>\n",
       "      <td>16.302110</td>\n",
       "      <td>15.489415</td>\n",
       "      <td>14.676720</td>\n",
       "      <td>13.864024</td>\n",
       "      <td>13.051329</td>\n",
       "      <td>12.238634</td>\n",
       "      <td>11.425939</td>\n",
       "      <td>10.613244</td>\n",
       "      <td>9.800548</td>\n",
       "      <td>-7.314257</td>\n",
       "    </tr>\n",
       "    <tr>\n",
       "      <th>FRD2</th>\n",
       "      <td>17.127403</td>\n",
       "      <td>16.313481</td>\n",
       "      <td>15.499559</td>\n",
       "      <td>14.685638</td>\n",
       "      <td>13.871716</td>\n",
       "      <td>13.057794</td>\n",
       "      <td>12.243872</td>\n",
       "      <td>11.429950</td>\n",
       "      <td>10.616028</td>\n",
       "      <td>9.802107</td>\n",
       "      <td>-7.325296</td>\n",
       "    </tr>\n",
       "    <tr>\n",
       "      <th>SUCDi</th>\n",
       "      <td>25.444964</td>\n",
       "      <td>24.426334</td>\n",
       "      <td>23.407704</td>\n",
       "      <td>22.389075</td>\n",
       "      <td>21.370445</td>\n",
       "      <td>20.351815</td>\n",
       "      <td>19.333185</td>\n",
       "      <td>18.314555</td>\n",
       "      <td>17.295926</td>\n",
       "      <td>16.277296</td>\n",
       "      <td>-9.167668</td>\n",
       "    </tr>\n",
       "  </tbody>\n",
       "</table>\n",
       "</div>"
      ],
      "text/plain": [
       "                      1          2          3          4          5  \\\n",
       "ME2            1.393249   1.898749   2.404249   2.909749   3.415249   \n",
       "NADTRHD        2.638762   2.986995   3.335227   3.683459   4.031692   \n",
       "MALS           3.396996   3.707393   4.017789   4.328186   4.638583   \n",
       "ICL            3.396996   3.707393   4.017789   4.328186   4.638583   \n",
       "ACLDC          0.292135   0.584270   0.876405   1.168539   1.460674   \n",
       "EX_btd_RR_e    0.292135   0.584270   0.876405   1.168539   1.460674   \n",
       "GLUDy         -2.800815  -2.528102  -2.255389  -1.982676  -1.709962   \n",
       "ACLS           0.528293   0.797434   1.066574   1.335714   1.604854   \n",
       "Htex          10.291953  10.536159  10.780366  11.024573  11.268779   \n",
       "PPKr         -13.803374 -13.705676 -13.607978 -13.510281 -13.412583   \n",
       "ALATA_L       -0.747631  -0.674835  -0.602039  -0.529242  -0.456446   \n",
       "F6PA          -0.226946  -0.204849  -0.182751  -0.160654  -0.138556   \n",
       "ADK3          -0.171208  -0.154537  -0.137867  -0.121197  -0.104526   \n",
       "GLUt2rpp      -0.001280  -0.001155  -0.001030  -0.000906  -0.000781   \n",
       "IPDDI          0.000075   0.000068   0.000060   0.000053   0.000046   \n",
       "ADPT           0.000120   0.000109   0.000097   0.000085   0.000074   \n",
       "IPDPS          0.000645   0.000582   0.000520   0.000457   0.000394   \n",
       "GLUt4pp        0.001280   0.001155   0.001030   0.000906   0.000781   \n",
       "PETNLA161pp    0.001970   0.001778   0.001587   0.001395   0.001203   \n",
       "DAGK161        0.001970   0.001778   0.001587   0.001395   0.001203   \n",
       "12DGR161tipp   0.001970   0.001778   0.001587   0.001395   0.001203   \n",
       "RNDR4b         0.007069   0.006381   0.005692   0.005004   0.004316   \n",
       "RNTR3c         0.007299   0.006588   0.005877   0.005167   0.004456   \n",
       "FDH5pp         0.012598   0.011371   0.010145   0.008918   0.007691   \n",
       "PE161abcpp     0.015176   0.013699   0.012221   0.010743   0.009265   \n",
       "FLDR           0.021666   0.019557   0.017447   0.015337   0.013228   \n",
       "PAPSR2         0.024953   0.022524   0.020094   0.017664   0.015235   \n",
       "GTHOr          0.032022   0.028904   0.025786   0.022668   0.019550   \n",
       "GRXR           0.032022   0.028904   0.025786   0.022668   0.019550   \n",
       "NDPK3          0.040323   0.036397   0.032471   0.028544   0.024618   \n",
       "DHORDfum       0.089353   0.080652   0.071952   0.063252   0.054552   \n",
       "ACS           12.915362  12.904129  12.892897  12.881664  12.870431   \n",
       "GAPP           0.226946   0.204849   0.182751   0.160654   0.138556   \n",
       "GLYCDx         0.226946   0.204849   0.182751   0.160654   0.138556   \n",
       "ALCD19         0.226946   0.204849   0.182751   0.160654   0.138556   \n",
       "DAAD           0.590172   0.532707   0.475243   0.417778   0.360313   \n",
       "ALAR           0.601427   0.542867   0.484306   0.425746   0.367185   \n",
       "ADK1          13.752776  13.660005  13.567234  13.474463  13.381692   \n",
       "BTDD_RR       -0.292135  -0.584270  -0.876405  -1.168539  -1.460674   \n",
       "BTDDtpp       -0.292135  -0.584270  -0.876405  -1.168539  -1.460674   \n",
       "BTDDtex       -0.292135  -0.584270  -0.876405  -1.168539  -1.460674   \n",
       "NADH17pp      17.114805  16.302110  15.489415  14.676720  13.864024   \n",
       "FRD2          17.127403  16.313481  15.499559  14.685638  13.871716   \n",
       "SUCDi         25.444964  24.426334  23.407704  22.389075  21.370445   \n",
       "\n",
       "                      6          7          8          9         10  \\\n",
       "ME2            3.920749   4.426249   4.931749   5.437249   5.942749   \n",
       "NADTRHD        4.379924   4.728156   5.076389   5.424621   5.772853   \n",
       "MALS           4.948980   5.259376   5.569773   5.880170   6.190567   \n",
       "ICL            4.948980   5.259376   5.569773   5.880170   6.190567   \n",
       "ACLDC          1.752809   2.044944   2.337079   2.629214   2.921349   \n",
       "EX_btd_RR_e    1.752809   2.044944   2.337079   2.629214   2.921349   \n",
       "GLUDy         -1.437249  -1.164536  -0.891823  -0.619109  -0.346396   \n",
       "ACLS           1.873995   2.143135   2.412275   2.681416   2.950556   \n",
       "Htex          11.512986  11.757193  12.001399  12.245606  12.489813   \n",
       "PPKr         -13.314885 -13.217187 -13.119490 -13.021792 -12.924094   \n",
       "ALATA_L       -0.383650  -0.310854  -0.238057  -0.165261  -0.092465   \n",
       "F6PA          -0.116458  -0.094361  -0.072263  -0.050166  -0.028068   \n",
       "ADK3          -0.087856  -0.071186  -0.054515  -0.037845  -0.021174   \n",
       "GLUt2rpp      -0.000657  -0.000532  -0.000407  -0.000283  -0.000158   \n",
       "IPDDI          0.000039   0.000031   0.000024   0.000017   0.000009   \n",
       "ADPT           0.000062   0.000050   0.000038   0.000027   0.000015   \n",
       "IPDPS          0.000331   0.000268   0.000205   0.000143   0.000080   \n",
       "GLUt4pp        0.000657   0.000532   0.000407   0.000283   0.000158   \n",
       "PETNLA161pp    0.001011   0.000819   0.000627   0.000436   0.000244   \n",
       "DAGK161        0.001011   0.000819   0.000627   0.000436   0.000244   \n",
       "12DGR161tipp   0.001011   0.000819   0.000627   0.000436   0.000244   \n",
       "RNDR4b         0.003627   0.002939   0.002251   0.001563   0.000874   \n",
       "RNTR3c         0.003745   0.003035   0.002324   0.001613   0.000903   \n",
       "FDH5pp         0.006465   0.005238   0.004011   0.002785   0.001558   \n",
       "PE161abcpp     0.007788   0.006310   0.004832   0.003355   0.001877   \n",
       "FLDR           0.011118   0.009008   0.006899   0.004789   0.002680   \n",
       "PAPSR2         0.012805   0.010375   0.007946   0.005516   0.003086   \n",
       "GTHOr          0.016432   0.013314   0.010196   0.007078   0.003960   \n",
       "GRXR           0.016432   0.013314   0.010196   0.007078   0.003960   \n",
       "NDPK3          0.020692   0.016766   0.012839   0.008913   0.004987   \n",
       "DHORDfum       0.045852   0.037151   0.028451   0.019751   0.011051   \n",
       "ACS           12.859198  12.847966  12.836733  12.825500  12.814268   \n",
       "GAPP           0.116458   0.094361   0.072263   0.050166   0.028068   \n",
       "GLYCDx         0.116458   0.094361   0.072263   0.050166   0.028068   \n",
       "ALCD19         0.116458   0.094361   0.072263   0.050166   0.028068   \n",
       "DAAD           0.302849   0.245384   0.187920   0.130455   0.072991   \n",
       "ALAR           0.308625   0.250064   0.191504   0.132943   0.074383   \n",
       "ADK1          13.288921  13.196150  13.103379  13.010607  12.917836   \n",
       "BTDD_RR       -1.752809  -2.044944  -2.337079  -2.629214  -2.921349   \n",
       "BTDDtpp       -1.752809  -2.044944  -2.337079  -2.629214  -2.921349   \n",
       "BTDDtex       -1.752809  -2.044944  -2.337079  -2.629214  -2.921349   \n",
       "NADH17pp      13.051329  12.238634  11.425939  10.613244   9.800548   \n",
       "FRD2          13.057794  12.243872  11.429950  10.616028   9.802107   \n",
       "SUCDi         20.351815  19.333185  18.314555  17.295926  16.277296   \n",
       "\n",
       "              flux_difference  \n",
       "ME2                  4.549500  \n",
       "NADTRHD              3.134091  \n",
       "MALS                 2.793571  \n",
       "ICL                  2.793571  \n",
       "ACLDC                2.629214  \n",
       "EX_btd_RR_e          2.629214  \n",
       "GLUDy                2.454419  \n",
       "ACLS                 2.422263  \n",
       "Htex                 2.197860  \n",
       "PPKr                 0.879280  \n",
       "ALATA_L              0.655166  \n",
       "F6PA                 0.198878  \n",
       "ADK3                 0.150034  \n",
       "GLUt2rpp             0.001122  \n",
       "IPDDI               -0.000066  \n",
       "ADPT                -0.000105  \n",
       "IPDPS               -0.000565  \n",
       "GLUt4pp             -0.001122  \n",
       "PETNLA161pp         -0.001726  \n",
       "DAGK161             -0.001726  \n",
       "12DGR161tipp        -0.001726  \n",
       "RNDR4b              -0.006195  \n",
       "RNTR3c              -0.006396  \n",
       "FDH5pp              -0.011040  \n",
       "PE161abcpp          -0.013299  \n",
       "FLDR                -0.018986  \n",
       "PAPSR2              -0.021867  \n",
       "GTHOr               -0.028062  \n",
       "GRXR                -0.028062  \n",
       "NDPK3               -0.035336  \n",
       "DHORDfum            -0.078302  \n",
       "ACS                 -0.101094  \n",
       "GAPP                -0.198878  \n",
       "GLYCDx              -0.198878  \n",
       "ALCD19              -0.198878  \n",
       "DAAD                -0.517181  \n",
       "ALAR                -0.527044  \n",
       "ADK1                -0.834940  \n",
       "BTDD_RR             -2.629214  \n",
       "BTDDtpp             -2.629214  \n",
       "BTDDtex             -2.629214  \n",
       "NADH17pp            -7.314257  \n",
       "FRD2                -7.325296  \n",
       "SUCDi               -9.167668  "
      ]
     },
     "execution_count": 162,
     "metadata": {},
     "output_type": "execute_result"
    }
   ],
   "source": [
    "data = fseof_result.data_frame\n",
    "data['flux_difference'] = [row[10]-row[1] for index, row in data.iterrows()]\n",
    "data = data.loc[data['flux_difference']!=0]\n",
    "data.sort_values(by='flux_difference', ascending=False)"
   ]
  },
  {
   "cell_type": "code",
   "execution_count": 56,
   "id": "fecfbf0f",
   "metadata": {},
   "outputs": [],
   "source": [
    "data = data.sort_values(by='flux_difference', ascending=False)\n",
    "data.to_csv('fseof_analysis_with_POR5.csv')"
   ]
  },
  {
   "cell_type": "code",
   "execution_count": 104,
   "id": "269753fe",
   "metadata": {
    "scrolled": false
   },
   "outputs": [
    {
     "data": {
      "application/vnd.plotly.v1+json": {
       "config": {
        "plotlyServerURL": "https://plot.ly"
       },
       "data": [
        {
         "hovertemplate": "variable=FLDR2<br>EX_btd_RR_e=%{x}<br>value=%{y}<extra></extra>",
         "legendgroup": "FLDR2",
         "line": {
          "color": "#636efa",
          "dash": "solid",
          "width": 3
         },
         "marker": {
          "symbol": "circle"
         },
         "mode": "lines",
         "name": "FLDR2",
         "orientation": "v",
         "showlegend": true,
         "type": "scatter",
         "x": [
          0.32632406999999997,
          0.6526481399999999,
          0.9789722099999999,
          1.3052962799999999,
          1.63162035,
          1.9579444199999998,
          2.2842684899999997,
          2.6105925599999997,
          2.93691663,
          3.2632407
         ],
         "xaxis": "x",
         "y": [
          1.47064,
          2.042388,
          2.614136,
          3.185884,
          3.757632,
          4.329379,
          4.901127,
          5.472875,
          6.044623,
          6.616371
         ],
         "yaxis": "y"
        },
        {
         "hovertemplate": "variable=SUCDi<br>EX_btd_RR_e=%{x}<br>value=%{y}<extra></extra>",
         "legendgroup": "SUCDi",
         "line": {
          "color": "#EF553B",
          "dash": "solid",
          "width": 3
         },
         "marker": {
          "symbol": "circle"
         },
         "mode": "lines",
         "name": "SUCDi",
         "orientation": "v",
         "showlegend": true,
         "type": "scatter",
         "x": [
          0.32632406999999997,
          0.6526481399999999,
          0.9789722099999999,
          1.3052962799999999,
          1.63162035,
          1.9579444199999998,
          2.2842684899999997,
          2.6105925599999997,
          2.93691663,
          3.2632407
         ],
         "xaxis": "x",
         "y": [
          24.817745,
          23.482402,
          22.14706,
          20.811717,
          19.476375,
          18.141032,
          16.80569,
          15.470347,
          14.135005,
          12.799662
         ],
         "yaxis": "y"
        },
        {
         "hovertemplate": "variable=ACLDC<br>EX_btd_RR_e=%{x}<br>value=%{y}<extra></extra>",
         "legendgroup": "ACLDC",
         "line": {
          "color": "#00cc96",
          "dash": "solid",
          "width": 3
         },
         "marker": {
          "symbol": "circle"
         },
         "mode": "lines",
         "name": "ACLDC",
         "orientation": "v",
         "showlegend": true,
         "type": "scatter",
         "x": [
          0.32632406999999997,
          0.6526481399999999,
          0.9789722099999999,
          1.3052962799999999,
          1.63162035,
          1.9579444199999998,
          2.2842684899999997,
          2.6105925599999997,
          2.93691663,
          3.2632407
         ],
         "xaxis": "x",
         "y": [
          0.326324,
          0.652648,
          0.978972,
          1.305296,
          1.63162,
          1.957944,
          2.284268,
          2.610593,
          2.936917,
          3.263241
         ],
         "yaxis": "y"
        },
        {
         "hovertemplate": "variable=POR5<br>EX_btd_RR_e=%{x}<br>value=%{y}<extra></extra>",
         "legendgroup": "POR5",
         "line": {
          "color": "#ab63fa",
          "dash": "solid",
          "width": 3
         },
         "marker": {
          "symbol": "circle"
         },
         "mode": "lines",
         "name": "POR5",
         "orientation": "v",
         "showlegend": true,
         "type": "scatter",
         "x": [
          0.32632406999999997,
          0.6526481399999999,
          0.9789722099999999,
          1.3052962799999999,
          1.63162035,
          1.9579444199999998,
          2.2842684899999997,
          2.6105925599999997,
          2.93691663,
          3.2632407
         ],
         "xaxis": "x",
         "y": [
          -1.47064,
          -2.042388,
          -2.614136,
          -3.185884,
          -3.757632,
          -4.329379,
          -4.901127,
          -5.472875,
          -6.044623,
          -6.616371
         ],
         "yaxis": "y"
        },
        {
         "hovertemplate": "variable=FRD2<br>EX_btd_RR_e=%{x}<br>value=%{y}<extra></extra>",
         "legendgroup": "FRD2",
         "line": {
          "color": "#FFA15A",
          "dash": "solid",
          "width": 3
         },
         "marker": {
          "symbol": "circle"
         },
         "mode": "lines",
         "name": "FRD2",
         "orientation": "v",
         "showlegend": true,
         "type": "scatter",
         "x": [
          0.32632406999999997,
          0.6526481399999999,
          0.9789722099999999,
          1.3052962799999999,
          1.63162035,
          1.9579444199999998,
          2.2842684899999997,
          2.6105925599999997,
          2.93691663,
          3.2632407
         ],
         "xaxis": "x",
         "y": [
          16.70234,
          15.620882,
          14.539424,
          13.457965,
          12.376507,
          11.295048,
          10.21359,
          9.132132,
          8.050673,
          6.969215
         ],
         "yaxis": "y"
        }
       ],
       "layout": {
        "font": {
         "size": 30
        },
        "legend": {
         "font": {
          "size": 16
         },
         "title": {
          "text": "Reactions"
         },
         "tracegroupgap": 0
        },
        "margin": {
         "t": 60
        },
        "paper_bgcolor": "rgba(0,0,0,0)",
        "plot_bgcolor": "rgba(0,0,0,0)",
        "template": {
         "data": {
          "bar": [
           {
            "error_x": {
             "color": "#2a3f5f"
            },
            "error_y": {
             "color": "#2a3f5f"
            },
            "marker": {
             "line": {
              "color": "#E5ECF6",
              "width": 0.5
             },
             "pattern": {
              "fillmode": "overlay",
              "size": 10,
              "solidity": 0.2
             }
            },
            "type": "bar"
           }
          ],
          "barpolar": [
           {
            "marker": {
             "line": {
              "color": "#E5ECF6",
              "width": 0.5
             },
             "pattern": {
              "fillmode": "overlay",
              "size": 10,
              "solidity": 0.2
             }
            },
            "type": "barpolar"
           }
          ],
          "carpet": [
           {
            "aaxis": {
             "endlinecolor": "#2a3f5f",
             "gridcolor": "white",
             "linecolor": "white",
             "minorgridcolor": "white",
             "startlinecolor": "#2a3f5f"
            },
            "baxis": {
             "endlinecolor": "#2a3f5f",
             "gridcolor": "white",
             "linecolor": "white",
             "minorgridcolor": "white",
             "startlinecolor": "#2a3f5f"
            },
            "type": "carpet"
           }
          ],
          "choropleth": [
           {
            "colorbar": {
             "outlinewidth": 0,
             "ticks": ""
            },
            "type": "choropleth"
           }
          ],
          "contour": [
           {
            "colorbar": {
             "outlinewidth": 0,
             "ticks": ""
            },
            "colorscale": [
             [
              0,
              "#0d0887"
             ],
             [
              0.1111111111111111,
              "#46039f"
             ],
             [
              0.2222222222222222,
              "#7201a8"
             ],
             [
              0.3333333333333333,
              "#9c179e"
             ],
             [
              0.4444444444444444,
              "#bd3786"
             ],
             [
              0.5555555555555556,
              "#d8576b"
             ],
             [
              0.6666666666666666,
              "#ed7953"
             ],
             [
              0.7777777777777778,
              "#fb9f3a"
             ],
             [
              0.8888888888888888,
              "#fdca26"
             ],
             [
              1,
              "#f0f921"
             ]
            ],
            "type": "contour"
           }
          ],
          "contourcarpet": [
           {
            "colorbar": {
             "outlinewidth": 0,
             "ticks": ""
            },
            "type": "contourcarpet"
           }
          ],
          "heatmap": [
           {
            "colorbar": {
             "outlinewidth": 0,
             "ticks": ""
            },
            "colorscale": [
             [
              0,
              "#0d0887"
             ],
             [
              0.1111111111111111,
              "#46039f"
             ],
             [
              0.2222222222222222,
              "#7201a8"
             ],
             [
              0.3333333333333333,
              "#9c179e"
             ],
             [
              0.4444444444444444,
              "#bd3786"
             ],
             [
              0.5555555555555556,
              "#d8576b"
             ],
             [
              0.6666666666666666,
              "#ed7953"
             ],
             [
              0.7777777777777778,
              "#fb9f3a"
             ],
             [
              0.8888888888888888,
              "#fdca26"
             ],
             [
              1,
              "#f0f921"
             ]
            ],
            "type": "heatmap"
           }
          ],
          "heatmapgl": [
           {
            "colorbar": {
             "outlinewidth": 0,
             "ticks": ""
            },
            "colorscale": [
             [
              0,
              "#0d0887"
             ],
             [
              0.1111111111111111,
              "#46039f"
             ],
             [
              0.2222222222222222,
              "#7201a8"
             ],
             [
              0.3333333333333333,
              "#9c179e"
             ],
             [
              0.4444444444444444,
              "#bd3786"
             ],
             [
              0.5555555555555556,
              "#d8576b"
             ],
             [
              0.6666666666666666,
              "#ed7953"
             ],
             [
              0.7777777777777778,
              "#fb9f3a"
             ],
             [
              0.8888888888888888,
              "#fdca26"
             ],
             [
              1,
              "#f0f921"
             ]
            ],
            "type": "heatmapgl"
           }
          ],
          "histogram": [
           {
            "marker": {
             "pattern": {
              "fillmode": "overlay",
              "size": 10,
              "solidity": 0.2
             }
            },
            "type": "histogram"
           }
          ],
          "histogram2d": [
           {
            "colorbar": {
             "outlinewidth": 0,
             "ticks": ""
            },
            "colorscale": [
             [
              0,
              "#0d0887"
             ],
             [
              0.1111111111111111,
              "#46039f"
             ],
             [
              0.2222222222222222,
              "#7201a8"
             ],
             [
              0.3333333333333333,
              "#9c179e"
             ],
             [
              0.4444444444444444,
              "#bd3786"
             ],
             [
              0.5555555555555556,
              "#d8576b"
             ],
             [
              0.6666666666666666,
              "#ed7953"
             ],
             [
              0.7777777777777778,
              "#fb9f3a"
             ],
             [
              0.8888888888888888,
              "#fdca26"
             ],
             [
              1,
              "#f0f921"
             ]
            ],
            "type": "histogram2d"
           }
          ],
          "histogram2dcontour": [
           {
            "colorbar": {
             "outlinewidth": 0,
             "ticks": ""
            },
            "colorscale": [
             [
              0,
              "#0d0887"
             ],
             [
              0.1111111111111111,
              "#46039f"
             ],
             [
              0.2222222222222222,
              "#7201a8"
             ],
             [
              0.3333333333333333,
              "#9c179e"
             ],
             [
              0.4444444444444444,
              "#bd3786"
             ],
             [
              0.5555555555555556,
              "#d8576b"
             ],
             [
              0.6666666666666666,
              "#ed7953"
             ],
             [
              0.7777777777777778,
              "#fb9f3a"
             ],
             [
              0.8888888888888888,
              "#fdca26"
             ],
             [
              1,
              "#f0f921"
             ]
            ],
            "type": "histogram2dcontour"
           }
          ],
          "mesh3d": [
           {
            "colorbar": {
             "outlinewidth": 0,
             "ticks": ""
            },
            "type": "mesh3d"
           }
          ],
          "parcoords": [
           {
            "line": {
             "colorbar": {
              "outlinewidth": 0,
              "ticks": ""
             }
            },
            "type": "parcoords"
           }
          ],
          "pie": [
           {
            "automargin": true,
            "type": "pie"
           }
          ],
          "scatter": [
           {
            "marker": {
             "colorbar": {
              "outlinewidth": 0,
              "ticks": ""
             }
            },
            "type": "scatter"
           }
          ],
          "scatter3d": [
           {
            "line": {
             "colorbar": {
              "outlinewidth": 0,
              "ticks": ""
             }
            },
            "marker": {
             "colorbar": {
              "outlinewidth": 0,
              "ticks": ""
             }
            },
            "type": "scatter3d"
           }
          ],
          "scattercarpet": [
           {
            "marker": {
             "colorbar": {
              "outlinewidth": 0,
              "ticks": ""
             }
            },
            "type": "scattercarpet"
           }
          ],
          "scattergeo": [
           {
            "marker": {
             "colorbar": {
              "outlinewidth": 0,
              "ticks": ""
             }
            },
            "type": "scattergeo"
           }
          ],
          "scattergl": [
           {
            "marker": {
             "colorbar": {
              "outlinewidth": 0,
              "ticks": ""
             }
            },
            "type": "scattergl"
           }
          ],
          "scattermapbox": [
           {
            "marker": {
             "colorbar": {
              "outlinewidth": 0,
              "ticks": ""
             }
            },
            "type": "scattermapbox"
           }
          ],
          "scatterpolar": [
           {
            "marker": {
             "colorbar": {
              "outlinewidth": 0,
              "ticks": ""
             }
            },
            "type": "scatterpolar"
           }
          ],
          "scatterpolargl": [
           {
            "marker": {
             "colorbar": {
              "outlinewidth": 0,
              "ticks": ""
             }
            },
            "type": "scatterpolargl"
           }
          ],
          "scatterternary": [
           {
            "marker": {
             "colorbar": {
              "outlinewidth": 0,
              "ticks": ""
             }
            },
            "type": "scatterternary"
           }
          ],
          "surface": [
           {
            "colorbar": {
             "outlinewidth": 0,
             "ticks": ""
            },
            "colorscale": [
             [
              0,
              "#0d0887"
             ],
             [
              0.1111111111111111,
              "#46039f"
             ],
             [
              0.2222222222222222,
              "#7201a8"
             ],
             [
              0.3333333333333333,
              "#9c179e"
             ],
             [
              0.4444444444444444,
              "#bd3786"
             ],
             [
              0.5555555555555556,
              "#d8576b"
             ],
             [
              0.6666666666666666,
              "#ed7953"
             ],
             [
              0.7777777777777778,
              "#fb9f3a"
             ],
             [
              0.8888888888888888,
              "#fdca26"
             ],
             [
              1,
              "#f0f921"
             ]
            ],
            "type": "surface"
           }
          ],
          "table": [
           {
            "cells": {
             "fill": {
              "color": "#EBF0F8"
             },
             "line": {
              "color": "white"
             }
            },
            "header": {
             "fill": {
              "color": "#C8D4E3"
             },
             "line": {
              "color": "white"
             }
            },
            "type": "table"
           }
          ]
         },
         "layout": {
          "annotationdefaults": {
           "arrowcolor": "#2a3f5f",
           "arrowhead": 0,
           "arrowwidth": 1
          },
          "autotypenumbers": "strict",
          "coloraxis": {
           "colorbar": {
            "outlinewidth": 0,
            "ticks": ""
           }
          },
          "colorscale": {
           "diverging": [
            [
             0,
             "#8e0152"
            ],
            [
             0.1,
             "#c51b7d"
            ],
            [
             0.2,
             "#de77ae"
            ],
            [
             0.3,
             "#f1b6da"
            ],
            [
             0.4,
             "#fde0ef"
            ],
            [
             0.5,
             "#f7f7f7"
            ],
            [
             0.6,
             "#e6f5d0"
            ],
            [
             0.7,
             "#b8e186"
            ],
            [
             0.8,
             "#7fbc41"
            ],
            [
             0.9,
             "#4d9221"
            ],
            [
             1,
             "#276419"
            ]
           ],
           "sequential": [
            [
             0,
             "#0d0887"
            ],
            [
             0.1111111111111111,
             "#46039f"
            ],
            [
             0.2222222222222222,
             "#7201a8"
            ],
            [
             0.3333333333333333,
             "#9c179e"
            ],
            [
             0.4444444444444444,
             "#bd3786"
            ],
            [
             0.5555555555555556,
             "#d8576b"
            ],
            [
             0.6666666666666666,
             "#ed7953"
            ],
            [
             0.7777777777777778,
             "#fb9f3a"
            ],
            [
             0.8888888888888888,
             "#fdca26"
            ],
            [
             1,
             "#f0f921"
            ]
           ],
           "sequentialminus": [
            [
             0,
             "#0d0887"
            ],
            [
             0.1111111111111111,
             "#46039f"
            ],
            [
             0.2222222222222222,
             "#7201a8"
            ],
            [
             0.3333333333333333,
             "#9c179e"
            ],
            [
             0.4444444444444444,
             "#bd3786"
            ],
            [
             0.5555555555555556,
             "#d8576b"
            ],
            [
             0.6666666666666666,
             "#ed7953"
            ],
            [
             0.7777777777777778,
             "#fb9f3a"
            ],
            [
             0.8888888888888888,
             "#fdca26"
            ],
            [
             1,
             "#f0f921"
            ]
           ]
          },
          "colorway": [
           "#636efa",
           "#EF553B",
           "#00cc96",
           "#ab63fa",
           "#FFA15A",
           "#19d3f3",
           "#FF6692",
           "#B6E880",
           "#FF97FF",
           "#FECB52"
          ],
          "font": {
           "color": "#2a3f5f"
          },
          "geo": {
           "bgcolor": "white",
           "lakecolor": "white",
           "landcolor": "#E5ECF6",
           "showlakes": true,
           "showland": true,
           "subunitcolor": "white"
          },
          "hoverlabel": {
           "align": "left"
          },
          "hovermode": "closest",
          "mapbox": {
           "style": "light"
          },
          "paper_bgcolor": "white",
          "plot_bgcolor": "#E5ECF6",
          "polar": {
           "angularaxis": {
            "gridcolor": "white",
            "linecolor": "white",
            "ticks": ""
           },
           "bgcolor": "#E5ECF6",
           "radialaxis": {
            "gridcolor": "white",
            "linecolor": "white",
            "ticks": ""
           }
          },
          "scene": {
           "xaxis": {
            "backgroundcolor": "#E5ECF6",
            "gridcolor": "white",
            "gridwidth": 2,
            "linecolor": "white",
            "showbackground": true,
            "ticks": "",
            "zerolinecolor": "white"
           },
           "yaxis": {
            "backgroundcolor": "#E5ECF6",
            "gridcolor": "white",
            "gridwidth": 2,
            "linecolor": "white",
            "showbackground": true,
            "ticks": "",
            "zerolinecolor": "white"
           },
           "zaxis": {
            "backgroundcolor": "#E5ECF6",
            "gridcolor": "white",
            "gridwidth": 2,
            "linecolor": "white",
            "showbackground": true,
            "ticks": "",
            "zerolinecolor": "white"
           }
          },
          "shapedefaults": {
           "line": {
            "color": "#2a3f5f"
           }
          },
          "ternary": {
           "aaxis": {
            "gridcolor": "white",
            "linecolor": "white",
            "ticks": ""
           },
           "baxis": {
            "gridcolor": "white",
            "linecolor": "white",
            "ticks": ""
           },
           "bgcolor": "#E5ECF6",
           "caxis": {
            "gridcolor": "white",
            "linecolor": "white",
            "ticks": ""
           }
          },
          "title": {
           "x": 0.05
          },
          "xaxis": {
           "automargin": true,
           "gridcolor": "white",
           "linecolor": "white",
           "ticks": "",
           "title": {
            "standoff": 15
           },
           "zerolinecolor": "white",
           "zerolinewidth": 2
          },
          "yaxis": {
           "automargin": true,
           "gridcolor": "white",
           "linecolor": "white",
           "ticks": "",
           "title": {
            "standoff": 15
           },
           "zerolinecolor": "white",
           "zerolinewidth": 2
          }
         }
        },
        "title": {
         "text": "FSEOF result for isobutanol production",
         "x": 0.5
        },
        "xaxis": {
         "anchor": "y",
         "domain": [
          0,
          1
         ],
         "linecolor": "black",
         "linewidth": 3,
         "showline": true,
         "tickcolor": "black",
         "ticklen": 5,
         "ticks": "inside",
         "tickwidth": 3,
         "title": {
          "text": "Isobutanol Flux"
         }
        },
        "yaxis": {
         "anchor": "x",
         "domain": [
          0,
          1
         ],
         "linecolor": "black",
         "linewidth": 3,
         "showline": true,
         "tickcolor": "black",
         "ticklen": 5,
         "ticks": "inside",
         "tickwidth": 3,
         "title": {
          "text": "Flux of top coupled reactions"
         }
        }
       }
      },
      "text/html": [
       "<div>                            <div id=\"71ceb071-ade1-4078-8216-ca9a142e53cc\" class=\"plotly-graph-div\" style=\"height:525px; width:100%;\"></div>            <script type=\"text/javascript\">                require([\"plotly\"], function(Plotly) {                    window.PLOTLYENV=window.PLOTLYENV || {};                                    if (document.getElementById(\"71ceb071-ade1-4078-8216-ca9a142e53cc\")) {                    Plotly.newPlot(                        \"71ceb071-ade1-4078-8216-ca9a142e53cc\",                        [{\"hovertemplate\":\"variable=FLDR2<br>EX_btd_RR_e=%{x}<br>value=%{y}<extra></extra>\",\"legendgroup\":\"FLDR2\",\"line\":{\"color\":\"#636efa\",\"dash\":\"solid\",\"width\":3.0},\"marker\":{\"symbol\":\"circle\"},\"mode\":\"lines\",\"name\":\"FLDR2\",\"orientation\":\"v\",\"showlegend\":true,\"x\":[0.32632406999999997,0.6526481399999999,0.9789722099999999,1.3052962799999999,1.63162035,1.9579444199999998,2.2842684899999997,2.6105925599999997,2.93691663,3.2632407],\"xaxis\":\"x\",\"y\":[1.47064,2.042388,2.614136,3.185884,3.757632,4.329379,4.901127,5.472875,6.044623,6.616371],\"yaxis\":\"y\",\"type\":\"scatter\"},{\"hovertemplate\":\"variable=SUCDi<br>EX_btd_RR_e=%{x}<br>value=%{y}<extra></extra>\",\"legendgroup\":\"SUCDi\",\"line\":{\"color\":\"#EF553B\",\"dash\":\"solid\",\"width\":3.0},\"marker\":{\"symbol\":\"circle\"},\"mode\":\"lines\",\"name\":\"SUCDi\",\"orientation\":\"v\",\"showlegend\":true,\"x\":[0.32632406999999997,0.6526481399999999,0.9789722099999999,1.3052962799999999,1.63162035,1.9579444199999998,2.2842684899999997,2.6105925599999997,2.93691663,3.2632407],\"xaxis\":\"x\",\"y\":[24.817745,23.482402,22.14706,20.811717,19.476375,18.141032,16.80569,15.470347,14.135005,12.799662],\"yaxis\":\"y\",\"type\":\"scatter\"},{\"hovertemplate\":\"variable=ACLDC<br>EX_btd_RR_e=%{x}<br>value=%{y}<extra></extra>\",\"legendgroup\":\"ACLDC\",\"line\":{\"color\":\"#00cc96\",\"dash\":\"solid\",\"width\":3.0},\"marker\":{\"symbol\":\"circle\"},\"mode\":\"lines\",\"name\":\"ACLDC\",\"orientation\":\"v\",\"showlegend\":true,\"x\":[0.32632406999999997,0.6526481399999999,0.9789722099999999,1.3052962799999999,1.63162035,1.9579444199999998,2.2842684899999997,2.6105925599999997,2.93691663,3.2632407],\"xaxis\":\"x\",\"y\":[0.326324,0.652648,0.978972,1.305296,1.63162,1.957944,2.284268,2.610593,2.936917,3.263241],\"yaxis\":\"y\",\"type\":\"scatter\"},{\"hovertemplate\":\"variable=POR5<br>EX_btd_RR_e=%{x}<br>value=%{y}<extra></extra>\",\"legendgroup\":\"POR5\",\"line\":{\"color\":\"#ab63fa\",\"dash\":\"solid\",\"width\":3.0},\"marker\":{\"symbol\":\"circle\"},\"mode\":\"lines\",\"name\":\"POR5\",\"orientation\":\"v\",\"showlegend\":true,\"x\":[0.32632406999999997,0.6526481399999999,0.9789722099999999,1.3052962799999999,1.63162035,1.9579444199999998,2.2842684899999997,2.6105925599999997,2.93691663,3.2632407],\"xaxis\":\"x\",\"y\":[-1.47064,-2.042388,-2.614136,-3.185884,-3.757632,-4.329379,-4.901127,-5.472875,-6.044623,-6.616371],\"yaxis\":\"y\",\"type\":\"scatter\"},{\"hovertemplate\":\"variable=FRD2<br>EX_btd_RR_e=%{x}<br>value=%{y}<extra></extra>\",\"legendgroup\":\"FRD2\",\"line\":{\"color\":\"#FFA15A\",\"dash\":\"solid\",\"width\":3.0},\"marker\":{\"symbol\":\"circle\"},\"mode\":\"lines\",\"name\":\"FRD2\",\"orientation\":\"v\",\"showlegend\":true,\"x\":[0.32632406999999997,0.6526481399999999,0.9789722099999999,1.3052962799999999,1.63162035,1.9579444199999998,2.2842684899999997,2.6105925599999997,2.93691663,3.2632407],\"xaxis\":\"x\",\"y\":[16.70234,15.620882,14.539424,13.457965,12.376507,11.295048,10.21359,9.132132,8.050673,6.969215],\"yaxis\":\"y\",\"type\":\"scatter\"}],                        {\"template\":{\"data\":{\"bar\":[{\"error_x\":{\"color\":\"#2a3f5f\"},\"error_y\":{\"color\":\"#2a3f5f\"},\"marker\":{\"line\":{\"color\":\"#E5ECF6\",\"width\":0.5},\"pattern\":{\"fillmode\":\"overlay\",\"size\":10,\"solidity\":0.2}},\"type\":\"bar\"}],\"barpolar\":[{\"marker\":{\"line\":{\"color\":\"#E5ECF6\",\"width\":0.5},\"pattern\":{\"fillmode\":\"overlay\",\"size\":10,\"solidity\":0.2}},\"type\":\"barpolar\"}],\"carpet\":[{\"aaxis\":{\"endlinecolor\":\"#2a3f5f\",\"gridcolor\":\"white\",\"linecolor\":\"white\",\"minorgridcolor\":\"white\",\"startlinecolor\":\"#2a3f5f\"},\"baxis\":{\"endlinecolor\":\"#2a3f5f\",\"gridcolor\":\"white\",\"linecolor\":\"white\",\"minorgridcolor\":\"white\",\"startlinecolor\":\"#2a3f5f\"},\"type\":\"carpet\"}],\"choropleth\":[{\"colorbar\":{\"outlinewidth\":0,\"ticks\":\"\"},\"type\":\"choropleth\"}],\"contour\":[{\"colorbar\":{\"outlinewidth\":0,\"ticks\":\"\"},\"colorscale\":[[0.0,\"#0d0887\"],[0.1111111111111111,\"#46039f\"],[0.2222222222222222,\"#7201a8\"],[0.3333333333333333,\"#9c179e\"],[0.4444444444444444,\"#bd3786\"],[0.5555555555555556,\"#d8576b\"],[0.6666666666666666,\"#ed7953\"],[0.7777777777777778,\"#fb9f3a\"],[0.8888888888888888,\"#fdca26\"],[1.0,\"#f0f921\"]],\"type\":\"contour\"}],\"contourcarpet\":[{\"colorbar\":{\"outlinewidth\":0,\"ticks\":\"\"},\"type\":\"contourcarpet\"}],\"heatmap\":[{\"colorbar\":{\"outlinewidth\":0,\"ticks\":\"\"},\"colorscale\":[[0.0,\"#0d0887\"],[0.1111111111111111,\"#46039f\"],[0.2222222222222222,\"#7201a8\"],[0.3333333333333333,\"#9c179e\"],[0.4444444444444444,\"#bd3786\"],[0.5555555555555556,\"#d8576b\"],[0.6666666666666666,\"#ed7953\"],[0.7777777777777778,\"#fb9f3a\"],[0.8888888888888888,\"#fdca26\"],[1.0,\"#f0f921\"]],\"type\":\"heatmap\"}],\"heatmapgl\":[{\"colorbar\":{\"outlinewidth\":0,\"ticks\":\"\"},\"colorscale\":[[0.0,\"#0d0887\"],[0.1111111111111111,\"#46039f\"],[0.2222222222222222,\"#7201a8\"],[0.3333333333333333,\"#9c179e\"],[0.4444444444444444,\"#bd3786\"],[0.5555555555555556,\"#d8576b\"],[0.6666666666666666,\"#ed7953\"],[0.7777777777777778,\"#fb9f3a\"],[0.8888888888888888,\"#fdca26\"],[1.0,\"#f0f921\"]],\"type\":\"heatmapgl\"}],\"histogram\":[{\"marker\":{\"pattern\":{\"fillmode\":\"overlay\",\"size\":10,\"solidity\":0.2}},\"type\":\"histogram\"}],\"histogram2d\":[{\"colorbar\":{\"outlinewidth\":0,\"ticks\":\"\"},\"colorscale\":[[0.0,\"#0d0887\"],[0.1111111111111111,\"#46039f\"],[0.2222222222222222,\"#7201a8\"],[0.3333333333333333,\"#9c179e\"],[0.4444444444444444,\"#bd3786\"],[0.5555555555555556,\"#d8576b\"],[0.6666666666666666,\"#ed7953\"],[0.7777777777777778,\"#fb9f3a\"],[0.8888888888888888,\"#fdca26\"],[1.0,\"#f0f921\"]],\"type\":\"histogram2d\"}],\"histogram2dcontour\":[{\"colorbar\":{\"outlinewidth\":0,\"ticks\":\"\"},\"colorscale\":[[0.0,\"#0d0887\"],[0.1111111111111111,\"#46039f\"],[0.2222222222222222,\"#7201a8\"],[0.3333333333333333,\"#9c179e\"],[0.4444444444444444,\"#bd3786\"],[0.5555555555555556,\"#d8576b\"],[0.6666666666666666,\"#ed7953\"],[0.7777777777777778,\"#fb9f3a\"],[0.8888888888888888,\"#fdca26\"],[1.0,\"#f0f921\"]],\"type\":\"histogram2dcontour\"}],\"mesh3d\":[{\"colorbar\":{\"outlinewidth\":0,\"ticks\":\"\"},\"type\":\"mesh3d\"}],\"parcoords\":[{\"line\":{\"colorbar\":{\"outlinewidth\":0,\"ticks\":\"\"}},\"type\":\"parcoords\"}],\"pie\":[{\"automargin\":true,\"type\":\"pie\"}],\"scatter\":[{\"marker\":{\"colorbar\":{\"outlinewidth\":0,\"ticks\":\"\"}},\"type\":\"scatter\"}],\"scatter3d\":[{\"line\":{\"colorbar\":{\"outlinewidth\":0,\"ticks\":\"\"}},\"marker\":{\"colorbar\":{\"outlinewidth\":0,\"ticks\":\"\"}},\"type\":\"scatter3d\"}],\"scattercarpet\":[{\"marker\":{\"colorbar\":{\"outlinewidth\":0,\"ticks\":\"\"}},\"type\":\"scattercarpet\"}],\"scattergeo\":[{\"marker\":{\"colorbar\":{\"outlinewidth\":0,\"ticks\":\"\"}},\"type\":\"scattergeo\"}],\"scattergl\":[{\"marker\":{\"colorbar\":{\"outlinewidth\":0,\"ticks\":\"\"}},\"type\":\"scattergl\"}],\"scattermapbox\":[{\"marker\":{\"colorbar\":{\"outlinewidth\":0,\"ticks\":\"\"}},\"type\":\"scattermapbox\"}],\"scatterpolar\":[{\"marker\":{\"colorbar\":{\"outlinewidth\":0,\"ticks\":\"\"}},\"type\":\"scatterpolar\"}],\"scatterpolargl\":[{\"marker\":{\"colorbar\":{\"outlinewidth\":0,\"ticks\":\"\"}},\"type\":\"scatterpolargl\"}],\"scatterternary\":[{\"marker\":{\"colorbar\":{\"outlinewidth\":0,\"ticks\":\"\"}},\"type\":\"scatterternary\"}],\"surface\":[{\"colorbar\":{\"outlinewidth\":0,\"ticks\":\"\"},\"colorscale\":[[0.0,\"#0d0887\"],[0.1111111111111111,\"#46039f\"],[0.2222222222222222,\"#7201a8\"],[0.3333333333333333,\"#9c179e\"],[0.4444444444444444,\"#bd3786\"],[0.5555555555555556,\"#d8576b\"],[0.6666666666666666,\"#ed7953\"],[0.7777777777777778,\"#fb9f3a\"],[0.8888888888888888,\"#fdca26\"],[1.0,\"#f0f921\"]],\"type\":\"surface\"}],\"table\":[{\"cells\":{\"fill\":{\"color\":\"#EBF0F8\"},\"line\":{\"color\":\"white\"}},\"header\":{\"fill\":{\"color\":\"#C8D4E3\"},\"line\":{\"color\":\"white\"}},\"type\":\"table\"}]},\"layout\":{\"annotationdefaults\":{\"arrowcolor\":\"#2a3f5f\",\"arrowhead\":0,\"arrowwidth\":1},\"autotypenumbers\":\"strict\",\"coloraxis\":{\"colorbar\":{\"outlinewidth\":0,\"ticks\":\"\"}},\"colorscale\":{\"diverging\":[[0,\"#8e0152\"],[0.1,\"#c51b7d\"],[0.2,\"#de77ae\"],[0.3,\"#f1b6da\"],[0.4,\"#fde0ef\"],[0.5,\"#f7f7f7\"],[0.6,\"#e6f5d0\"],[0.7,\"#b8e186\"],[0.8,\"#7fbc41\"],[0.9,\"#4d9221\"],[1,\"#276419\"]],\"sequential\":[[0.0,\"#0d0887\"],[0.1111111111111111,\"#46039f\"],[0.2222222222222222,\"#7201a8\"],[0.3333333333333333,\"#9c179e\"],[0.4444444444444444,\"#bd3786\"],[0.5555555555555556,\"#d8576b\"],[0.6666666666666666,\"#ed7953\"],[0.7777777777777778,\"#fb9f3a\"],[0.8888888888888888,\"#fdca26\"],[1.0,\"#f0f921\"]],\"sequentialminus\":[[0.0,\"#0d0887\"],[0.1111111111111111,\"#46039f\"],[0.2222222222222222,\"#7201a8\"],[0.3333333333333333,\"#9c179e\"],[0.4444444444444444,\"#bd3786\"],[0.5555555555555556,\"#d8576b\"],[0.6666666666666666,\"#ed7953\"],[0.7777777777777778,\"#fb9f3a\"],[0.8888888888888888,\"#fdca26\"],[1.0,\"#f0f921\"]]},\"colorway\":[\"#636efa\",\"#EF553B\",\"#00cc96\",\"#ab63fa\",\"#FFA15A\",\"#19d3f3\",\"#FF6692\",\"#B6E880\",\"#FF97FF\",\"#FECB52\"],\"font\":{\"color\":\"#2a3f5f\"},\"geo\":{\"bgcolor\":\"white\",\"lakecolor\":\"white\",\"landcolor\":\"#E5ECF6\",\"showlakes\":true,\"showland\":true,\"subunitcolor\":\"white\"},\"hoverlabel\":{\"align\":\"left\"},\"hovermode\":\"closest\",\"mapbox\":{\"style\":\"light\"},\"paper_bgcolor\":\"white\",\"plot_bgcolor\":\"#E5ECF6\",\"polar\":{\"angularaxis\":{\"gridcolor\":\"white\",\"linecolor\":\"white\",\"ticks\":\"\"},\"bgcolor\":\"#E5ECF6\",\"radialaxis\":{\"gridcolor\":\"white\",\"linecolor\":\"white\",\"ticks\":\"\"}},\"scene\":{\"xaxis\":{\"backgroundcolor\":\"#E5ECF6\",\"gridcolor\":\"white\",\"gridwidth\":2,\"linecolor\":\"white\",\"showbackground\":true,\"ticks\":\"\",\"zerolinecolor\":\"white\"},\"yaxis\":{\"backgroundcolor\":\"#E5ECF6\",\"gridcolor\":\"white\",\"gridwidth\":2,\"linecolor\":\"white\",\"showbackground\":true,\"ticks\":\"\",\"zerolinecolor\":\"white\"},\"zaxis\":{\"backgroundcolor\":\"#E5ECF6\",\"gridcolor\":\"white\",\"gridwidth\":2,\"linecolor\":\"white\",\"showbackground\":true,\"ticks\":\"\",\"zerolinecolor\":\"white\"}},\"shapedefaults\":{\"line\":{\"color\":\"#2a3f5f\"}},\"ternary\":{\"aaxis\":{\"gridcolor\":\"white\",\"linecolor\":\"white\",\"ticks\":\"\"},\"baxis\":{\"gridcolor\":\"white\",\"linecolor\":\"white\",\"ticks\":\"\"},\"bgcolor\":\"#E5ECF6\",\"caxis\":{\"gridcolor\":\"white\",\"linecolor\":\"white\",\"ticks\":\"\"}},\"title\":{\"x\":0.05},\"xaxis\":{\"automargin\":true,\"gridcolor\":\"white\",\"linecolor\":\"white\",\"ticks\":\"\",\"title\":{\"standoff\":15},\"zerolinecolor\":\"white\",\"zerolinewidth\":2},\"yaxis\":{\"automargin\":true,\"gridcolor\":\"white\",\"linecolor\":\"white\",\"ticks\":\"\",\"title\":{\"standoff\":15},\"zerolinecolor\":\"white\",\"zerolinewidth\":2}}},\"xaxis\":{\"anchor\":\"y\",\"domain\":[0.0,1.0],\"title\":{\"text\":\"Isobutanol Flux\"},\"showline\":true,\"linewidth\":3.0,\"linecolor\":\"black\",\"ticks\":\"inside\",\"tickwidth\":3.0,\"tickcolor\":\"black\",\"ticklen\":5},\"yaxis\":{\"anchor\":\"x\",\"domain\":[0.0,1.0],\"title\":{\"text\":\"Flux of top coupled reactions\"},\"showline\":true,\"linewidth\":3.0,\"linecolor\":\"black\",\"ticks\":\"inside\",\"tickwidth\":3.0,\"tickcolor\":\"black\",\"ticklen\":5},\"legend\":{\"title\":{\"text\":\"Reactions\"},\"tracegroupgap\":0,\"font\":{\"size\":16}},\"margin\":{\"t\":60},\"title\":{\"text\":\"FSEOF result for isobutanol production\",\"x\":0.5},\"font\":{\"size\":30},\"paper_bgcolor\":\"rgba(0,0,0,0)\",\"plot_bgcolor\":\"rgba(0,0,0,0)\"},                        {\"responsive\": true}                    ).then(function(){\n",
       "                            \n",
       "var gd = document.getElementById('71ceb071-ade1-4078-8216-ca9a142e53cc');\n",
       "var x = new MutationObserver(function (mutations, observer) {{\n",
       "        var display = window.getComputedStyle(gd).display;\n",
       "        if (!display || display === 'none') {{\n",
       "            console.log([gd, 'removed!']);\n",
       "            Plotly.purge(gd);\n",
       "            observer.disconnect();\n",
       "        }}\n",
       "}});\n",
       "\n",
       "// Listen for the removal of the full notebook cells\n",
       "var notebookContainer = gd.closest('#notebook-container');\n",
       "if (notebookContainer) {{\n",
       "    x.observe(notebookContainer, {childList: true});\n",
       "}}\n",
       "\n",
       "// Listen for the clearing of the current output cell\n",
       "var outputEl = gd.closest('.output');\n",
       "if (outputEl) {{\n",
       "    x.observe(outputEl, {childList: true});\n",
       "}}\n",
       "\n",
       "                        })                };                });            </script>        </div>"
      ]
     },
     "metadata": {},
     "output_type": "display_data"
    }
   ],
   "source": [
    "import plotly.express as px\n",
    "threshold = data.loc['EX_btd_RR_e', 'flux_difference']\n",
    "\n",
    "df = data.loc[(data['flux_difference']<=-threshold) | (data['flux_difference']>=threshold) ]\n",
    "df.pop('flux_difference')\n",
    "df = df.T\n",
    "to_remain = ['EX_btd_RR_e', 'FLDR2', 'ACLDC', 'SUCDi', 'POR5', 'FRD2']\n",
    "df = df[df.columns.intersection(to_remain)]\n",
    "\n",
    "fig = px.line(df, x=\"EX_btd_RR_e\", y=list(set(df.columns.tolist())-set(\"EX_btd_RR_e\")))\n",
    "\n",
    "fig.update_layout(    \n",
    "    paper_bgcolor='rgba(0,0,0,0)',\n",
    "    plot_bgcolor='rgba(0,0,0,0)',\n",
    "    title=dict(text='FSEOF result for isobutanol production', x=0.5),\n",
    "    xaxis=dict(title='Isobutanol Flux', showline=True, linewidth=3.0, linecolor='black',\n",
    "               ticks=\"inside\", tickwidth=3.0, tickcolor='black', ticklen=5),\n",
    "    yaxis=dict(title='Flux of top coupled reactions', showline=True, linewidth=3.0, linecolor='black',\n",
    "               ticks=\"inside\", tickwidth=3.0, tickcolor='black', ticklen=5),\n",
    "    font=dict(size=30),\n",
    "    legend=dict(title='Reactions', font=dict(size=16))\n",
    ")\n",
    "\n",
    "fig.update_traces(line=dict(width=3.0))\n",
    "\n",
    "fig.show()\n",
    "fig.write_image('FSEOF_WT.svg')"
   ]
  },
  {
   "cell_type": "code",
   "execution_count": 60,
   "id": "7014e436",
   "metadata": {},
   "outputs": [
    {
     "data": {
      "text/html": [
       "<div>\n",
       "<style scoped>\n",
       "    .dataframe tbody tr th:only-of-type {\n",
       "        vertical-align: middle;\n",
       "    }\n",
       "\n",
       "    .dataframe tbody tr th {\n",
       "        vertical-align: top;\n",
       "    }\n",
       "\n",
       "    .dataframe thead th {\n",
       "        text-align: right;\n",
       "    }\n",
       "</style>\n",
       "<table border=\"1\" class=\"dataframe\">\n",
       "  <thead>\n",
       "    <tr style=\"text-align: right;\">\n",
       "      <th></th>\n",
       "      <th>FLDR2</th>\n",
       "      <th>ACLDC</th>\n",
       "      <th>EX_btd_RR_e</th>\n",
       "      <th>ACLS</th>\n",
       "      <th>Htex</th>\n",
       "      <th>BTDD_RR</th>\n",
       "      <th>BTDDtpp</th>\n",
       "      <th>BTDDtex</th>\n",
       "      <th>POR5</th>\n",
       "      <th>NADH17pp</th>\n",
       "      <th>FRD2</th>\n",
       "      <th>SUCDi</th>\n",
       "    </tr>\n",
       "  </thead>\n",
       "  <tbody>\n",
       "    <tr>\n",
       "      <th>1</th>\n",
       "      <td>1.470640</td>\n",
       "      <td>0.326324</td>\n",
       "      <td>0.326324</td>\n",
       "      <td>0.565113</td>\n",
       "      <td>10.264010</td>\n",
       "      <td>-0.326324</td>\n",
       "      <td>-0.326324</td>\n",
       "      <td>-0.326324</td>\n",
       "      <td>-1.470640</td>\n",
       "      <td>16.599254</td>\n",
       "      <td>16.702340</td>\n",
       "      <td>24.817745</td>\n",
       "    </tr>\n",
       "    <tr>\n",
       "      <th>2</th>\n",
       "      <td>2.042388</td>\n",
       "      <td>0.652648</td>\n",
       "      <td>0.652648</td>\n",
       "      <td>0.867821</td>\n",
       "      <td>10.514823</td>\n",
       "      <td>-0.652648</td>\n",
       "      <td>-0.652648</td>\n",
       "      <td>-0.652648</td>\n",
       "      <td>-2.042388</td>\n",
       "      <td>15.527991</td>\n",
       "      <td>15.620882</td>\n",
       "      <td>23.482402</td>\n",
       "    </tr>\n",
       "    <tr>\n",
       "      <th>3</th>\n",
       "      <td>2.614136</td>\n",
       "      <td>0.978972</td>\n",
       "      <td>0.978972</td>\n",
       "      <td>1.170529</td>\n",
       "      <td>10.765635</td>\n",
       "      <td>-0.978972</td>\n",
       "      <td>-0.978972</td>\n",
       "      <td>-0.978972</td>\n",
       "      <td>-2.614136</td>\n",
       "      <td>14.456728</td>\n",
       "      <td>14.539424</td>\n",
       "      <td>22.147060</td>\n",
       "    </tr>\n",
       "    <tr>\n",
       "      <th>4</th>\n",
       "      <td>3.185884</td>\n",
       "      <td>1.305296</td>\n",
       "      <td>1.305296</td>\n",
       "      <td>1.473236</td>\n",
       "      <td>11.016447</td>\n",
       "      <td>-1.305296</td>\n",
       "      <td>-1.305296</td>\n",
       "      <td>-1.305296</td>\n",
       "      <td>-3.185884</td>\n",
       "      <td>13.385465</td>\n",
       "      <td>13.457965</td>\n",
       "      <td>20.811717</td>\n",
       "    </tr>\n",
       "    <tr>\n",
       "      <th>5</th>\n",
       "      <td>3.757632</td>\n",
       "      <td>1.631620</td>\n",
       "      <td>1.631620</td>\n",
       "      <td>1.775944</td>\n",
       "      <td>11.267259</td>\n",
       "      <td>-1.631620</td>\n",
       "      <td>-1.631620</td>\n",
       "      <td>-1.631620</td>\n",
       "      <td>-3.757632</td>\n",
       "      <td>12.314202</td>\n",
       "      <td>12.376507</td>\n",
       "      <td>19.476375</td>\n",
       "    </tr>\n",
       "    <tr>\n",
       "      <th>6</th>\n",
       "      <td>4.329379</td>\n",
       "      <td>1.957944</td>\n",
       "      <td>1.957944</td>\n",
       "      <td>2.078651</td>\n",
       "      <td>11.518071</td>\n",
       "      <td>-1.957944</td>\n",
       "      <td>-1.957944</td>\n",
       "      <td>-1.957944</td>\n",
       "      <td>-4.329379</td>\n",
       "      <td>11.242939</td>\n",
       "      <td>11.295048</td>\n",
       "      <td>18.141032</td>\n",
       "    </tr>\n",
       "    <tr>\n",
       "      <th>7</th>\n",
       "      <td>4.901127</td>\n",
       "      <td>2.284268</td>\n",
       "      <td>2.284268</td>\n",
       "      <td>2.381359</td>\n",
       "      <td>11.768883</td>\n",
       "      <td>-2.284268</td>\n",
       "      <td>-2.284268</td>\n",
       "      <td>-2.284268</td>\n",
       "      <td>-4.901127</td>\n",
       "      <td>10.171676</td>\n",
       "      <td>10.213590</td>\n",
       "      <td>16.805690</td>\n",
       "    </tr>\n",
       "    <tr>\n",
       "      <th>8</th>\n",
       "      <td>5.472875</td>\n",
       "      <td>2.610593</td>\n",
       "      <td>2.610593</td>\n",
       "      <td>2.684066</td>\n",
       "      <td>12.019696</td>\n",
       "      <td>-2.610593</td>\n",
       "      <td>-2.610593</td>\n",
       "      <td>-2.610593</td>\n",
       "      <td>-5.472875</td>\n",
       "      <td>9.100413</td>\n",
       "      <td>9.132132</td>\n",
       "      <td>15.470347</td>\n",
       "    </tr>\n",
       "    <tr>\n",
       "      <th>9</th>\n",
       "      <td>6.044623</td>\n",
       "      <td>2.936917</td>\n",
       "      <td>2.936917</td>\n",
       "      <td>2.986774</td>\n",
       "      <td>12.270508</td>\n",
       "      <td>-2.936917</td>\n",
       "      <td>-2.936917</td>\n",
       "      <td>-2.936917</td>\n",
       "      <td>-6.044623</td>\n",
       "      <td>8.029150</td>\n",
       "      <td>8.050673</td>\n",
       "      <td>14.135005</td>\n",
       "    </tr>\n",
       "    <tr>\n",
       "      <th>10</th>\n",
       "      <td>6.616371</td>\n",
       "      <td>3.263241</td>\n",
       "      <td>3.263241</td>\n",
       "      <td>3.289481</td>\n",
       "      <td>12.521320</td>\n",
       "      <td>-3.263241</td>\n",
       "      <td>-3.263241</td>\n",
       "      <td>-3.263241</td>\n",
       "      <td>-6.616371</td>\n",
       "      <td>6.957887</td>\n",
       "      <td>6.969215</td>\n",
       "      <td>12.799662</td>\n",
       "    </tr>\n",
       "    <tr>\n",
       "      <th>flux_difference</th>\n",
       "      <td>5.145731</td>\n",
       "      <td>2.936917</td>\n",
       "      <td>2.936917</td>\n",
       "      <td>2.724368</td>\n",
       "      <td>2.257310</td>\n",
       "      <td>-2.936917</td>\n",
       "      <td>-2.936917</td>\n",
       "      <td>-2.936917</td>\n",
       "      <td>-5.145731</td>\n",
       "      <td>-9.641367</td>\n",
       "      <td>-9.733125</td>\n",
       "      <td>-12.018083</td>\n",
       "    </tr>\n",
       "  </tbody>\n",
       "</table>\n",
       "</div>"
      ],
      "text/plain": [
       "                    FLDR2     ACLDC  EX_btd_RR_e      ACLS       Htex  \\\n",
       "1                1.470640  0.326324     0.326324  0.565113  10.264010   \n",
       "2                2.042388  0.652648     0.652648  0.867821  10.514823   \n",
       "3                2.614136  0.978972     0.978972  1.170529  10.765635   \n",
       "4                3.185884  1.305296     1.305296  1.473236  11.016447   \n",
       "5                3.757632  1.631620     1.631620  1.775944  11.267259   \n",
       "6                4.329379  1.957944     1.957944  2.078651  11.518071   \n",
       "7                4.901127  2.284268     2.284268  2.381359  11.768883   \n",
       "8                5.472875  2.610593     2.610593  2.684066  12.019696   \n",
       "9                6.044623  2.936917     2.936917  2.986774  12.270508   \n",
       "10               6.616371  3.263241     3.263241  3.289481  12.521320   \n",
       "flux_difference  5.145731  2.936917     2.936917  2.724368   2.257310   \n",
       "\n",
       "                  BTDD_RR   BTDDtpp   BTDDtex      POR5   NADH17pp       FRD2  \\\n",
       "1               -0.326324 -0.326324 -0.326324 -1.470640  16.599254  16.702340   \n",
       "2               -0.652648 -0.652648 -0.652648 -2.042388  15.527991  15.620882   \n",
       "3               -0.978972 -0.978972 -0.978972 -2.614136  14.456728  14.539424   \n",
       "4               -1.305296 -1.305296 -1.305296 -3.185884  13.385465  13.457965   \n",
       "5               -1.631620 -1.631620 -1.631620 -3.757632  12.314202  12.376507   \n",
       "6               -1.957944 -1.957944 -1.957944 -4.329379  11.242939  11.295048   \n",
       "7               -2.284268 -2.284268 -2.284268 -4.901127  10.171676  10.213590   \n",
       "8               -2.610593 -2.610593 -2.610593 -5.472875   9.100413   9.132132   \n",
       "9               -2.936917 -2.936917 -2.936917 -6.044623   8.029150   8.050673   \n",
       "10              -3.263241 -3.263241 -3.263241 -6.616371   6.957887   6.969215   \n",
       "flux_difference -2.936917 -2.936917 -2.936917 -5.145731  -9.641367  -9.733125   \n",
       "\n",
       "                     SUCDi  \n",
       "1                24.817745  \n",
       "2                23.482402  \n",
       "3                22.147060  \n",
       "4                20.811717  \n",
       "5                19.476375  \n",
       "6                18.141032  \n",
       "7                16.805690  \n",
       "8                15.470347  \n",
       "9                14.135005  \n",
       "10               12.799662  \n",
       "flux_difference -12.018083  "
      ]
     },
     "execution_count": 60,
     "metadata": {},
     "output_type": "execute_result"
    }
   ],
   "source": [
    "df"
   ]
  },
  {
   "cell_type": "code",
   "execution_count": 53,
   "id": "5155118f",
   "metadata": {},
   "outputs": [
    {
     "name": "stdout",
     "output_type": "stream",
     "text": [
      "Read LP format model from file /tmp/tmpg9bf61jx.lp\n",
      "Reading time = 0.02 seconds\n",
      ": 2032 rows, 5898 columns, 23086 nonzeros\n"
     ]
    }
   ],
   "source": [
    "alternative_model = final_model.copy()\n",
    "alternative_model.reactions.POR5.bounds = (0,0)\n",
    "fseof = FSEOF(alternative_model)\n",
    "fseof_result = fseof.run(target=alternative_model.reactions.EX_btd_RR_e)"
   ]
  },
  {
   "cell_type": "code",
   "execution_count": 55,
   "id": "2fc87910",
   "metadata": {
    "scrolled": true
   },
   "outputs": [
    {
     "data": {
      "text/html": [
       "<div>\n",
       "<style scoped>\n",
       "    .dataframe tbody tr th:only-of-type {\n",
       "        vertical-align: middle;\n",
       "    }\n",
       "\n",
       "    .dataframe tbody tr th {\n",
       "        vertical-align: top;\n",
       "    }\n",
       "\n",
       "    .dataframe thead th {\n",
       "        text-align: right;\n",
       "    }\n",
       "</style>\n",
       "<table border=\"1\" class=\"dataframe\">\n",
       "  <thead>\n",
       "    <tr style=\"text-align: right;\">\n",
       "      <th></th>\n",
       "      <th>1</th>\n",
       "      <th>2</th>\n",
       "      <th>3</th>\n",
       "      <th>4</th>\n",
       "      <th>5</th>\n",
       "      <th>6</th>\n",
       "      <th>7</th>\n",
       "      <th>8</th>\n",
       "      <th>9</th>\n",
       "      <th>10</th>\n",
       "      <th>flux_difference</th>\n",
       "    </tr>\n",
       "  </thead>\n",
       "  <tbody>\n",
       "    <tr>\n",
       "      <th>ME2</th>\n",
       "      <td>1.107173</td>\n",
       "      <td>1.640528</td>\n",
       "      <td>2.173883</td>\n",
       "      <td>2.707238</td>\n",
       "      <td>3.240593</td>\n",
       "      <td>3.773948</td>\n",
       "      <td>4.307303</td>\n",
       "      <td>4.840658</td>\n",
       "      <td>5.374013</td>\n",
       "      <td>5.907368</td>\n",
       "      <td>4.800195</td>\n",
       "    </tr>\n",
       "    <tr>\n",
       "      <th>NADTRHD</th>\n",
       "      <td>2.352687</td>\n",
       "      <td>2.728774</td>\n",
       "      <td>3.104861</td>\n",
       "      <td>3.480949</td>\n",
       "      <td>3.857036</td>\n",
       "      <td>4.233123</td>\n",
       "      <td>4.609210</td>\n",
       "      <td>4.985298</td>\n",
       "      <td>5.361385</td>\n",
       "      <td>5.737472</td>\n",
       "      <td>3.384785</td>\n",
       "    </tr>\n",
       "    <tr>\n",
       "      <th>MALS</th>\n",
       "      <td>3.396996</td>\n",
       "      <td>3.707393</td>\n",
       "      <td>4.017789</td>\n",
       "      <td>4.328186</td>\n",
       "      <td>4.638583</td>\n",
       "      <td>4.948980</td>\n",
       "      <td>5.259376</td>\n",
       "      <td>5.569773</td>\n",
       "      <td>5.880170</td>\n",
       "      <td>6.190567</td>\n",
       "      <td>2.793571</td>\n",
       "    </tr>\n",
       "    <tr>\n",
       "      <th>ICL</th>\n",
       "      <td>3.396996</td>\n",
       "      <td>3.707393</td>\n",
       "      <td>4.017789</td>\n",
       "      <td>4.328186</td>\n",
       "      <td>4.638583</td>\n",
       "      <td>4.948980</td>\n",
       "      <td>5.259376</td>\n",
       "      <td>5.569773</td>\n",
       "      <td>5.880170</td>\n",
       "      <td>6.190567</td>\n",
       "      <td>2.793571</td>\n",
       "    </tr>\n",
       "    <tr>\n",
       "      <th>ACLDC</th>\n",
       "      <td>0.292135</td>\n",
       "      <td>0.584270</td>\n",
       "      <td>0.876405</td>\n",
       "      <td>1.168539</td>\n",
       "      <td>1.460674</td>\n",
       "      <td>1.752809</td>\n",
       "      <td>2.044944</td>\n",
       "      <td>2.337079</td>\n",
       "      <td>2.629214</td>\n",
       "      <td>2.921349</td>\n",
       "      <td>2.629214</td>\n",
       "    </tr>\n",
       "    <tr>\n",
       "      <th>EX_btd_RR_e</th>\n",
       "      <td>0.292135</td>\n",
       "      <td>0.584270</td>\n",
       "      <td>0.876405</td>\n",
       "      <td>1.168539</td>\n",
       "      <td>1.460674</td>\n",
       "      <td>1.752809</td>\n",
       "      <td>2.044944</td>\n",
       "      <td>2.337079</td>\n",
       "      <td>2.629214</td>\n",
       "      <td>2.921349</td>\n",
       "      <td>2.629214</td>\n",
       "    </tr>\n",
       "    <tr>\n",
       "      <th>ACLS</th>\n",
       "      <td>0.528293</td>\n",
       "      <td>0.797434</td>\n",
       "      <td>1.066574</td>\n",
       "      <td>1.335714</td>\n",
       "      <td>1.604854</td>\n",
       "      <td>1.873995</td>\n",
       "      <td>2.143135</td>\n",
       "      <td>2.412275</td>\n",
       "      <td>2.681416</td>\n",
       "      <td>2.950556</td>\n",
       "      <td>2.422263</td>\n",
       "    </tr>\n",
       "    <tr>\n",
       "      <th>Htex</th>\n",
       "      <td>10.291953</td>\n",
       "      <td>10.536159</td>\n",
       "      <td>10.780366</td>\n",
       "      <td>11.024573</td>\n",
       "      <td>11.268779</td>\n",
       "      <td>11.512986</td>\n",
       "      <td>11.757193</td>\n",
       "      <td>12.001399</td>\n",
       "      <td>12.245606</td>\n",
       "      <td>12.489813</td>\n",
       "      <td>2.197860</td>\n",
       "    </tr>\n",
       "    <tr>\n",
       "      <th>PPKr</th>\n",
       "      <td>-13.803374</td>\n",
       "      <td>-13.705676</td>\n",
       "      <td>-13.607978</td>\n",
       "      <td>-13.510281</td>\n",
       "      <td>-13.412583</td>\n",
       "      <td>-13.314885</td>\n",
       "      <td>-13.217187</td>\n",
       "      <td>-13.119490</td>\n",
       "      <td>-13.021792</td>\n",
       "      <td>-12.924094</td>\n",
       "      <td>0.879280</td>\n",
       "    </tr>\n",
       "    <tr>\n",
       "      <th>VALTA</th>\n",
       "      <td>-0.271774</td>\n",
       "      <td>-0.245311</td>\n",
       "      <td>-0.218849</td>\n",
       "      <td>-0.192387</td>\n",
       "      <td>-0.165924</td>\n",
       "      <td>-0.139462</td>\n",
       "      <td>-0.112999</td>\n",
       "      <td>-0.086537</td>\n",
       "      <td>-0.060075</td>\n",
       "      <td>-0.033612</td>\n",
       "      <td>0.238162</td>\n",
       "    </tr>\n",
       "    <tr>\n",
       "      <th>PPM</th>\n",
       "      <td>-0.251757</td>\n",
       "      <td>-0.227243</td>\n",
       "      <td>-0.202730</td>\n",
       "      <td>-0.178217</td>\n",
       "      <td>-0.153703</td>\n",
       "      <td>-0.129190</td>\n",
       "      <td>-0.104677</td>\n",
       "      <td>-0.080163</td>\n",
       "      <td>-0.055650</td>\n",
       "      <td>-0.031136</td>\n",
       "      <td>0.220621</td>\n",
       "    </tr>\n",
       "    <tr>\n",
       "      <th>F6PA</th>\n",
       "      <td>-0.226946</td>\n",
       "      <td>-0.204849</td>\n",
       "      <td>-0.182751</td>\n",
       "      <td>-0.160654</td>\n",
       "      <td>-0.138556</td>\n",
       "      <td>-0.116458</td>\n",
       "      <td>-0.094361</td>\n",
       "      <td>-0.072263</td>\n",
       "      <td>-0.050166</td>\n",
       "      <td>-0.028068</td>\n",
       "      <td>0.198878</td>\n",
       "    </tr>\n",
       "    <tr>\n",
       "      <th>VPAMTr</th>\n",
       "      <td>-0.157460</td>\n",
       "      <td>-0.142128</td>\n",
       "      <td>-0.126796</td>\n",
       "      <td>-0.111464</td>\n",
       "      <td>-0.096133</td>\n",
       "      <td>-0.080801</td>\n",
       "      <td>-0.065469</td>\n",
       "      <td>-0.050138</td>\n",
       "      <td>-0.034806</td>\n",
       "      <td>-0.019474</td>\n",
       "      <td>0.137986</td>\n",
       "    </tr>\n",
       "    <tr>\n",
       "      <th>NAt3pp</th>\n",
       "      <td>12.798720</td>\n",
       "      <td>12.798845</td>\n",
       "      <td>12.798970</td>\n",
       "      <td>12.799094</td>\n",
       "      <td>12.799219</td>\n",
       "      <td>12.799343</td>\n",
       "      <td>12.799468</td>\n",
       "      <td>12.799593</td>\n",
       "      <td>12.799717</td>\n",
       "      <td>12.799842</td>\n",
       "      <td>0.001122</td>\n",
       "    </tr>\n",
       "    <tr>\n",
       "      <th>IPDDI</th>\n",
       "      <td>0.000075</td>\n",
       "      <td>0.000068</td>\n",
       "      <td>0.000060</td>\n",
       "      <td>0.000053</td>\n",
       "      <td>0.000046</td>\n",
       "      <td>0.000039</td>\n",
       "      <td>0.000031</td>\n",
       "      <td>0.000024</td>\n",
       "      <td>0.000017</td>\n",
       "      <td>0.000009</td>\n",
       "      <td>-0.000066</td>\n",
       "    </tr>\n",
       "    <tr>\n",
       "      <th>ADPT</th>\n",
       "      <td>0.000120</td>\n",
       "      <td>0.000109</td>\n",
       "      <td>0.000097</td>\n",
       "      <td>0.000085</td>\n",
       "      <td>0.000074</td>\n",
       "      <td>0.000062</td>\n",
       "      <td>0.000050</td>\n",
       "      <td>0.000038</td>\n",
       "      <td>0.000027</td>\n",
       "      <td>0.000015</td>\n",
       "      <td>-0.000105</td>\n",
       "    </tr>\n",
       "    <tr>\n",
       "      <th>DHNPA2r</th>\n",
       "      <td>0.000181</td>\n",
       "      <td>0.000163</td>\n",
       "      <td>0.000146</td>\n",
       "      <td>0.000128</td>\n",
       "      <td>0.000110</td>\n",
       "      <td>0.000093</td>\n",
       "      <td>0.000075</td>\n",
       "      <td>0.000058</td>\n",
       "      <td>0.000040</td>\n",
       "      <td>0.000022</td>\n",
       "      <td>-0.000159</td>\n",
       "    </tr>\n",
       "    <tr>\n",
       "      <th>IPDPS</th>\n",
       "      <td>0.000645</td>\n",
       "      <td>0.000582</td>\n",
       "      <td>0.000520</td>\n",
       "      <td>0.000457</td>\n",
       "      <td>0.000394</td>\n",
       "      <td>0.000331</td>\n",
       "      <td>0.000268</td>\n",
       "      <td>0.000205</td>\n",
       "      <td>0.000143</td>\n",
       "      <td>0.000080</td>\n",
       "      <td>-0.000565</td>\n",
       "    </tr>\n",
       "    <tr>\n",
       "      <th>GTHOr</th>\n",
       "      <td>0.007069</td>\n",
       "      <td>0.006381</td>\n",
       "      <td>0.005692</td>\n",
       "      <td>0.005004</td>\n",
       "      <td>0.004316</td>\n",
       "      <td>0.003627</td>\n",
       "      <td>0.002939</td>\n",
       "      <td>0.002251</td>\n",
       "      <td>0.001563</td>\n",
       "      <td>0.000874</td>\n",
       "      <td>-0.006195</td>\n",
       "    </tr>\n",
       "    <tr>\n",
       "      <th>RNDR4b</th>\n",
       "      <td>0.007069</td>\n",
       "      <td>0.006381</td>\n",
       "      <td>0.005692</td>\n",
       "      <td>0.005004</td>\n",
       "      <td>0.004316</td>\n",
       "      <td>0.003627</td>\n",
       "      <td>0.002939</td>\n",
       "      <td>0.002251</td>\n",
       "      <td>0.001563</td>\n",
       "      <td>0.000874</td>\n",
       "      <td>-0.006195</td>\n",
       "    </tr>\n",
       "    <tr>\n",
       "      <th>PYK6</th>\n",
       "      <td>0.007069</td>\n",
       "      <td>0.006381</td>\n",
       "      <td>0.005692</td>\n",
       "      <td>0.005004</td>\n",
       "      <td>0.004316</td>\n",
       "      <td>0.003627</td>\n",
       "      <td>0.002939</td>\n",
       "      <td>0.002251</td>\n",
       "      <td>0.001563</td>\n",
       "      <td>0.000874</td>\n",
       "      <td>-0.006195</td>\n",
       "    </tr>\n",
       "    <tr>\n",
       "      <th>GRXR</th>\n",
       "      <td>0.007069</td>\n",
       "      <td>0.006381</td>\n",
       "      <td>0.005692</td>\n",
       "      <td>0.005004</td>\n",
       "      <td>0.004316</td>\n",
       "      <td>0.003627</td>\n",
       "      <td>0.002939</td>\n",
       "      <td>0.002251</td>\n",
       "      <td>0.001563</td>\n",
       "      <td>0.000874</td>\n",
       "      <td>-0.006195</td>\n",
       "    </tr>\n",
       "    <tr>\n",
       "      <th>RNTR2c</th>\n",
       "      <td>0.007299</td>\n",
       "      <td>0.006588</td>\n",
       "      <td>0.005877</td>\n",
       "      <td>0.005167</td>\n",
       "      <td>0.004456</td>\n",
       "      <td>0.003745</td>\n",
       "      <td>0.003035</td>\n",
       "      <td>0.002324</td>\n",
       "      <td>0.001613</td>\n",
       "      <td>0.000903</td>\n",
       "      <td>-0.006396</td>\n",
       "    </tr>\n",
       "    <tr>\n",
       "      <th>RNTR3c</th>\n",
       "      <td>0.007299</td>\n",
       "      <td>0.006588</td>\n",
       "      <td>0.005877</td>\n",
       "      <td>0.005167</td>\n",
       "      <td>0.004456</td>\n",
       "      <td>0.003745</td>\n",
       "      <td>0.003035</td>\n",
       "      <td>0.002324</td>\n",
       "      <td>0.001613</td>\n",
       "      <td>0.000903</td>\n",
       "      <td>-0.006396</td>\n",
       "    </tr>\n",
       "    <tr>\n",
       "      <th>FLDR</th>\n",
       "      <td>0.021666</td>\n",
       "      <td>0.019557</td>\n",
       "      <td>0.017447</td>\n",
       "      <td>0.015337</td>\n",
       "      <td>0.013228</td>\n",
       "      <td>0.011118</td>\n",
       "      <td>0.009008</td>\n",
       "      <td>0.006899</td>\n",
       "      <td>0.004789</td>\n",
       "      <td>0.002680</td>\n",
       "      <td>-0.018986</td>\n",
       "    </tr>\n",
       "    <tr>\n",
       "      <th>NDPK3</th>\n",
       "      <td>0.040323</td>\n",
       "      <td>0.036397</td>\n",
       "      <td>0.032471</td>\n",
       "      <td>0.028544</td>\n",
       "      <td>0.024618</td>\n",
       "      <td>0.020692</td>\n",
       "      <td>0.016766</td>\n",
       "      <td>0.012839</td>\n",
       "      <td>0.008913</td>\n",
       "      <td>0.004987</td>\n",
       "      <td>-0.035336</td>\n",
       "    </tr>\n",
       "    <tr>\n",
       "      <th>DHORD5</th>\n",
       "      <td>0.089353</td>\n",
       "      <td>0.080652</td>\n",
       "      <td>0.071952</td>\n",
       "      <td>0.063252</td>\n",
       "      <td>0.054552</td>\n",
       "      <td>0.045852</td>\n",
       "      <td>0.037151</td>\n",
       "      <td>0.028451</td>\n",
       "      <td>0.019751</td>\n",
       "      <td>0.011051</td>\n",
       "      <td>-0.078302</td>\n",
       "    </tr>\n",
       "    <tr>\n",
       "      <th>FRD2</th>\n",
       "      <td>0.089353</td>\n",
       "      <td>0.080652</td>\n",
       "      <td>0.071952</td>\n",
       "      <td>0.063252</td>\n",
       "      <td>0.054552</td>\n",
       "      <td>0.045852</td>\n",
       "      <td>0.037151</td>\n",
       "      <td>0.028451</td>\n",
       "      <td>0.019751</td>\n",
       "      <td>0.011051</td>\n",
       "      <td>-0.078302</td>\n",
       "    </tr>\n",
       "    <tr>\n",
       "      <th>PYK2</th>\n",
       "      <td>0.107799</td>\n",
       "      <td>0.097303</td>\n",
       "      <td>0.086806</td>\n",
       "      <td>0.076310</td>\n",
       "      <td>0.065814</td>\n",
       "      <td>0.055317</td>\n",
       "      <td>0.044821</td>\n",
       "      <td>0.034325</td>\n",
       "      <td>0.023829</td>\n",
       "      <td>0.013332</td>\n",
       "      <td>-0.094467</td>\n",
       "    </tr>\n",
       "    <tr>\n",
       "      <th>ACS</th>\n",
       "      <td>12.915362</td>\n",
       "      <td>12.904129</td>\n",
       "      <td>12.892897</td>\n",
       "      <td>12.881664</td>\n",
       "      <td>12.870431</td>\n",
       "      <td>12.859198</td>\n",
       "      <td>12.847966</td>\n",
       "      <td>12.836733</td>\n",
       "      <td>12.825500</td>\n",
       "      <td>12.814268</td>\n",
       "      <td>-0.101094</td>\n",
       "    </tr>\n",
       "    <tr>\n",
       "      <th>PYK3</th>\n",
       "      <td>0.171208</td>\n",
       "      <td>0.154537</td>\n",
       "      <td>0.137867</td>\n",
       "      <td>0.121197</td>\n",
       "      <td>0.104526</td>\n",
       "      <td>0.087856</td>\n",
       "      <td>0.071186</td>\n",
       "      <td>0.054515</td>\n",
       "      <td>0.037845</td>\n",
       "      <td>0.021174</td>\n",
       "      <td>-0.150034</td>\n",
       "    </tr>\n",
       "    <tr>\n",
       "      <th>GLYCDx</th>\n",
       "      <td>0.226946</td>\n",
       "      <td>0.204849</td>\n",
       "      <td>0.182751</td>\n",
       "      <td>0.160654</td>\n",
       "      <td>0.138556</td>\n",
       "      <td>0.116458</td>\n",
       "      <td>0.094361</td>\n",
       "      <td>0.072263</td>\n",
       "      <td>0.050166</td>\n",
       "      <td>0.028068</td>\n",
       "      <td>-0.198878</td>\n",
       "    </tr>\n",
       "    <tr>\n",
       "      <th>ALCD19</th>\n",
       "      <td>0.226946</td>\n",
       "      <td>0.204849</td>\n",
       "      <td>0.182751</td>\n",
       "      <td>0.160654</td>\n",
       "      <td>0.138556</td>\n",
       "      <td>0.116458</td>\n",
       "      <td>0.094361</td>\n",
       "      <td>0.072263</td>\n",
       "      <td>0.050166</td>\n",
       "      <td>0.028068</td>\n",
       "      <td>-0.198878</td>\n",
       "    </tr>\n",
       "    <tr>\n",
       "      <th>GAPP</th>\n",
       "      <td>0.226946</td>\n",
       "      <td>0.204849</td>\n",
       "      <td>0.182751</td>\n",
       "      <td>0.160654</td>\n",
       "      <td>0.138556</td>\n",
       "      <td>0.116458</td>\n",
       "      <td>0.094361</td>\n",
       "      <td>0.072263</td>\n",
       "      <td>0.050166</td>\n",
       "      <td>0.028068</td>\n",
       "      <td>-0.198878</td>\n",
       "    </tr>\n",
       "    <tr>\n",
       "      <th>R1PK</th>\n",
       "      <td>0.251757</td>\n",
       "      <td>0.227243</td>\n",
       "      <td>0.202730</td>\n",
       "      <td>0.178217</td>\n",
       "      <td>0.153703</td>\n",
       "      <td>0.129190</td>\n",
       "      <td>0.104677</td>\n",
       "      <td>0.080163</td>\n",
       "      <td>0.055650</td>\n",
       "      <td>0.031136</td>\n",
       "      <td>-0.220621</td>\n",
       "    </tr>\n",
       "    <tr>\n",
       "      <th>R15BPK</th>\n",
       "      <td>0.251757</td>\n",
       "      <td>0.227243</td>\n",
       "      <td>0.202730</td>\n",
       "      <td>0.178217</td>\n",
       "      <td>0.153703</td>\n",
       "      <td>0.129190</td>\n",
       "      <td>0.104677</td>\n",
       "      <td>0.080163</td>\n",
       "      <td>0.055650</td>\n",
       "      <td>0.031136</td>\n",
       "      <td>-0.220621</td>\n",
       "    </tr>\n",
       "    <tr>\n",
       "      <th>ADK1</th>\n",
       "      <td>13.329812</td>\n",
       "      <td>13.278224</td>\n",
       "      <td>13.226637</td>\n",
       "      <td>13.175050</td>\n",
       "      <td>13.123462</td>\n",
       "      <td>13.071875</td>\n",
       "      <td>13.020288</td>\n",
       "      <td>12.968700</td>\n",
       "      <td>12.917113</td>\n",
       "      <td>12.865525</td>\n",
       "      <td>-0.464287</td>\n",
       "    </tr>\n",
       "    <tr>\n",
       "      <th>PROD2</th>\n",
       "      <td>0.590172</td>\n",
       "      <td>0.532707</td>\n",
       "      <td>0.475243</td>\n",
       "      <td>0.417778</td>\n",
       "      <td>0.360313</td>\n",
       "      <td>0.302849</td>\n",
       "      <td>0.245384</td>\n",
       "      <td>0.187920</td>\n",
       "      <td>0.130455</td>\n",
       "      <td>0.072991</td>\n",
       "      <td>-0.517181</td>\n",
       "    </tr>\n",
       "    <tr>\n",
       "      <th>P5CR</th>\n",
       "      <td>0.649895</td>\n",
       "      <td>0.586615</td>\n",
       "      <td>0.523335</td>\n",
       "      <td>0.460056</td>\n",
       "      <td>0.396776</td>\n",
       "      <td>0.333496</td>\n",
       "      <td>0.270216</td>\n",
       "      <td>0.206937</td>\n",
       "      <td>0.143657</td>\n",
       "      <td>0.080377</td>\n",
       "      <td>-0.569518</td>\n",
       "    </tr>\n",
       "    <tr>\n",
       "      <th>PPCK</th>\n",
       "      <td>1.531778</td>\n",
       "      <td>1.382630</td>\n",
       "      <td>1.233482</td>\n",
       "      <td>1.084334</td>\n",
       "      <td>0.935185</td>\n",
       "      <td>0.786037</td>\n",
       "      <td>0.636889</td>\n",
       "      <td>0.487741</td>\n",
       "      <td>0.338593</td>\n",
       "      <td>0.189445</td>\n",
       "      <td>-1.342333</td>\n",
       "    </tr>\n",
       "    <tr>\n",
       "      <th>BTDD_RR</th>\n",
       "      <td>-0.292135</td>\n",
       "      <td>-0.584270</td>\n",
       "      <td>-0.876405</td>\n",
       "      <td>-1.168539</td>\n",
       "      <td>-1.460674</td>\n",
       "      <td>-1.752809</td>\n",
       "      <td>-2.044944</td>\n",
       "      <td>-2.337079</td>\n",
       "      <td>-2.629214</td>\n",
       "      <td>-2.921349</td>\n",
       "      <td>-2.629214</td>\n",
       "    </tr>\n",
       "    <tr>\n",
       "      <th>BTDDtpp</th>\n",
       "      <td>-0.292135</td>\n",
       "      <td>-0.584270</td>\n",
       "      <td>-0.876405</td>\n",
       "      <td>-1.168539</td>\n",
       "      <td>-1.460674</td>\n",
       "      <td>-1.752809</td>\n",
       "      <td>-2.044944</td>\n",
       "      <td>-2.337079</td>\n",
       "      <td>-2.629214</td>\n",
       "      <td>-2.921349</td>\n",
       "      <td>-2.629214</td>\n",
       "    </tr>\n",
       "    <tr>\n",
       "      <th>BTDDtex</th>\n",
       "      <td>-0.292135</td>\n",
       "      <td>-0.584270</td>\n",
       "      <td>-0.876405</td>\n",
       "      <td>-1.168539</td>\n",
       "      <td>-1.460674</td>\n",
       "      <td>-1.752809</td>\n",
       "      <td>-2.044944</td>\n",
       "      <td>-2.337079</td>\n",
       "      <td>-2.629214</td>\n",
       "      <td>-2.921349</td>\n",
       "      <td>-2.629214</td>\n",
       "    </tr>\n",
       "    <tr>\n",
       "      <th>NADH18pp</th>\n",
       "      <td>17.114805</td>\n",
       "      <td>16.302110</td>\n",
       "      <td>15.489415</td>\n",
       "      <td>14.676720</td>\n",
       "      <td>13.864024</td>\n",
       "      <td>13.051329</td>\n",
       "      <td>12.238634</td>\n",
       "      <td>11.425939</td>\n",
       "      <td>10.613244</td>\n",
       "      <td>9.800548</td>\n",
       "      <td>-7.314257</td>\n",
       "    </tr>\n",
       "    <tr>\n",
       "      <th>FRD3</th>\n",
       "      <td>17.114805</td>\n",
       "      <td>16.302110</td>\n",
       "      <td>15.489415</td>\n",
       "      <td>14.676720</td>\n",
       "      <td>13.864024</td>\n",
       "      <td>13.051329</td>\n",
       "      <td>12.238634</td>\n",
       "      <td>11.425939</td>\n",
       "      <td>10.613244</td>\n",
       "      <td>9.800548</td>\n",
       "      <td>-7.314257</td>\n",
       "    </tr>\n",
       "    <tr>\n",
       "      <th>SUCDi</th>\n",
       "      <td>25.432366</td>\n",
       "      <td>24.414963</td>\n",
       "      <td>23.397560</td>\n",
       "      <td>22.380157</td>\n",
       "      <td>21.362753</td>\n",
       "      <td>20.345350</td>\n",
       "      <td>19.327947</td>\n",
       "      <td>18.310544</td>\n",
       "      <td>17.293141</td>\n",
       "      <td>16.275738</td>\n",
       "      <td>-9.156628</td>\n",
       "    </tr>\n",
       "  </tbody>\n",
       "</table>\n",
       "</div>"
      ],
      "text/plain": [
       "                     1          2          3          4          5          6  \\\n",
       "ME2           1.107173   1.640528   2.173883   2.707238   3.240593   3.773948   \n",
       "NADTRHD       2.352687   2.728774   3.104861   3.480949   3.857036   4.233123   \n",
       "MALS          3.396996   3.707393   4.017789   4.328186   4.638583   4.948980   \n",
       "ICL           3.396996   3.707393   4.017789   4.328186   4.638583   4.948980   \n",
       "ACLDC         0.292135   0.584270   0.876405   1.168539   1.460674   1.752809   \n",
       "EX_btd_RR_e   0.292135   0.584270   0.876405   1.168539   1.460674   1.752809   \n",
       "ACLS          0.528293   0.797434   1.066574   1.335714   1.604854   1.873995   \n",
       "Htex         10.291953  10.536159  10.780366  11.024573  11.268779  11.512986   \n",
       "PPKr        -13.803374 -13.705676 -13.607978 -13.510281 -13.412583 -13.314885   \n",
       "VALTA        -0.271774  -0.245311  -0.218849  -0.192387  -0.165924  -0.139462   \n",
       "PPM          -0.251757  -0.227243  -0.202730  -0.178217  -0.153703  -0.129190   \n",
       "F6PA         -0.226946  -0.204849  -0.182751  -0.160654  -0.138556  -0.116458   \n",
       "VPAMTr       -0.157460  -0.142128  -0.126796  -0.111464  -0.096133  -0.080801   \n",
       "NAt3pp       12.798720  12.798845  12.798970  12.799094  12.799219  12.799343   \n",
       "IPDDI         0.000075   0.000068   0.000060   0.000053   0.000046   0.000039   \n",
       "ADPT          0.000120   0.000109   0.000097   0.000085   0.000074   0.000062   \n",
       "DHNPA2r       0.000181   0.000163   0.000146   0.000128   0.000110   0.000093   \n",
       "IPDPS         0.000645   0.000582   0.000520   0.000457   0.000394   0.000331   \n",
       "GTHOr         0.007069   0.006381   0.005692   0.005004   0.004316   0.003627   \n",
       "RNDR4b        0.007069   0.006381   0.005692   0.005004   0.004316   0.003627   \n",
       "PYK6          0.007069   0.006381   0.005692   0.005004   0.004316   0.003627   \n",
       "GRXR          0.007069   0.006381   0.005692   0.005004   0.004316   0.003627   \n",
       "RNTR2c        0.007299   0.006588   0.005877   0.005167   0.004456   0.003745   \n",
       "RNTR3c        0.007299   0.006588   0.005877   0.005167   0.004456   0.003745   \n",
       "FLDR          0.021666   0.019557   0.017447   0.015337   0.013228   0.011118   \n",
       "NDPK3         0.040323   0.036397   0.032471   0.028544   0.024618   0.020692   \n",
       "DHORD5        0.089353   0.080652   0.071952   0.063252   0.054552   0.045852   \n",
       "FRD2          0.089353   0.080652   0.071952   0.063252   0.054552   0.045852   \n",
       "PYK2          0.107799   0.097303   0.086806   0.076310   0.065814   0.055317   \n",
       "ACS          12.915362  12.904129  12.892897  12.881664  12.870431  12.859198   \n",
       "PYK3          0.171208   0.154537   0.137867   0.121197   0.104526   0.087856   \n",
       "GLYCDx        0.226946   0.204849   0.182751   0.160654   0.138556   0.116458   \n",
       "ALCD19        0.226946   0.204849   0.182751   0.160654   0.138556   0.116458   \n",
       "GAPP          0.226946   0.204849   0.182751   0.160654   0.138556   0.116458   \n",
       "R1PK          0.251757   0.227243   0.202730   0.178217   0.153703   0.129190   \n",
       "R15BPK        0.251757   0.227243   0.202730   0.178217   0.153703   0.129190   \n",
       "ADK1         13.329812  13.278224  13.226637  13.175050  13.123462  13.071875   \n",
       "PROD2         0.590172   0.532707   0.475243   0.417778   0.360313   0.302849   \n",
       "P5CR          0.649895   0.586615   0.523335   0.460056   0.396776   0.333496   \n",
       "PPCK          1.531778   1.382630   1.233482   1.084334   0.935185   0.786037   \n",
       "BTDD_RR      -0.292135  -0.584270  -0.876405  -1.168539  -1.460674  -1.752809   \n",
       "BTDDtpp      -0.292135  -0.584270  -0.876405  -1.168539  -1.460674  -1.752809   \n",
       "BTDDtex      -0.292135  -0.584270  -0.876405  -1.168539  -1.460674  -1.752809   \n",
       "NADH18pp     17.114805  16.302110  15.489415  14.676720  13.864024  13.051329   \n",
       "FRD3         17.114805  16.302110  15.489415  14.676720  13.864024  13.051329   \n",
       "SUCDi        25.432366  24.414963  23.397560  22.380157  21.362753  20.345350   \n",
       "\n",
       "                     7          8          9         10  flux_difference  \n",
       "ME2           4.307303   4.840658   5.374013   5.907368         4.800195  \n",
       "NADTRHD       4.609210   4.985298   5.361385   5.737472         3.384785  \n",
       "MALS          5.259376   5.569773   5.880170   6.190567         2.793571  \n",
       "ICL           5.259376   5.569773   5.880170   6.190567         2.793571  \n",
       "ACLDC         2.044944   2.337079   2.629214   2.921349         2.629214  \n",
       "EX_btd_RR_e   2.044944   2.337079   2.629214   2.921349         2.629214  \n",
       "ACLS          2.143135   2.412275   2.681416   2.950556         2.422263  \n",
       "Htex         11.757193  12.001399  12.245606  12.489813         2.197860  \n",
       "PPKr        -13.217187 -13.119490 -13.021792 -12.924094         0.879280  \n",
       "VALTA        -0.112999  -0.086537  -0.060075  -0.033612         0.238162  \n",
       "PPM          -0.104677  -0.080163  -0.055650  -0.031136         0.220621  \n",
       "F6PA         -0.094361  -0.072263  -0.050166  -0.028068         0.198878  \n",
       "VPAMTr       -0.065469  -0.050138  -0.034806  -0.019474         0.137986  \n",
       "NAt3pp       12.799468  12.799593  12.799717  12.799842         0.001122  \n",
       "IPDDI         0.000031   0.000024   0.000017   0.000009        -0.000066  \n",
       "ADPT          0.000050   0.000038   0.000027   0.000015        -0.000105  \n",
       "DHNPA2r       0.000075   0.000058   0.000040   0.000022        -0.000159  \n",
       "IPDPS         0.000268   0.000205   0.000143   0.000080        -0.000565  \n",
       "GTHOr         0.002939   0.002251   0.001563   0.000874        -0.006195  \n",
       "RNDR4b        0.002939   0.002251   0.001563   0.000874        -0.006195  \n",
       "PYK6          0.002939   0.002251   0.001563   0.000874        -0.006195  \n",
       "GRXR          0.002939   0.002251   0.001563   0.000874        -0.006195  \n",
       "RNTR2c        0.003035   0.002324   0.001613   0.000903        -0.006396  \n",
       "RNTR3c        0.003035   0.002324   0.001613   0.000903        -0.006396  \n",
       "FLDR          0.009008   0.006899   0.004789   0.002680        -0.018986  \n",
       "NDPK3         0.016766   0.012839   0.008913   0.004987        -0.035336  \n",
       "DHORD5        0.037151   0.028451   0.019751   0.011051        -0.078302  \n",
       "FRD2          0.037151   0.028451   0.019751   0.011051        -0.078302  \n",
       "PYK2          0.044821   0.034325   0.023829   0.013332        -0.094467  \n",
       "ACS          12.847966  12.836733  12.825500  12.814268        -0.101094  \n",
       "PYK3          0.071186   0.054515   0.037845   0.021174        -0.150034  \n",
       "GLYCDx        0.094361   0.072263   0.050166   0.028068        -0.198878  \n",
       "ALCD19        0.094361   0.072263   0.050166   0.028068        -0.198878  \n",
       "GAPP          0.094361   0.072263   0.050166   0.028068        -0.198878  \n",
       "R1PK          0.104677   0.080163   0.055650   0.031136        -0.220621  \n",
       "R15BPK        0.104677   0.080163   0.055650   0.031136        -0.220621  \n",
       "ADK1         13.020288  12.968700  12.917113  12.865525        -0.464287  \n",
       "PROD2         0.245384   0.187920   0.130455   0.072991        -0.517181  \n",
       "P5CR          0.270216   0.206937   0.143657   0.080377        -0.569518  \n",
       "PPCK          0.636889   0.487741   0.338593   0.189445        -1.342333  \n",
       "BTDD_RR      -2.044944  -2.337079  -2.629214  -2.921349        -2.629214  \n",
       "BTDDtpp      -2.044944  -2.337079  -2.629214  -2.921349        -2.629214  \n",
       "BTDDtex      -2.044944  -2.337079  -2.629214  -2.921349        -2.629214  \n",
       "NADH18pp     12.238634  11.425939  10.613244   9.800548        -7.314257  \n",
       "FRD3         12.238634  11.425939  10.613244   9.800548        -7.314257  \n",
       "SUCDi        19.327947  18.310544  17.293141  16.275738        -9.156628  "
      ]
     },
     "execution_count": 55,
     "metadata": {},
     "output_type": "execute_result"
    }
   ],
   "source": [
    "data_alternative = fseof_result.data_frame\n",
    "data_alternative['flux_difference'] = [row[10]-row[1] for index, row in data_alternative.iterrows()]\n",
    "data_alternative = data_alternative.loc[data_alternative['flux_difference']!=0]\n",
    "data_alternative.sort_values(by='flux_difference', ascending=False)"
   ]
  },
  {
   "cell_type": "code",
   "execution_count": 57,
   "id": "d12405f7",
   "metadata": {},
   "outputs": [],
   "source": [
    "data_alternative = data_alternative.sort_values(by='flux_difference', ascending=False)\n",
    "data_alternative.to_csv('fseof_analysis_POR5_knockout.csv')"
   ]
  },
  {
   "cell_type": "code",
   "execution_count": 105,
   "id": "9cbd2fc7",
   "metadata": {},
   "outputs": [
    {
     "data": {
      "application/vnd.plotly.v1+json": {
       "config": {
        "plotlyServerURL": "https://plot.ly"
       },
       "data": [
        {
         "hovertemplate": "variable=ME2<br>EX_btd_RR_e=%{x}<br>value=%{y}<extra></extra>",
         "legendgroup": "ME2",
         "line": {
          "color": "#636efa",
          "dash": "solid",
          "width": 3
         },
         "marker": {
          "symbol": "circle"
         },
         "mode": "lines",
         "name": "ME2",
         "orientation": "v",
         "showlegend": true,
         "type": "scatter",
         "x": [
          0.29213487000000005,
          0.5842697400000001,
          0.8764046100000001,
          1.1685394800000002,
          1.4606743500000001,
          1.7528092200000003,
          2.0449440900000004,
          2.3370789600000004,
          2.6292138300000003,
          2.9213487000000002
         ],
         "xaxis": "x",
         "y": [
          1.107173,
          1.640528,
          2.173883,
          2.707238,
          3.240593,
          3.773948,
          4.307303,
          4.840658,
          5.374013,
          5.907368
         ],
         "yaxis": "y"
        },
        {
         "hovertemplate": "variable=SUCDi<br>EX_btd_RR_e=%{x}<br>value=%{y}<extra></extra>",
         "legendgroup": "SUCDi",
         "line": {
          "color": "#EF553B",
          "dash": "solid",
          "width": 3
         },
         "marker": {
          "symbol": "circle"
         },
         "mode": "lines",
         "name": "SUCDi",
         "orientation": "v",
         "showlegend": true,
         "type": "scatter",
         "x": [
          0.29213487000000005,
          0.5842697400000001,
          0.8764046100000001,
          1.1685394800000002,
          1.4606743500000001,
          1.7528092200000003,
          2.0449440900000004,
          2.3370789600000004,
          2.6292138300000003,
          2.9213487000000002
         ],
         "xaxis": "x",
         "y": [
          25.432366,
          24.414963,
          23.39756,
          22.380157,
          21.362753,
          20.34535,
          19.327947,
          18.310544,
          17.293141,
          16.275738
         ],
         "yaxis": "y"
        },
        {
         "hovertemplate": "variable=ACLDC<br>EX_btd_RR_e=%{x}<br>value=%{y}<extra></extra>",
         "legendgroup": "ACLDC",
         "line": {
          "color": "#00cc96",
          "dash": "solid",
          "width": 3
         },
         "marker": {
          "symbol": "circle"
         },
         "mode": "lines",
         "name": "ACLDC",
         "orientation": "v",
         "showlegend": true,
         "type": "scatter",
         "x": [
          0.29213487000000005,
          0.5842697400000001,
          0.8764046100000001,
          1.1685394800000002,
          1.4606743500000001,
          1.7528092200000003,
          2.0449440900000004,
          2.3370789600000004,
          2.6292138300000003,
          2.9213487000000002
         ],
         "xaxis": "x",
         "y": [
          0.292135,
          0.58427,
          0.876405,
          1.168539,
          1.460674,
          1.752809,
          2.044944,
          2.337079,
          2.629214,
          2.921349
         ],
         "yaxis": "y"
        },
        {
         "hovertemplate": "variable=ICL<br>EX_btd_RR_e=%{x}<br>value=%{y}<extra></extra>",
         "legendgroup": "ICL",
         "line": {
          "color": "#ab63fa",
          "dash": "solid",
          "width": 3
         },
         "marker": {
          "symbol": "circle"
         },
         "mode": "lines",
         "name": "ICL",
         "orientation": "v",
         "showlegend": true,
         "type": "scatter",
         "x": [
          0.29213487000000005,
          0.5842697400000001,
          0.8764046100000001,
          1.1685394800000002,
          1.4606743500000001,
          1.7528092200000003,
          2.0449440900000004,
          2.3370789600000004,
          2.6292138300000003,
          2.9213487000000002
         ],
         "xaxis": "x",
         "y": [
          3.396996,
          3.707393,
          4.017789,
          4.328186,
          4.638583,
          4.94898,
          5.259376,
          5.569773,
          5.88017,
          6.190567
         ],
         "yaxis": "y"
        },
        {
         "hovertemplate": "variable=NADTRHD<br>EX_btd_RR_e=%{x}<br>value=%{y}<extra></extra>",
         "legendgroup": "NADTRHD",
         "line": {
          "color": "#FFA15A",
          "dash": "solid",
          "width": 3
         },
         "marker": {
          "symbol": "circle"
         },
         "mode": "lines",
         "name": "NADTRHD",
         "orientation": "v",
         "showlegend": true,
         "type": "scatter",
         "x": [
          0.29213487000000005,
          0.5842697400000001,
          0.8764046100000001,
          1.1685394800000002,
          1.4606743500000001,
          1.7528092200000003,
          2.0449440900000004,
          2.3370789600000004,
          2.6292138300000003,
          2.9213487000000002
         ],
         "xaxis": "x",
         "y": [
          2.352687,
          2.728774,
          3.104861,
          3.480949,
          3.857036,
          4.233123,
          4.60921,
          4.985298,
          5.361385,
          5.737472
         ],
         "yaxis": "y"
        },
        {
         "hovertemplate": "variable=MALS<br>EX_btd_RR_e=%{x}<br>value=%{y}<extra></extra>",
         "legendgroup": "MALS",
         "line": {
          "color": "#19d3f3",
          "dash": "solid",
          "width": 3
         },
         "marker": {
          "symbol": "circle"
         },
         "mode": "lines",
         "name": "MALS",
         "orientation": "v",
         "showlegend": true,
         "type": "scatter",
         "x": [
          0.29213487000000005,
          0.5842697400000001,
          0.8764046100000001,
          1.1685394800000002,
          1.4606743500000001,
          1.7528092200000003,
          2.0449440900000004,
          2.3370789600000004,
          2.6292138300000003,
          2.9213487000000002
         ],
         "xaxis": "x",
         "y": [
          3.396996,
          3.707393,
          4.017789,
          4.328186,
          4.638583,
          4.94898,
          5.259376,
          5.569773,
          5.88017,
          6.190567
         ],
         "yaxis": "y"
        },
        {
         "hovertemplate": "variable=FRD3<br>EX_btd_RR_e=%{x}<br>value=%{y}<extra></extra>",
         "legendgroup": "FRD3",
         "line": {
          "color": "#FF6692",
          "dash": "solid",
          "width": 3
         },
         "marker": {
          "symbol": "circle"
         },
         "mode": "lines",
         "name": "FRD3",
         "orientation": "v",
         "showlegend": true,
         "type": "scatter",
         "x": [
          0.29213487000000005,
          0.5842697400000001,
          0.8764046100000001,
          1.1685394800000002,
          1.4606743500000001,
          1.7528092200000003,
          2.0449440900000004,
          2.3370789600000004,
          2.6292138300000003,
          2.9213487000000002
         ],
         "xaxis": "x",
         "y": [
          17.114805,
          16.30211,
          15.489415,
          14.67672,
          13.864024,
          13.051329,
          12.238634,
          11.425939,
          10.613244,
          9.800548
         ],
         "yaxis": "y"
        }
       ],
       "layout": {
        "font": {
         "size": 26
        },
        "legend": {
         "font": {
          "size": 16
         },
         "title": {
          "text": "Reactions"
         },
         "tracegroupgap": 0,
         "y": 0.5
        },
        "margin": {
         "t": 60
        },
        "paper_bgcolor": "rgba(0,0,0,0)",
        "plot_bgcolor": "rgba(0,0,0,0)",
        "template": {
         "data": {
          "bar": [
           {
            "error_x": {
             "color": "#2a3f5f"
            },
            "error_y": {
             "color": "#2a3f5f"
            },
            "marker": {
             "line": {
              "color": "#E5ECF6",
              "width": 0.5
             },
             "pattern": {
              "fillmode": "overlay",
              "size": 10,
              "solidity": 0.2
             }
            },
            "type": "bar"
           }
          ],
          "barpolar": [
           {
            "marker": {
             "line": {
              "color": "#E5ECF6",
              "width": 0.5
             },
             "pattern": {
              "fillmode": "overlay",
              "size": 10,
              "solidity": 0.2
             }
            },
            "type": "barpolar"
           }
          ],
          "carpet": [
           {
            "aaxis": {
             "endlinecolor": "#2a3f5f",
             "gridcolor": "white",
             "linecolor": "white",
             "minorgridcolor": "white",
             "startlinecolor": "#2a3f5f"
            },
            "baxis": {
             "endlinecolor": "#2a3f5f",
             "gridcolor": "white",
             "linecolor": "white",
             "minorgridcolor": "white",
             "startlinecolor": "#2a3f5f"
            },
            "type": "carpet"
           }
          ],
          "choropleth": [
           {
            "colorbar": {
             "outlinewidth": 0,
             "ticks": ""
            },
            "type": "choropleth"
           }
          ],
          "contour": [
           {
            "colorbar": {
             "outlinewidth": 0,
             "ticks": ""
            },
            "colorscale": [
             [
              0,
              "#0d0887"
             ],
             [
              0.1111111111111111,
              "#46039f"
             ],
             [
              0.2222222222222222,
              "#7201a8"
             ],
             [
              0.3333333333333333,
              "#9c179e"
             ],
             [
              0.4444444444444444,
              "#bd3786"
             ],
             [
              0.5555555555555556,
              "#d8576b"
             ],
             [
              0.6666666666666666,
              "#ed7953"
             ],
             [
              0.7777777777777778,
              "#fb9f3a"
             ],
             [
              0.8888888888888888,
              "#fdca26"
             ],
             [
              1,
              "#f0f921"
             ]
            ],
            "type": "contour"
           }
          ],
          "contourcarpet": [
           {
            "colorbar": {
             "outlinewidth": 0,
             "ticks": ""
            },
            "type": "contourcarpet"
           }
          ],
          "heatmap": [
           {
            "colorbar": {
             "outlinewidth": 0,
             "ticks": ""
            },
            "colorscale": [
             [
              0,
              "#0d0887"
             ],
             [
              0.1111111111111111,
              "#46039f"
             ],
             [
              0.2222222222222222,
              "#7201a8"
             ],
             [
              0.3333333333333333,
              "#9c179e"
             ],
             [
              0.4444444444444444,
              "#bd3786"
             ],
             [
              0.5555555555555556,
              "#d8576b"
             ],
             [
              0.6666666666666666,
              "#ed7953"
             ],
             [
              0.7777777777777778,
              "#fb9f3a"
             ],
             [
              0.8888888888888888,
              "#fdca26"
             ],
             [
              1,
              "#f0f921"
             ]
            ],
            "type": "heatmap"
           }
          ],
          "heatmapgl": [
           {
            "colorbar": {
             "outlinewidth": 0,
             "ticks": ""
            },
            "colorscale": [
             [
              0,
              "#0d0887"
             ],
             [
              0.1111111111111111,
              "#46039f"
             ],
             [
              0.2222222222222222,
              "#7201a8"
             ],
             [
              0.3333333333333333,
              "#9c179e"
             ],
             [
              0.4444444444444444,
              "#bd3786"
             ],
             [
              0.5555555555555556,
              "#d8576b"
             ],
             [
              0.6666666666666666,
              "#ed7953"
             ],
             [
              0.7777777777777778,
              "#fb9f3a"
             ],
             [
              0.8888888888888888,
              "#fdca26"
             ],
             [
              1,
              "#f0f921"
             ]
            ],
            "type": "heatmapgl"
           }
          ],
          "histogram": [
           {
            "marker": {
             "pattern": {
              "fillmode": "overlay",
              "size": 10,
              "solidity": 0.2
             }
            },
            "type": "histogram"
           }
          ],
          "histogram2d": [
           {
            "colorbar": {
             "outlinewidth": 0,
             "ticks": ""
            },
            "colorscale": [
             [
              0,
              "#0d0887"
             ],
             [
              0.1111111111111111,
              "#46039f"
             ],
             [
              0.2222222222222222,
              "#7201a8"
             ],
             [
              0.3333333333333333,
              "#9c179e"
             ],
             [
              0.4444444444444444,
              "#bd3786"
             ],
             [
              0.5555555555555556,
              "#d8576b"
             ],
             [
              0.6666666666666666,
              "#ed7953"
             ],
             [
              0.7777777777777778,
              "#fb9f3a"
             ],
             [
              0.8888888888888888,
              "#fdca26"
             ],
             [
              1,
              "#f0f921"
             ]
            ],
            "type": "histogram2d"
           }
          ],
          "histogram2dcontour": [
           {
            "colorbar": {
             "outlinewidth": 0,
             "ticks": ""
            },
            "colorscale": [
             [
              0,
              "#0d0887"
             ],
             [
              0.1111111111111111,
              "#46039f"
             ],
             [
              0.2222222222222222,
              "#7201a8"
             ],
             [
              0.3333333333333333,
              "#9c179e"
             ],
             [
              0.4444444444444444,
              "#bd3786"
             ],
             [
              0.5555555555555556,
              "#d8576b"
             ],
             [
              0.6666666666666666,
              "#ed7953"
             ],
             [
              0.7777777777777778,
              "#fb9f3a"
             ],
             [
              0.8888888888888888,
              "#fdca26"
             ],
             [
              1,
              "#f0f921"
             ]
            ],
            "type": "histogram2dcontour"
           }
          ],
          "mesh3d": [
           {
            "colorbar": {
             "outlinewidth": 0,
             "ticks": ""
            },
            "type": "mesh3d"
           }
          ],
          "parcoords": [
           {
            "line": {
             "colorbar": {
              "outlinewidth": 0,
              "ticks": ""
             }
            },
            "type": "parcoords"
           }
          ],
          "pie": [
           {
            "automargin": true,
            "type": "pie"
           }
          ],
          "scatter": [
           {
            "marker": {
             "colorbar": {
              "outlinewidth": 0,
              "ticks": ""
             }
            },
            "type": "scatter"
           }
          ],
          "scatter3d": [
           {
            "line": {
             "colorbar": {
              "outlinewidth": 0,
              "ticks": ""
             }
            },
            "marker": {
             "colorbar": {
              "outlinewidth": 0,
              "ticks": ""
             }
            },
            "type": "scatter3d"
           }
          ],
          "scattercarpet": [
           {
            "marker": {
             "colorbar": {
              "outlinewidth": 0,
              "ticks": ""
             }
            },
            "type": "scattercarpet"
           }
          ],
          "scattergeo": [
           {
            "marker": {
             "colorbar": {
              "outlinewidth": 0,
              "ticks": ""
             }
            },
            "type": "scattergeo"
           }
          ],
          "scattergl": [
           {
            "marker": {
             "colorbar": {
              "outlinewidth": 0,
              "ticks": ""
             }
            },
            "type": "scattergl"
           }
          ],
          "scattermapbox": [
           {
            "marker": {
             "colorbar": {
              "outlinewidth": 0,
              "ticks": ""
             }
            },
            "type": "scattermapbox"
           }
          ],
          "scatterpolar": [
           {
            "marker": {
             "colorbar": {
              "outlinewidth": 0,
              "ticks": ""
             }
            },
            "type": "scatterpolar"
           }
          ],
          "scatterpolargl": [
           {
            "marker": {
             "colorbar": {
              "outlinewidth": 0,
              "ticks": ""
             }
            },
            "type": "scatterpolargl"
           }
          ],
          "scatterternary": [
           {
            "marker": {
             "colorbar": {
              "outlinewidth": 0,
              "ticks": ""
             }
            },
            "type": "scatterternary"
           }
          ],
          "surface": [
           {
            "colorbar": {
             "outlinewidth": 0,
             "ticks": ""
            },
            "colorscale": [
             [
              0,
              "#0d0887"
             ],
             [
              0.1111111111111111,
              "#46039f"
             ],
             [
              0.2222222222222222,
              "#7201a8"
             ],
             [
              0.3333333333333333,
              "#9c179e"
             ],
             [
              0.4444444444444444,
              "#bd3786"
             ],
             [
              0.5555555555555556,
              "#d8576b"
             ],
             [
              0.6666666666666666,
              "#ed7953"
             ],
             [
              0.7777777777777778,
              "#fb9f3a"
             ],
             [
              0.8888888888888888,
              "#fdca26"
             ],
             [
              1,
              "#f0f921"
             ]
            ],
            "type": "surface"
           }
          ],
          "table": [
           {
            "cells": {
             "fill": {
              "color": "#EBF0F8"
             },
             "line": {
              "color": "white"
             }
            },
            "header": {
             "fill": {
              "color": "#C8D4E3"
             },
             "line": {
              "color": "white"
             }
            },
            "type": "table"
           }
          ]
         },
         "layout": {
          "annotationdefaults": {
           "arrowcolor": "#2a3f5f",
           "arrowhead": 0,
           "arrowwidth": 1
          },
          "autotypenumbers": "strict",
          "coloraxis": {
           "colorbar": {
            "outlinewidth": 0,
            "ticks": ""
           }
          },
          "colorscale": {
           "diverging": [
            [
             0,
             "#8e0152"
            ],
            [
             0.1,
             "#c51b7d"
            ],
            [
             0.2,
             "#de77ae"
            ],
            [
             0.3,
             "#f1b6da"
            ],
            [
             0.4,
             "#fde0ef"
            ],
            [
             0.5,
             "#f7f7f7"
            ],
            [
             0.6,
             "#e6f5d0"
            ],
            [
             0.7,
             "#b8e186"
            ],
            [
             0.8,
             "#7fbc41"
            ],
            [
             0.9,
             "#4d9221"
            ],
            [
             1,
             "#276419"
            ]
           ],
           "sequential": [
            [
             0,
             "#0d0887"
            ],
            [
             0.1111111111111111,
             "#46039f"
            ],
            [
             0.2222222222222222,
             "#7201a8"
            ],
            [
             0.3333333333333333,
             "#9c179e"
            ],
            [
             0.4444444444444444,
             "#bd3786"
            ],
            [
             0.5555555555555556,
             "#d8576b"
            ],
            [
             0.6666666666666666,
             "#ed7953"
            ],
            [
             0.7777777777777778,
             "#fb9f3a"
            ],
            [
             0.8888888888888888,
             "#fdca26"
            ],
            [
             1,
             "#f0f921"
            ]
           ],
           "sequentialminus": [
            [
             0,
             "#0d0887"
            ],
            [
             0.1111111111111111,
             "#46039f"
            ],
            [
             0.2222222222222222,
             "#7201a8"
            ],
            [
             0.3333333333333333,
             "#9c179e"
            ],
            [
             0.4444444444444444,
             "#bd3786"
            ],
            [
             0.5555555555555556,
             "#d8576b"
            ],
            [
             0.6666666666666666,
             "#ed7953"
            ],
            [
             0.7777777777777778,
             "#fb9f3a"
            ],
            [
             0.8888888888888888,
             "#fdca26"
            ],
            [
             1,
             "#f0f921"
            ]
           ]
          },
          "colorway": [
           "#636efa",
           "#EF553B",
           "#00cc96",
           "#ab63fa",
           "#FFA15A",
           "#19d3f3",
           "#FF6692",
           "#B6E880",
           "#FF97FF",
           "#FECB52"
          ],
          "font": {
           "color": "#2a3f5f"
          },
          "geo": {
           "bgcolor": "white",
           "lakecolor": "white",
           "landcolor": "#E5ECF6",
           "showlakes": true,
           "showland": true,
           "subunitcolor": "white"
          },
          "hoverlabel": {
           "align": "left"
          },
          "hovermode": "closest",
          "mapbox": {
           "style": "light"
          },
          "paper_bgcolor": "white",
          "plot_bgcolor": "#E5ECF6",
          "polar": {
           "angularaxis": {
            "gridcolor": "white",
            "linecolor": "white",
            "ticks": ""
           },
           "bgcolor": "#E5ECF6",
           "radialaxis": {
            "gridcolor": "white",
            "linecolor": "white",
            "ticks": ""
           }
          },
          "scene": {
           "xaxis": {
            "backgroundcolor": "#E5ECF6",
            "gridcolor": "white",
            "gridwidth": 2,
            "linecolor": "white",
            "showbackground": true,
            "ticks": "",
            "zerolinecolor": "white"
           },
           "yaxis": {
            "backgroundcolor": "#E5ECF6",
            "gridcolor": "white",
            "gridwidth": 2,
            "linecolor": "white",
            "showbackground": true,
            "ticks": "",
            "zerolinecolor": "white"
           },
           "zaxis": {
            "backgroundcolor": "#E5ECF6",
            "gridcolor": "white",
            "gridwidth": 2,
            "linecolor": "white",
            "showbackground": true,
            "ticks": "",
            "zerolinecolor": "white"
           }
          },
          "shapedefaults": {
           "line": {
            "color": "#2a3f5f"
           }
          },
          "ternary": {
           "aaxis": {
            "gridcolor": "white",
            "linecolor": "white",
            "ticks": ""
           },
           "baxis": {
            "gridcolor": "white",
            "linecolor": "white",
            "ticks": ""
           },
           "bgcolor": "#E5ECF6",
           "caxis": {
            "gridcolor": "white",
            "linecolor": "white",
            "ticks": ""
           }
          },
          "title": {
           "x": 0.05
          },
          "xaxis": {
           "automargin": true,
           "gridcolor": "white",
           "linecolor": "white",
           "ticks": "",
           "title": {
            "standoff": 15
           },
           "zerolinecolor": "white",
           "zerolinewidth": 2
          },
          "yaxis": {
           "automargin": true,
           "gridcolor": "white",
           "linecolor": "white",
           "ticks": "",
           "title": {
            "standoff": 15
           },
           "zerolinecolor": "white",
           "zerolinewidth": 2
          }
         }
        },
        "title": {
         "text": "FSEOF result for isobutanol production knocking out POR5",
         "x": 0.5
        },
        "xaxis": {
         "anchor": "y",
         "domain": [
          0,
          1
         ],
         "linecolor": "black",
         "linewidth": 3,
         "showline": true,
         "tickcolor": "black",
         "ticklen": 5,
         "ticks": "inside",
         "tickwidth": 3,
         "title": {
          "text": "Isobutanol Flux"
         }
        },
        "yaxis": {
         "anchor": "x",
         "domain": [
          0,
          1
         ],
         "linecolor": "black",
         "linewidth": 3,
         "showline": true,
         "tickcolor": "black",
         "ticklen": 5,
         "ticks": "inside",
         "tickwidth": 3,
         "title": {
          "text": "Flux of top coupled reactions"
         }
        }
       }
      },
      "text/html": [
       "<div>                            <div id=\"1a3bea8b-35ad-4cea-a1fd-d0c6c50a790c\" class=\"plotly-graph-div\" style=\"height:525px; width:100%;\"></div>            <script type=\"text/javascript\">                require([\"plotly\"], function(Plotly) {                    window.PLOTLYENV=window.PLOTLYENV || {};                                    if (document.getElementById(\"1a3bea8b-35ad-4cea-a1fd-d0c6c50a790c\")) {                    Plotly.newPlot(                        \"1a3bea8b-35ad-4cea-a1fd-d0c6c50a790c\",                        [{\"hovertemplate\":\"variable=ME2<br>EX_btd_RR_e=%{x}<br>value=%{y}<extra></extra>\",\"legendgroup\":\"ME2\",\"line\":{\"color\":\"#636efa\",\"dash\":\"solid\",\"width\":3.0},\"marker\":{\"symbol\":\"circle\"},\"mode\":\"lines\",\"name\":\"ME2\",\"orientation\":\"v\",\"showlegend\":true,\"x\":[0.29213487000000005,0.5842697400000001,0.8764046100000001,1.1685394800000002,1.4606743500000001,1.7528092200000003,2.0449440900000004,2.3370789600000004,2.6292138300000003,2.9213487000000002],\"xaxis\":\"x\",\"y\":[1.107173,1.640528,2.173883,2.707238,3.240593,3.773948,4.307303,4.840658,5.374013,5.907368],\"yaxis\":\"y\",\"type\":\"scatter\"},{\"hovertemplate\":\"variable=SUCDi<br>EX_btd_RR_e=%{x}<br>value=%{y}<extra></extra>\",\"legendgroup\":\"SUCDi\",\"line\":{\"color\":\"#EF553B\",\"dash\":\"solid\",\"width\":3.0},\"marker\":{\"symbol\":\"circle\"},\"mode\":\"lines\",\"name\":\"SUCDi\",\"orientation\":\"v\",\"showlegend\":true,\"x\":[0.29213487000000005,0.5842697400000001,0.8764046100000001,1.1685394800000002,1.4606743500000001,1.7528092200000003,2.0449440900000004,2.3370789600000004,2.6292138300000003,2.9213487000000002],\"xaxis\":\"x\",\"y\":[25.432366,24.414963,23.39756,22.380157,21.362753,20.34535,19.327947,18.310544,17.293141,16.275738],\"yaxis\":\"y\",\"type\":\"scatter\"},{\"hovertemplate\":\"variable=ACLDC<br>EX_btd_RR_e=%{x}<br>value=%{y}<extra></extra>\",\"legendgroup\":\"ACLDC\",\"line\":{\"color\":\"#00cc96\",\"dash\":\"solid\",\"width\":3.0},\"marker\":{\"symbol\":\"circle\"},\"mode\":\"lines\",\"name\":\"ACLDC\",\"orientation\":\"v\",\"showlegend\":true,\"x\":[0.29213487000000005,0.5842697400000001,0.8764046100000001,1.1685394800000002,1.4606743500000001,1.7528092200000003,2.0449440900000004,2.3370789600000004,2.6292138300000003,2.9213487000000002],\"xaxis\":\"x\",\"y\":[0.292135,0.58427,0.876405,1.168539,1.460674,1.752809,2.044944,2.337079,2.629214,2.921349],\"yaxis\":\"y\",\"type\":\"scatter\"},{\"hovertemplate\":\"variable=ICL<br>EX_btd_RR_e=%{x}<br>value=%{y}<extra></extra>\",\"legendgroup\":\"ICL\",\"line\":{\"color\":\"#ab63fa\",\"dash\":\"solid\",\"width\":3.0},\"marker\":{\"symbol\":\"circle\"},\"mode\":\"lines\",\"name\":\"ICL\",\"orientation\":\"v\",\"showlegend\":true,\"x\":[0.29213487000000005,0.5842697400000001,0.8764046100000001,1.1685394800000002,1.4606743500000001,1.7528092200000003,2.0449440900000004,2.3370789600000004,2.6292138300000003,2.9213487000000002],\"xaxis\":\"x\",\"y\":[3.396996,3.707393,4.017789,4.328186,4.638583,4.94898,5.259376,5.569773,5.88017,6.190567],\"yaxis\":\"y\",\"type\":\"scatter\"},{\"hovertemplate\":\"variable=NADTRHD<br>EX_btd_RR_e=%{x}<br>value=%{y}<extra></extra>\",\"legendgroup\":\"NADTRHD\",\"line\":{\"color\":\"#FFA15A\",\"dash\":\"solid\",\"width\":3.0},\"marker\":{\"symbol\":\"circle\"},\"mode\":\"lines\",\"name\":\"NADTRHD\",\"orientation\":\"v\",\"showlegend\":true,\"x\":[0.29213487000000005,0.5842697400000001,0.8764046100000001,1.1685394800000002,1.4606743500000001,1.7528092200000003,2.0449440900000004,2.3370789600000004,2.6292138300000003,2.9213487000000002],\"xaxis\":\"x\",\"y\":[2.352687,2.728774,3.104861,3.480949,3.857036,4.233123,4.60921,4.985298,5.361385,5.737472],\"yaxis\":\"y\",\"type\":\"scatter\"},{\"hovertemplate\":\"variable=MALS<br>EX_btd_RR_e=%{x}<br>value=%{y}<extra></extra>\",\"legendgroup\":\"MALS\",\"line\":{\"color\":\"#19d3f3\",\"dash\":\"solid\",\"width\":3.0},\"marker\":{\"symbol\":\"circle\"},\"mode\":\"lines\",\"name\":\"MALS\",\"orientation\":\"v\",\"showlegend\":true,\"x\":[0.29213487000000005,0.5842697400000001,0.8764046100000001,1.1685394800000002,1.4606743500000001,1.7528092200000003,2.0449440900000004,2.3370789600000004,2.6292138300000003,2.9213487000000002],\"xaxis\":\"x\",\"y\":[3.396996,3.707393,4.017789,4.328186,4.638583,4.94898,5.259376,5.569773,5.88017,6.190567],\"yaxis\":\"y\",\"type\":\"scatter\"},{\"hovertemplate\":\"variable=FRD3<br>EX_btd_RR_e=%{x}<br>value=%{y}<extra></extra>\",\"legendgroup\":\"FRD3\",\"line\":{\"color\":\"#FF6692\",\"dash\":\"solid\",\"width\":3.0},\"marker\":{\"symbol\":\"circle\"},\"mode\":\"lines\",\"name\":\"FRD3\",\"orientation\":\"v\",\"showlegend\":true,\"x\":[0.29213487000000005,0.5842697400000001,0.8764046100000001,1.1685394800000002,1.4606743500000001,1.7528092200000003,2.0449440900000004,2.3370789600000004,2.6292138300000003,2.9213487000000002],\"xaxis\":\"x\",\"y\":[17.114805,16.30211,15.489415,14.67672,13.864024,13.051329,12.238634,11.425939,10.613244,9.800548],\"yaxis\":\"y\",\"type\":\"scatter\"}],                        {\"template\":{\"data\":{\"bar\":[{\"error_x\":{\"color\":\"#2a3f5f\"},\"error_y\":{\"color\":\"#2a3f5f\"},\"marker\":{\"line\":{\"color\":\"#E5ECF6\",\"width\":0.5},\"pattern\":{\"fillmode\":\"overlay\",\"size\":10,\"solidity\":0.2}},\"type\":\"bar\"}],\"barpolar\":[{\"marker\":{\"line\":{\"color\":\"#E5ECF6\",\"width\":0.5},\"pattern\":{\"fillmode\":\"overlay\",\"size\":10,\"solidity\":0.2}},\"type\":\"barpolar\"}],\"carpet\":[{\"aaxis\":{\"endlinecolor\":\"#2a3f5f\",\"gridcolor\":\"white\",\"linecolor\":\"white\",\"minorgridcolor\":\"white\",\"startlinecolor\":\"#2a3f5f\"},\"baxis\":{\"endlinecolor\":\"#2a3f5f\",\"gridcolor\":\"white\",\"linecolor\":\"white\",\"minorgridcolor\":\"white\",\"startlinecolor\":\"#2a3f5f\"},\"type\":\"carpet\"}],\"choropleth\":[{\"colorbar\":{\"outlinewidth\":0,\"ticks\":\"\"},\"type\":\"choropleth\"}],\"contour\":[{\"colorbar\":{\"outlinewidth\":0,\"ticks\":\"\"},\"colorscale\":[[0.0,\"#0d0887\"],[0.1111111111111111,\"#46039f\"],[0.2222222222222222,\"#7201a8\"],[0.3333333333333333,\"#9c179e\"],[0.4444444444444444,\"#bd3786\"],[0.5555555555555556,\"#d8576b\"],[0.6666666666666666,\"#ed7953\"],[0.7777777777777778,\"#fb9f3a\"],[0.8888888888888888,\"#fdca26\"],[1.0,\"#f0f921\"]],\"type\":\"contour\"}],\"contourcarpet\":[{\"colorbar\":{\"outlinewidth\":0,\"ticks\":\"\"},\"type\":\"contourcarpet\"}],\"heatmap\":[{\"colorbar\":{\"outlinewidth\":0,\"ticks\":\"\"},\"colorscale\":[[0.0,\"#0d0887\"],[0.1111111111111111,\"#46039f\"],[0.2222222222222222,\"#7201a8\"],[0.3333333333333333,\"#9c179e\"],[0.4444444444444444,\"#bd3786\"],[0.5555555555555556,\"#d8576b\"],[0.6666666666666666,\"#ed7953\"],[0.7777777777777778,\"#fb9f3a\"],[0.8888888888888888,\"#fdca26\"],[1.0,\"#f0f921\"]],\"type\":\"heatmap\"}],\"heatmapgl\":[{\"colorbar\":{\"outlinewidth\":0,\"ticks\":\"\"},\"colorscale\":[[0.0,\"#0d0887\"],[0.1111111111111111,\"#46039f\"],[0.2222222222222222,\"#7201a8\"],[0.3333333333333333,\"#9c179e\"],[0.4444444444444444,\"#bd3786\"],[0.5555555555555556,\"#d8576b\"],[0.6666666666666666,\"#ed7953\"],[0.7777777777777778,\"#fb9f3a\"],[0.8888888888888888,\"#fdca26\"],[1.0,\"#f0f921\"]],\"type\":\"heatmapgl\"}],\"histogram\":[{\"marker\":{\"pattern\":{\"fillmode\":\"overlay\",\"size\":10,\"solidity\":0.2}},\"type\":\"histogram\"}],\"histogram2d\":[{\"colorbar\":{\"outlinewidth\":0,\"ticks\":\"\"},\"colorscale\":[[0.0,\"#0d0887\"],[0.1111111111111111,\"#46039f\"],[0.2222222222222222,\"#7201a8\"],[0.3333333333333333,\"#9c179e\"],[0.4444444444444444,\"#bd3786\"],[0.5555555555555556,\"#d8576b\"],[0.6666666666666666,\"#ed7953\"],[0.7777777777777778,\"#fb9f3a\"],[0.8888888888888888,\"#fdca26\"],[1.0,\"#f0f921\"]],\"type\":\"histogram2d\"}],\"histogram2dcontour\":[{\"colorbar\":{\"outlinewidth\":0,\"ticks\":\"\"},\"colorscale\":[[0.0,\"#0d0887\"],[0.1111111111111111,\"#46039f\"],[0.2222222222222222,\"#7201a8\"],[0.3333333333333333,\"#9c179e\"],[0.4444444444444444,\"#bd3786\"],[0.5555555555555556,\"#d8576b\"],[0.6666666666666666,\"#ed7953\"],[0.7777777777777778,\"#fb9f3a\"],[0.8888888888888888,\"#fdca26\"],[1.0,\"#f0f921\"]],\"type\":\"histogram2dcontour\"}],\"mesh3d\":[{\"colorbar\":{\"outlinewidth\":0,\"ticks\":\"\"},\"type\":\"mesh3d\"}],\"parcoords\":[{\"line\":{\"colorbar\":{\"outlinewidth\":0,\"ticks\":\"\"}},\"type\":\"parcoords\"}],\"pie\":[{\"automargin\":true,\"type\":\"pie\"}],\"scatter\":[{\"marker\":{\"colorbar\":{\"outlinewidth\":0,\"ticks\":\"\"}},\"type\":\"scatter\"}],\"scatter3d\":[{\"line\":{\"colorbar\":{\"outlinewidth\":0,\"ticks\":\"\"}},\"marker\":{\"colorbar\":{\"outlinewidth\":0,\"ticks\":\"\"}},\"type\":\"scatter3d\"}],\"scattercarpet\":[{\"marker\":{\"colorbar\":{\"outlinewidth\":0,\"ticks\":\"\"}},\"type\":\"scattercarpet\"}],\"scattergeo\":[{\"marker\":{\"colorbar\":{\"outlinewidth\":0,\"ticks\":\"\"}},\"type\":\"scattergeo\"}],\"scattergl\":[{\"marker\":{\"colorbar\":{\"outlinewidth\":0,\"ticks\":\"\"}},\"type\":\"scattergl\"}],\"scattermapbox\":[{\"marker\":{\"colorbar\":{\"outlinewidth\":0,\"ticks\":\"\"}},\"type\":\"scattermapbox\"}],\"scatterpolar\":[{\"marker\":{\"colorbar\":{\"outlinewidth\":0,\"ticks\":\"\"}},\"type\":\"scatterpolar\"}],\"scatterpolargl\":[{\"marker\":{\"colorbar\":{\"outlinewidth\":0,\"ticks\":\"\"}},\"type\":\"scatterpolargl\"}],\"scatterternary\":[{\"marker\":{\"colorbar\":{\"outlinewidth\":0,\"ticks\":\"\"}},\"type\":\"scatterternary\"}],\"surface\":[{\"colorbar\":{\"outlinewidth\":0,\"ticks\":\"\"},\"colorscale\":[[0.0,\"#0d0887\"],[0.1111111111111111,\"#46039f\"],[0.2222222222222222,\"#7201a8\"],[0.3333333333333333,\"#9c179e\"],[0.4444444444444444,\"#bd3786\"],[0.5555555555555556,\"#d8576b\"],[0.6666666666666666,\"#ed7953\"],[0.7777777777777778,\"#fb9f3a\"],[0.8888888888888888,\"#fdca26\"],[1.0,\"#f0f921\"]],\"type\":\"surface\"}],\"table\":[{\"cells\":{\"fill\":{\"color\":\"#EBF0F8\"},\"line\":{\"color\":\"white\"}},\"header\":{\"fill\":{\"color\":\"#C8D4E3\"},\"line\":{\"color\":\"white\"}},\"type\":\"table\"}]},\"layout\":{\"annotationdefaults\":{\"arrowcolor\":\"#2a3f5f\",\"arrowhead\":0,\"arrowwidth\":1},\"autotypenumbers\":\"strict\",\"coloraxis\":{\"colorbar\":{\"outlinewidth\":0,\"ticks\":\"\"}},\"colorscale\":{\"diverging\":[[0,\"#8e0152\"],[0.1,\"#c51b7d\"],[0.2,\"#de77ae\"],[0.3,\"#f1b6da\"],[0.4,\"#fde0ef\"],[0.5,\"#f7f7f7\"],[0.6,\"#e6f5d0\"],[0.7,\"#b8e186\"],[0.8,\"#7fbc41\"],[0.9,\"#4d9221\"],[1,\"#276419\"]],\"sequential\":[[0.0,\"#0d0887\"],[0.1111111111111111,\"#46039f\"],[0.2222222222222222,\"#7201a8\"],[0.3333333333333333,\"#9c179e\"],[0.4444444444444444,\"#bd3786\"],[0.5555555555555556,\"#d8576b\"],[0.6666666666666666,\"#ed7953\"],[0.7777777777777778,\"#fb9f3a\"],[0.8888888888888888,\"#fdca26\"],[1.0,\"#f0f921\"]],\"sequentialminus\":[[0.0,\"#0d0887\"],[0.1111111111111111,\"#46039f\"],[0.2222222222222222,\"#7201a8\"],[0.3333333333333333,\"#9c179e\"],[0.4444444444444444,\"#bd3786\"],[0.5555555555555556,\"#d8576b\"],[0.6666666666666666,\"#ed7953\"],[0.7777777777777778,\"#fb9f3a\"],[0.8888888888888888,\"#fdca26\"],[1.0,\"#f0f921\"]]},\"colorway\":[\"#636efa\",\"#EF553B\",\"#00cc96\",\"#ab63fa\",\"#FFA15A\",\"#19d3f3\",\"#FF6692\",\"#B6E880\",\"#FF97FF\",\"#FECB52\"],\"font\":{\"color\":\"#2a3f5f\"},\"geo\":{\"bgcolor\":\"white\",\"lakecolor\":\"white\",\"landcolor\":\"#E5ECF6\",\"showlakes\":true,\"showland\":true,\"subunitcolor\":\"white\"},\"hoverlabel\":{\"align\":\"left\"},\"hovermode\":\"closest\",\"mapbox\":{\"style\":\"light\"},\"paper_bgcolor\":\"white\",\"plot_bgcolor\":\"#E5ECF6\",\"polar\":{\"angularaxis\":{\"gridcolor\":\"white\",\"linecolor\":\"white\",\"ticks\":\"\"},\"bgcolor\":\"#E5ECF6\",\"radialaxis\":{\"gridcolor\":\"white\",\"linecolor\":\"white\",\"ticks\":\"\"}},\"scene\":{\"xaxis\":{\"backgroundcolor\":\"#E5ECF6\",\"gridcolor\":\"white\",\"gridwidth\":2,\"linecolor\":\"white\",\"showbackground\":true,\"ticks\":\"\",\"zerolinecolor\":\"white\"},\"yaxis\":{\"backgroundcolor\":\"#E5ECF6\",\"gridcolor\":\"white\",\"gridwidth\":2,\"linecolor\":\"white\",\"showbackground\":true,\"ticks\":\"\",\"zerolinecolor\":\"white\"},\"zaxis\":{\"backgroundcolor\":\"#E5ECF6\",\"gridcolor\":\"white\",\"gridwidth\":2,\"linecolor\":\"white\",\"showbackground\":true,\"ticks\":\"\",\"zerolinecolor\":\"white\"}},\"shapedefaults\":{\"line\":{\"color\":\"#2a3f5f\"}},\"ternary\":{\"aaxis\":{\"gridcolor\":\"white\",\"linecolor\":\"white\",\"ticks\":\"\"},\"baxis\":{\"gridcolor\":\"white\",\"linecolor\":\"white\",\"ticks\":\"\"},\"bgcolor\":\"#E5ECF6\",\"caxis\":{\"gridcolor\":\"white\",\"linecolor\":\"white\",\"ticks\":\"\"}},\"title\":{\"x\":0.05},\"xaxis\":{\"automargin\":true,\"gridcolor\":\"white\",\"linecolor\":\"white\",\"ticks\":\"\",\"title\":{\"standoff\":15},\"zerolinecolor\":\"white\",\"zerolinewidth\":2},\"yaxis\":{\"automargin\":true,\"gridcolor\":\"white\",\"linecolor\":\"white\",\"ticks\":\"\",\"title\":{\"standoff\":15},\"zerolinecolor\":\"white\",\"zerolinewidth\":2}}},\"xaxis\":{\"anchor\":\"y\",\"domain\":[0.0,1.0],\"title\":{\"text\":\"Isobutanol Flux\"},\"showline\":true,\"linewidth\":3.0,\"linecolor\":\"black\",\"ticks\":\"inside\",\"tickwidth\":3.0,\"tickcolor\":\"black\",\"ticklen\":5},\"yaxis\":{\"anchor\":\"x\",\"domain\":[0.0,1.0],\"title\":{\"text\":\"Flux of top coupled reactions\"},\"showline\":true,\"linewidth\":3.0,\"linecolor\":\"black\",\"ticks\":\"inside\",\"tickwidth\":3.0,\"tickcolor\":\"black\",\"ticklen\":5},\"legend\":{\"title\":{\"text\":\"Reactions\"},\"tracegroupgap\":0,\"font\":{\"size\":16},\"y\":0.5},\"margin\":{\"t\":60},\"title\":{\"text\":\"FSEOF result for isobutanol production knocking out POR5\",\"x\":0.5},\"font\":{\"size\":26},\"paper_bgcolor\":\"rgba(0,0,0,0)\",\"plot_bgcolor\":\"rgba(0,0,0,0)\"},                        {\"responsive\": true}                    ).then(function(){\n",
       "                            \n",
       "var gd = document.getElementById('1a3bea8b-35ad-4cea-a1fd-d0c6c50a790c');\n",
       "var x = new MutationObserver(function (mutations, observer) {{\n",
       "        var display = window.getComputedStyle(gd).display;\n",
       "        if (!display || display === 'none') {{\n",
       "            console.log([gd, 'removed!']);\n",
       "            Plotly.purge(gd);\n",
       "            observer.disconnect();\n",
       "        }}\n",
       "}});\n",
       "\n",
       "// Listen for the removal of the full notebook cells\n",
       "var notebookContainer = gd.closest('#notebook-container');\n",
       "if (notebookContainer) {{\n",
       "    x.observe(notebookContainer, {childList: true});\n",
       "}}\n",
       "\n",
       "// Listen for the clearing of the current output cell\n",
       "var outputEl = gd.closest('.output');\n",
       "if (outputEl) {{\n",
       "    x.observe(outputEl, {childList: true});\n",
       "}}\n",
       "\n",
       "                        })                };                });            </script>        </div>"
      ]
     },
     "metadata": {},
     "output_type": "display_data"
    }
   ],
   "source": [
    "threshold = data_alternative.loc['EX_btd_RR_e', 'flux_difference']\n",
    "\n",
    "df = data_alternative.loc[(data_alternative['flux_difference']<=-threshold) | \n",
    "                          (data_alternative['flux_difference']>=threshold) ]\n",
    "df.pop('flux_difference')\n",
    "df = df.T\n",
    "to_remain = ['EX_btd_RR_e', 'ACLDC', 'NADTRHD', 'ICL', 'MALS', 'FRD3', 'SUCDi', 'ME2']\n",
    "df = df[df.columns.intersection(to_remain)]\n",
    "\n",
    "fig = px.line(df, x=\"EX_btd_RR_e\", y=list(set(df.columns.tolist())-set(\"EX_btd_RR_e\")))\n",
    "\n",
    "fig.update_layout(    \n",
    "    paper_bgcolor='rgba(0,0,0,0)',\n",
    "    plot_bgcolor='rgba(0,0,0,0)',\n",
    "    title=dict(text='FSEOF result for isobutanol production knocking out POR5', x=0.5),\n",
    "    xaxis=dict(title='Isobutanol Flux', showline=True, linewidth=3.0, linecolor='black',\n",
    "               ticks=\"inside\", tickwidth=3.0, tickcolor='black', ticklen=5),\n",
    "    yaxis=dict(title='Flux of top coupled reactions', showline=True, linewidth=3.0, linecolor='black',\n",
    "               ticks=\"inside\", tickwidth=3.0, tickcolor='black', ticklen=5),\n",
    "    font=dict(size=26),\n",
    "    legend=dict(title='Reactions', font=dict(size=16), y=0.5)\n",
    ")\n",
    "\n",
    "fig.update_traces(line=dict(width=3.0))\n",
    "\n",
    "fig.show()\n",
    "fig.write_image('FSEOF_DEL_POR5.svg')"
   ]
  }
 ],
 "metadata": {
  "kernelspec": {
   "display_name": "Python 3 (ipykernel)",
   "language": "python",
   "name": "python3"
  },
  "language_info": {
   "codemirror_mode": {
    "name": "ipython",
    "version": 3
   },
   "file_extension": ".py",
   "mimetype": "text/x-python",
   "name": "python",
   "nbconvert_exporter": "python",
   "pygments_lexer": "ipython3",
   "version": "3.9.7"
  }
 },
 "nbformat": 4,
 "nbformat_minor": 5
}
